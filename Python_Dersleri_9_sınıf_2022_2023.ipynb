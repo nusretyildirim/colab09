{
  "nbformat": 4,
  "nbformat_minor": 0,
  "metadata": {
    "colab": {
      "provenance": [],
      "toc_visible": true
    },
    "kernelspec": {
      "name": "python3",
      "display_name": "Python 3"
    },
    "language_info": {
      "name": "python"
    }
  },
  "cells": [
    {
      "cell_type": "markdown",
      "source": [
        "# Python Öğreniyorum 👽"
      ],
      "metadata": {
        "id": "DNa9qNSpklf5"
      }
    },
    {
      "cell_type": "markdown",
      "source": [
        "# Ekrana Nasıl Yazdırılır?"
      ],
      "metadata": {
        "id": "34EmBVhbl_mW"
      }
    },
    {
      "cell_type": "markdown",
      "source": [
        "```\n",
        "print(ifade)\n",
        "```\n",
        "\n"
      ],
      "metadata": {
        "id": "rta9RMUjtojb"
      }
    },
    {
      "cell_type": "code",
      "execution_count": null,
      "metadata": {
        "colab": {
          "base_uri": "https://localhost:8080/"
        },
        "id": "4DAil_lnkF3d",
        "outputId": "05626835-abee-456d-8a98-76e5908ccc56"
      },
      "outputs": [
        {
          "output_type": "stream",
          "name": "stdout",
          "text": [
            "Merhaba Dünya!!!\n",
            "Python\n",
            "Python\n",
            "Python\n",
            "Python\n",
            "Python\n",
            "\n",
            "Python Öğreniyorum\n"
          ]
        }
      ],
      "source": [
        "print(\"Merhaba Dünya!!!\")\n",
        "print(5* \"Python\\n\")\n",
        "print('Python Öğreniyorum')"
      ]
    },
    {
      "cell_type": "markdown",
      "source": [
        "ÖDEV 1: Kendinizi tanıtan 10 satırlık python programı yazın. ⭐"
      ],
      "metadata": {
        "id": "mKgxRjmmXMBA"
      }
    },
    {
      "cell_type": "markdown",
      "source": [
        "# Açıklama Satırı Nasıl Eklenir?"
      ],
      "metadata": {
        "id": "hX1kPievsqT7"
      }
    },
    {
      "cell_type": "code",
      "source": [
        "# AÇIKLAMA SATIRI\n",
        "# Bu program Enes tarafından yazılmıştır.\n",
        "print(\"merhaba FEN 9/A\")   #bu satır ekrana yazıyı yazar.\n",
        "\n",
        "'''\n",
        "Açıklama paragrafı \n",
        "birden fazla \n",
        "satır olabilir.\n",
        "Bu satırlar işlem görmez.\n",
        "Açıklama satırı/satırları programcılar (kod yazarı) içindir.\n",
        "'''"
      ],
      "metadata": {
        "colab": {
          "base_uri": "https://localhost:8080/",
          "height": 53
        },
        "id": "xjFXnptvXTfx",
        "outputId": "ae196ad3-2921-4b6a-e6de-faecd0751f18"
      },
      "execution_count": null,
      "outputs": [
        {
          "output_type": "stream",
          "name": "stdout",
          "text": [
            "merhaba FEN 9/A\n"
          ]
        },
        {
          "output_type": "execute_result",
          "data": {
            "text/plain": [
              "'\\nAçıklama paragrafı \\nbirden fazla \\nsatır olabilir.\\nBu satırlar işlem görmez.\\nAçıklama satırı/satırları programcılar (kod yazarı) içindir.\\n'"
            ],
            "application/vnd.google.colaboratory.intrinsic+json": {
              "type": "string"
            }
          },
          "metadata": {},
          "execution_count": 9
        }
      ]
    },
    {
      "cell_type": "markdown",
      "source": [
        "# Veri Türleri Nelerdir?"
      ],
      "metadata": {
        "id": "HQ_31oXTtFDM"
      }
    },
    {
      "cell_type": "code",
      "source": [
        "# Veri tipleri \n",
        "a = \"ANKARA\"  #str\n",
        "b = 1881      #sayısal int\n",
        "ort = 95.89   #sayısal float\n",
        "\n",
        "print(a)\n",
        "print(2022-b)\n",
        "print(ort)\n",
        "\n",
        "print(type(a))\n",
        "print(type(b))\n",
        "print(type(ort))"
      ],
      "metadata": {
        "id": "VYJiBkuzdm7o",
        "colab": {
          "base_uri": "https://localhost:8080/"
        },
        "outputId": "5ba38f88-bac7-4777-cf56-807153eaf672"
      },
      "execution_count": null,
      "outputs": [
        {
          "output_type": "stream",
          "name": "stdout",
          "text": [
            "ANKARA\n",
            "141\n",
            "95.89\n",
            "<class 'str'>\n",
            "<class 'int'>\n",
            "<class 'float'>\n"
          ]
        }
      ]
    },
    {
      "cell_type": "code",
      "source": [
        "#Dikdörtgen çevresi\n",
        "ciftci = \"MEHMET AĞAOĞLU\"\n",
        "uk = 120\n",
        "kk = 119\n",
        "cev = (uk+kk)*2\n",
        "print(cev)\n",
        "print(ciftci, \"nun tarlasının çevresi \", cev, \"birimdir.\")"
      ],
      "metadata": {
        "colab": {
          "base_uri": "https://localhost:8080/"
        },
        "id": "3lSzUtE7dwG3",
        "outputId": "146da0fd-1617-4533-87ac-9575d104c6ec"
      },
      "execution_count": null,
      "outputs": [
        {
          "output_type": "stream",
          "name": "stdout",
          "text": [
            "478\n",
            "MEHMET AĞAOĞLU nın tarlasının çevresi  478 birimdir.\n"
          ]
        }
      ]
    },
    {
      "cell_type": "markdown",
      "source": [
        "Ödev 2: Karenin alanını hesaplayıp sahibinin adıyla beraber yazan Python programını yazın. ⭐"
      ],
      "metadata": {
        "id": "5VQZdn4gfM8f"
      }
    },
    {
      "cell_type": "markdown",
      "source": [
        "# Hesaplama İşlemleri Nasıl Yapılır?"
      ],
      "metadata": {
        "id": "xKdAhzjZtLZD"
      }
    },
    {
      "cell_type": "markdown",
      "source": [
        "```\n",
        " + toplama \n",
        " - çıkarma \n",
        " * çarpma \n",
        " / bölme sembolüdür.\n",
        "```\n",
        "\n"
      ],
      "metadata": {
        "id": "QZldba8Cg9kg"
      }
    },
    {
      "cell_type": "markdown",
      "source": [
        "Ödev 3: Yurt dışı gezisine çıkacaksınız. 5000 TL ile kaç dolar alabilirsiniz? İsminizle birlikte ekrana yazsın. (kur= 18.5645 olsun.) ⭐"
      ],
      "metadata": {
        "id": "FauXstt1ikZ3"
      }
    },
    {
      "cell_type": "markdown",
      "source": [
        "Ödev 4: Yaşınızı hesaplayan ve adınızla birlikte yazan python programını yazın. ⭐"
      ],
      "metadata": {
        "id": "km72Jv0Xk-kA"
      }
    },
    {
      "cell_type": "markdown",
      "source": [
        "# Bilgisayar Nasıl Karar Verir?\n",
        "\n",
        "if komutunu kullanacağız.\n",
        "```\n",
        "if\n",
        "if-else\n",
        "if-elif\n",
        "```\n",
        "\n"
      ],
      "metadata": {
        "id": "-8bOSiudhmPj"
      }
    },
    {
      "cell_type": "code",
      "source": [
        "#Farklı yıllardaki önemli olayları hatırlatan program.\n",
        "y = 1881\n",
        "if y==1881:\n",
        " print(\"Mustafa Kemal doğdu.\")\n",
        " print(\"Selanik'te.\")\n",
        "if y==1923:\n",
        "  print(\"Cumhuriyet ilan edildi.\")\n",
        "  print(\"Ankara'da.\")"
      ],
      "metadata": {
        "colab": {
          "base_uri": "https://localhost:8080/"
        },
        "id": "KFhVkwYWmF_G",
        "outputId": "3d2fcb49-13f4-466a-ab30-d14f5bce5605"
      },
      "execution_count": null,
      "outputs": [
        {
          "output_type": "stream",
          "name": "stdout",
          "text": [
            "Mustafa Kemal doğdu.\n",
            "Selanik'te.\n"
          ]
        }
      ]
    },
    {
      "cell_type": "code",
      "source": [
        "#Yaş ve cinisyete göre karar veren program.\n",
        "yas = 21\n",
        "cinsiyet = \"K\"\n",
        "if yas>=20 and cinsiyet==\"E\":\n",
        "    print(\"Askere gitmeli.\")\n",
        "    print(3* \"Güle güle\\n\")\n",
        "if yas>=20 and cinsiyet==\"K\":\n",
        "  print(\"Türkiye'de kadınların askere gitme zorunluluğu yoktur.\")\n",
        "if yas<20:\n",
        "  print(\"Sen daha küçüksün.\")"
      ],
      "metadata": {
        "id": "Mj1oFgUspqnF",
        "colab": {
          "base_uri": "https://localhost:8080/"
        },
        "outputId": "b3a64c6d-9caa-46a6-a76f-bf62a0b375d8"
      },
      "execution_count": null,
      "outputs": [
        {
          "output_type": "stream",
          "name": "stdout",
          "text": [
            "Türkiye'de kadınların askere gitme zorunluluğu yoktur.\n"
          ]
        }
      ]
    },
    {
      "cell_type": "markdown",
      "source": [
        "# For Döngüsü (loop) - 05.12.2022"
      ],
      "metadata": {
        "id": "0jxtM9_quW2k"
      }
    },
    {
      "cell_type": "code",
      "source": [
        "#for döngüsü\n",
        "for a in range(5):  #0 1 2 3 4 \n",
        "  print(\"Hello World\")"
      ],
      "metadata": {
        "colab": {
          "base_uri": "https://localhost:8080/"
        },
        "id": "zmUCengr9PEH",
        "outputId": "16bfe8bf-c05a-4bbf-f40e-cbd364585db9"
      },
      "execution_count": null,
      "outputs": [
        {
          "output_type": "stream",
          "name": "stdout",
          "text": [
            "0 Hello Python!\n",
            "1 Hello Python!\n",
            "2 Hello Python!\n",
            "3 Hello Python!\n",
            "4 Hello Python!\n"
          ]
        }
      ]
    },
    {
      "cell_type": "code",
      "source": [
        "# 0-20 arasındaki ÇİFT sayılar\n",
        "for sayi in range(0,20,2):   #Başlangıç değeri dahil, bitiş değeri dahil değildir.\n",
        "  print(sayi)"
      ],
      "metadata": {
        "colab": {
          "base_uri": "https://localhost:8080/"
        },
        "id": "dIske1jg9tLv",
        "outputId": "30da4af0-9f14-42b4-d28e-838c54fe1e95"
      },
      "execution_count": null,
      "outputs": [
        {
          "output_type": "stream",
          "name": "stdout",
          "text": [
            "0\n",
            "2\n",
            "4\n",
            "6\n",
            "8\n",
            "10\n",
            "12\n",
            "14\n",
            "16\n",
            "18\n"
          ]
        }
      ]
    },
    {
      "cell_type": "code",
      "source": [
        "#üçgen çizdir\n",
        "'''\n",
        "*\n",
        "**\n",
        "***\n",
        "****\n",
        "*****\n",
        "******\n",
        "'''\n",
        "import random\n",
        "deger = random.randint(5,25)\n",
        "print(deger)\n",
        "for i in range(deger):\n",
        "  print(i*\"@\")"
      ],
      "metadata": {
        "colab": {
          "base_uri": "https://localhost:8080/"
        },
        "id": "vwfZNAt8rGm9",
        "outputId": "5263f599-0d39-42e8-a368-0be65f79fddc"
      },
      "execution_count": null,
      "outputs": [
        {
          "output_type": "stream",
          "name": "stdout",
          "text": [
            "18\n",
            "\n",
            "@\n",
            "@@\n",
            "@@@\n",
            "@@@@\n",
            "@@@@@\n",
            "@@@@@@\n",
            "@@@@@@@\n",
            "@@@@@@@@\n",
            "@@@@@@@@@\n",
            "@@@@@@@@@@\n",
            "@@@@@@@@@@@\n",
            "@@@@@@@@@@@@\n",
            "@@@@@@@@@@@@@\n",
            "@@@@@@@@@@@@@@\n",
            "@@@@@@@@@@@@@@@\n",
            "@@@@@@@@@@@@@@@@\n",
            "@@@@@@@@@@@@@@@@@\n"
          ]
        }
      ]
    },
    {
      "cell_type": "code",
      "source": [
        "#Math exercises\n",
        "soz = [\"Günaydınnn\",\"Güno!\",\"Sabahın aydın olsun!\"]\n",
        "import random\n",
        "x=0\n",
        "while x<5:\n",
        "  i = random.randint(0,2)\n",
        "  print(soz[i])\n",
        "  x=x+1\n",
        "  a = random.randint(6,16)\n",
        "  b = random.randint(5,15)\n",
        "  print(\"Question\",x,\": Math exercises :\",a,\"-\",b,\"=?\")\n",
        "  dc = a-b\n",
        "  cevap = int(input(\"Result?\"))\n",
        "  if dc==cevap:\n",
        "    print(\"Thank a lot!\")\n",
        "  else:\n",
        "    print(\"I'm sad!\")"
      ],
      "metadata": {
        "id": "TbNW0RHFtNO1"
      },
      "execution_count": null,
      "outputs": []
    },
    {
      "cell_type": "markdown",
      "source": [
        "# Klavyeden değer girişi"
      ],
      "metadata": {
        "id": "F-F1mK9vDdWn"
      }
    },
    {
      "cell_type": "code",
      "source": [
        "a = 8999\n",
        "isim = \"ADA LAVRENCE\"\n",
        "print(a, isim)"
      ],
      "metadata": {
        "colab": {
          "base_uri": "https://localhost:8080/"
        },
        "id": "_RVS0PiWDol9",
        "outputId": "d438a6b1-e588-4a8e-e154-ffb31de04379"
      },
      "execution_count": null,
      "outputs": [
        {
          "output_type": "stream",
          "name": "stdout",
          "text": [
            "8999 ADA LAVRENCE\n"
          ]
        }
      ]
    },
    {
      "cell_type": "code",
      "source": [
        "a = int(input(\"Sayınızı giriniz: \"))  #integer, tamsayı\n",
        "isim = input(\"İsiminiz nedir?\")\n",
        "print(a+10, isim)\n",
        "print(type(a))\n",
        "print(type(isim))"
      ],
      "metadata": {
        "colab": {
          "base_uri": "https://localhost:8080/"
        },
        "id": "gqz0kexmEGRO",
        "outputId": "efb88ba5-2afe-4185-9248-48c61d9a88f1"
      },
      "execution_count": null,
      "outputs": [
        {
          "output_type": "stream",
          "name": "stdout",
          "text": [
            "Sayınızı giriniz: 50\n",
            "İsiminiz nedir?SEZİN\n",
            "60 SEZİN\n",
            "<class 'int'>\n",
            "<class 'str'>\n"
          ]
        }
      ]
    },
    {
      "cell_type": "code",
      "source": [
        "#İki sayının toplamı\n",
        "a = int(input(\"1.değer: \"))\n",
        "b = int(input(\"2.değer: \"))\n",
        "topla =  a+b\n",
        "print(\"Sayıların toplamı: \", topla)"
      ],
      "metadata": {
        "colab": {
          "base_uri": "https://localhost:8080/"
        },
        "id": "aAhvJ7ZVFVld",
        "outputId": "d99a8144-be86-469b-8f60-ad0b511249a1"
      },
      "execution_count": null,
      "outputs": [
        {
          "output_type": "stream",
          "name": "stdout",
          "text": [
            "1.değer: 56\n",
            "2.değer: 656\n",
            "Sayıların toplamı:  712\n"
          ]
        }
      ]
    }
  ]
}