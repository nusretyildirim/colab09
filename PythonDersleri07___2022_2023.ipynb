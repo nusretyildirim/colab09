{
  "nbformat": 4,
  "nbformat_minor": 0,
  "metadata": {
    "colab": {
      "provenance": [],
      "collapsed_sections": [
        "gQxBsaaBoWyI",
        "t-WO-KAiTDxf",
        "CPEBwNi1UX3w",
        "0sjybv_XvRmR"
      ]
    },
    "kernelspec": {
      "name": "python3",
      "display_name": "Python 3"
    },
    "language_info": {
      "name": "python"
    }
  },
  "cells": [
    {
      "cell_type": "markdown",
      "source": [
        "#**7.SINIFLAR PYTHON DEFTERİ** - 2022-2023 ÖĞRETİM YILI\n",
        "\n"
      ],
      "metadata": {
        "id": "7gwS_jn7meNJ"
      }
    },
    {
      "cell_type": "markdown",
      "source": [
        "## 1-Python'da ekrana yazdırma işlemi nasıl yapılır? 👽"
      ],
      "metadata": {
        "id": "-zjs3lJimYHc"
      }
    },
    {
      "cell_type": "code",
      "execution_count": null,
      "metadata": {
        "colab": {
          "base_uri": "https://localhost:8080/"
        },
        "id": "iRWFr4bZmD2m",
        "outputId": "6b0d9676-2eaa-491d-b323-944d2de8e785"
      },
      "outputs": [
        {
          "output_type": "stream",
          "name": "stdout",
          "text": [
            "Merhaba Dünya!\n",
            "Python Python Python Python Python \n",
            "==============================\n",
            "Guido van Rossum\n",
            " Hollandalı\n",
            " bilgisayar programcısı,\n",
            " Python programlama dilinin\n",
            " yazarıdır.\n",
            "Program sona erdi.\n"
          ]
        }
      ],
      "source": [
        "print(\"Merhaba Dünya!\")\n",
        "print(5 * \"Python \")\n",
        "print(30 * \"=\")\n",
        "print(\"Guido van Rossum\\n Hollandalı\\n bilgisayar programcısı,\\n Python programlama dilinin\\n yazarıdır.\")\n",
        "print(\"Program sona erdi.\")"
      ]
    },
    {
      "cell_type": "markdown",
      "source": [
        "### 1.Ödev: 20 satırlık python kodu ile kendinizi tanıtan program yazınız. ⭐"
      ],
      "metadata": {
        "id": "1gOLCaP9nP14"
      }
    },
    {
      "cell_type": "markdown",
      "source": [
        "## 2-Hesaplama Yapalım 👽"
      ],
      "metadata": {
        "id": "QTuOLY9Up-36"
      }
    },
    {
      "cell_type": "markdown",
      "source": [
        "```\n",
        " + toplama \n",
        " - çıkarma \n",
        " * çarpma \n",
        " / bölme sembolüdür.\n",
        "```"
      ],
      "metadata": {
        "id": "DOLeAxPiqImo"
      }
    },
    {
      "cell_type": "markdown",
      "source": [
        "Veri türleri: str, int, float"
      ],
      "metadata": {
        "id": "_7uhBLcRXU4G"
      }
    },
    {
      "cell_type": "code",
      "source": [
        "# str veri türü\n",
        "a = \"ALİ DERAN\"\n",
        "b = \"ANKARA\"\n",
        "c = 'TÜRKİYE'\n",
        "print(a, b, c)\n",
        "print(type(a))"
      ],
      "metadata": {
        "colab": {
          "base_uri": "https://localhost:8080/"
        },
        "id": "cOD9zXLlXdlM",
        "outputId": "a8c33022-3170-4212-fa47-9f422c4fb986"
      },
      "execution_count": null,
      "outputs": [
        {
          "output_type": "stream",
          "name": "stdout",
          "text": [
            "ALİ DERAN ANKARA TÜRKİYE\n",
            "<class 'str'>\n"
          ]
        }
      ]
    },
    {
      "cell_type": "code",
      "source": [
        "# int veri türü, tamsayı\n",
        "d = 1923\n",
        "e = 1881\n",
        "print(type(d))\n",
        "k = 2022 - d      #Cumhuriyet'imizin yaşı hesaplandı.\n",
        "print(\"Cumhuriyet kaç yaşında?\", k )"
      ],
      "metadata": {
        "colab": {
          "base_uri": "https://localhost:8080/"
        },
        "id": "_AZxL2aXZe4d",
        "outputId": "d988d325-63cd-4890-e5cc-cbd05a3133e1"
      },
      "execution_count": null,
      "outputs": [
        {
          "output_type": "stream",
          "name": "stdout",
          "text": [
            "<class 'int'>\n",
            "Cumhuriyet kaç yaşında? 99\n"
          ]
        }
      ]
    },
    {
      "cell_type": "markdown",
      "source": [
        "## Veri Türleri"
      ],
      "metadata": {
        "id": "kr3NjbRLmAeV"
      }
    },
    {
      "cell_type": "code",
      "source": [
        "# float veri türü, ondalıklı sayısal değer\n",
        "kur = 18.4243   #dolar kuru\n",
        "kur2 = 17.8786   #euro kuru\n",
        "print(type(kur))"
      ],
      "metadata": {
        "colab": {
          "base_uri": "https://localhost:8080/"
        },
        "id": "-ZAIshWnZf3N",
        "outputId": "9d1734ba-b24d-44f6-ca1b-5068b04ddfca"
      },
      "execution_count": null,
      "outputs": [
        {
          "output_type": "stream",
          "name": "stdout",
          "text": [
            "<class 'float'>\n"
          ]
        }
      ]
    },
    {
      "cell_type": "code",
      "source": [
        "a = 90\n",
        "b = 95\n",
        "ortalama = (a + b )/2\n",
        "print(\"ortalamanız \")\n",
        "print(ortalama)\n",
        "print(\"ortalamanız:\", ortalama)"
      ],
      "metadata": {
        "colab": {
          "base_uri": "https://localhost:8080/"
        },
        "id": "w6U2NZHp9z7U",
        "outputId": "e16f44f7-13c3-4945-eaab-18d9130736f9"
      },
      "execution_count": null,
      "outputs": [
        {
          "output_type": "stream",
          "name": "stdout",
          "text": [
            "ortalamanız \n",
            "92.5\n",
            "ortalamanız: 92.5\n"
          ]
        }
      ]
    },
    {
      "cell_type": "markdown",
      "source": [
        "ÖDEV 3: Yaşınızı hesapla"
      ],
      "metadata": {
        "id": "XxcFinVwcDlf"
      }
    },
    {
      "cell_type": "code",
      "source": [
        "# iki sayını toplamını hesaplar.\n",
        "a = 10\n",
        "b = 20\n",
        "toplam = a + b\n",
        "print(\"Sayıların toplamı=\")\n",
        "print(toplam)\n",
        "print(\"Sayıların toplam\",  toplam)"
      ],
      "metadata": {
        "colab": {
          "base_uri": "https://localhost:8080/"
        },
        "id": "85z4-yASngdX",
        "outputId": "8aaa22d2-645f-4343-91e4-76148ad7f8d5"
      },
      "execution_count": null,
      "outputs": [
        {
          "output_type": "stream",
          "name": "stdout",
          "text": [
            "Sayıların toplamı=\n",
            "30\n",
            "Sayıların toplam 30\n"
          ]
        }
      ]
    },
    {
      "cell_type": "markdown",
      "source": [
        "### 2.ÖDEV: 4 Tane sayının toplamı, çarpımını hesaplayan program yazın. ⭐"
      ],
      "metadata": {
        "id": "1j8MK4t-nvMY"
      }
    },
    {
      "cell_type": "markdown",
      "source": [
        "## 3-Python'da açıklama satır/satırları nasıl yazılır? 👽\n",
        "Açıklama satırları bizim içindir. Bilgisayar bu satırları görmez, çalıştırmaz."
      ],
      "metadata": {
        "id": "gQxBsaaBoWyI"
      }
    },
    {
      "cell_type": "code",
      "source": [
        "#Bu satır açıklama satırıdır.\n",
        "#Bu program ekrana birşey yazmaz, hiç bir şey yapmaz.\n",
        "#O zaman niye yazdık diyebilirsin. Kendimiz için.\n",
        "#Kod yazarı kendisi için açıklamaları böyle yazar."
      ],
      "metadata": {
        "id": "lADII3-koFsJ"
      },
      "execution_count": null,
      "outputs": []
    },
    {
      "cell_type": "code",
      "source": [
        "'''\n",
        "Bu satırlar açıklama satırlarıdır/paragrafıdır.\n",
        "O zaman niye yazdık diyebilirsin. Kendimiz için.\n",
        "Kod yazarı kendisi için açıklamaları böyle yazar.\n",
        "print(\"7.sınıflar Merhaba!\")\n",
        "'''\n",
        "#Üstteki kod satırı ekrana birşey yazmaz.\n",
        "#Üstteki paragraf (2-5.satırlar) açıklamadır. 3 tane ' (tek tırnak) ile başlar/biter.\n",
        "#Alttaki kod satırı ekrana cümleyi yazar.\n",
        "\n",
        "print(\"Bu program Python'da açıklama satırlarına/paragrafına örnek olsun diye yazıldı.\")"
      ],
      "metadata": {
        "colab": {
          "base_uri": "https://localhost:8080/"
        },
        "id": "804Fgm2roHAZ",
        "outputId": "6c57a143-246b-4e4b-c9f7-017b52658c3b"
      },
      "execution_count": null,
      "outputs": [
        {
          "output_type": "stream",
          "name": "stdout",
          "text": [
            "Bu program Python'da açıklama satırlarına/paragrafına örnek olsun diye yazıldı.\n"
          ]
        }
      ]
    },
    {
      "cell_type": "markdown",
      "source": [
        "## 4-Python'de Değişkenler ve Değişkenlere Değer Atama"
      ],
      "metadata": {
        "id": "t-WO-KAiTDxf"
      }
    },
    {
      "cell_type": "markdown",
      "source": [
        "Bilgisayarlar problemleri çözmek için süreç boyunca sabit ve değişken olarak adlandırılan verileri kullanır. <br> <i>Örneğin, pi değeri değişmeyen bir değer olacağı için sabit olarak tanımlanmalıdır. Sabitlerin tam tersi şekilde bir ‘değişken’ tanımlandığında değeri, program çalıştığı sürece değişebilir.</i>\n",
        "\n",
        "Alttaki örnekte a isimli değişkenin değeri 3 kez değişmiştir.\n",
        "```\n",
        "pi = 3.14\n",
        "a = 10    # a nın değeri 10\n",
        "a = 10/2  # a nın değeri şimdi 5 \n",
        "a = a*3   # a nın değeri şimdi 15 oldu\n",
        "```\n",
        "\n"
      ],
      "metadata": {
        "id": "RfSMqB1cTNGX"
      }
    },
    {
      "cell_type": "code",
      "source": [
        "#Atama işlemi, Çoklu atama\n",
        "isim = \"DENİZ ALP\"\n",
        "ulke = 'TÜRKİYE'\n",
        "yil = 2010\n",
        "t, ayr = 30, 8\n",
        "il, nu, harclik = \"ANKARA\" , 234, 50\n",
        "print(\"Tostun fiyatı\")\n",
        "print(t)\n",
        "print(\"TL\")\n",
        "print(\"Tostun fiyatı\", t, \"TL\")\n",
        "print(harclik, \"TL harçlığınız var. Güle güle harcayın.\")   #Harçlık yazdırıldı.\n",
        "yas = 2022 - yil        #Yaşı hesapladı.\n",
        "print(\"Yaşınız : \", yas)  #Yaş ekrana yazdırıldı.\n",
        "harcama = t + ayr\n",
        "print(\"Harcadığınız miktar \", harcama, \"TL\")"
      ],
      "metadata": {
        "id": "GImcR4TvUkum",
        "colab": {
          "base_uri": "https://localhost:8080/"
        },
        "outputId": "0ca31a1e-54b2-4511-c096-a45ebabb7244"
      },
      "execution_count": null,
      "outputs": [
        {
          "output_type": "stream",
          "name": "stdout",
          "text": [
            "Tostun fiyatı\n",
            "30\n",
            "TL\n",
            "Tostun fiyatı 30 TL\n",
            "50 TL harçlığınız var. Güle güle harcayın.\n",
            "Yaşınız :  12\n",
            "Harcadığınız miktar  38 TL\n"
          ]
        }
      ]
    },
    {
      "cell_type": "code",
      "source": [
        "#Atama Zeki Müren\n",
        "isim = \"Zeki Müren\"\n",
        "dyer = 'Bursa'   #str - metinsel\n",
        "boy = 1.74       #float - ondalıklı sayısal veri\n",
        "oyili = 1996     #int - tamsayı\n",
        "dyili = 1931     \n",
        "lakap = {\"Paşa\", \"Sanat güneşi\"}   #list - liste\n",
        "lakap2 = [\"Paşa\", \"Sanat güneşi\"]  #liste\n",
        "print(isim)\n",
        "print(dyer)\n",
        "print(boy)\n",
        "print(lakap)\n",
        "print(type(lakap2))"
      ],
      "metadata": {
        "colab": {
          "base_uri": "https://localhost:8080/"
        },
        "id": "B9HMvcMF4olL",
        "outputId": "970b5fe4-530a-4fbf-9f8c-d5318e88a1cf"
      },
      "execution_count": null,
      "outputs": [
        {
          "output_type": "stream",
          "name": "stdout",
          "text": [
            "Zeki Müren\n",
            "Bursa\n",
            "1.74\n",
            "{'Sanat güneşi', 'Paşa'}\n",
            "<class 'list'>\n"
          ]
        }
      ]
    },
    {
      "cell_type": "markdown",
      "source": [
        "⏰ **Ders İçi Uygulama**<br>\n",
        "Siz de; adınızı, doğum yerinizi, doğum yılınızı, satın aldığınız (kalem, defter, kitap, USB bellek fiyatını) değişkenlere atayın. Yaşınızı ve toplam harcamanızı hesaplatıp ekrana yazdırın.\n"
      ],
      "metadata": {
        "id": "psRcZwx9VvWe"
      }
    },
    {
      "cell_type": "markdown",
      "source": [
        "☕ **5.Ödev**<br> \n",
        "Bir kitaba ait özellikleri değişkenlere atayın ve yazdırın. Kitabın 2/3 sini okuyan kaç sayfa kitap okumuştur? Hesaplatın.<br>\n",
        "* Kitabın Adı\n",
        "* Yayınevi\n",
        "* Sayfa sayısı\n",
        "* Dili\n",
        "* Yazarı\n",
        "* Basım yılı\n",
        "* Basım adedi\n"
      ],
      "metadata": {
        "id": "REDi5kX7ZJe-"
      }
    },
    {
      "cell_type": "markdown",
      "source": [
        "## 5-Karar Vermek - if- Eğer yapısı"
      ],
      "metadata": {
        "id": "CPEBwNi1UX3w"
      }
    },
    {
      "cell_type": "markdown",
      "source": [
        "if komutunda karar verme aşamasında, şart/koşul oluşturulur. Şart/koşul oluşturulurken mantıksal operatörler kullanılır.<br><br>\n",
        "Mantıksal işlem operatörleri:\n",
        "\n",
        "```\n",
        "== \tEşittir\n",
        "!= \tEşit değildir\n",
        "<\tKüçüktür\n",
        ">\tBüyüktür\n",
        "<=\tKüçük veya eşittir\n",
        ">=\tBüyük veya eşittir\n",
        "\n",
        "3 < 5 D\n",
        "5 < 3 Y\n",
        "4 == 4  D\n",
        "\n",
        "Değişkenli örnek:\n",
        "a = 9\n",
        "a > 5  true / D\n",
        "a < 5  false / Y\n",
        "```\n",
        "\n",
        "\n",
        "\n",
        "\n",
        "\n"
      ],
      "metadata": {
        "id": "Pd9xElySUuJa"
      }
    },
    {
      "cell_type": "markdown",
      "source": [
        "UYGULAMA\n",
        "\n",
        "Tarihteki önemli yıllara tepki veren bir program yazalım.\n",
        "\n",
        "* 1071 değeri için \"Malazgirt Zaferi\"\n",
        "* 1453 değeri için \"İstanbul'un fethi\"\n",
        "* 1881 değeri için \"Atatürk doğdu.\"\n",
        "* 1920 değeri için \"TBMM kuruldu.\"\n",
        "\n",
        "vb."
      ],
      "metadata": {
        "id": "_i0P2_1DXDyI"
      }
    },
    {
      "cell_type": "code",
      "source": [
        "# Girilen yıla tepki veren program\n",
        "y = 2010    #Değerimiz 2010 olsun.\n",
        "if y == 1071:  \n",
        "  print(\"Malazgirt Zaferi\")   \n",
        "if y == 1881: \n",
        "  print(y, \"yılında Atatürk doğdu.\")\n",
        "if y > 2020:\n",
        "  print(y, \"Günümüze çok yakın bir yıl..\")\n",
        "if y==2010:\n",
        "  print(\"Eren Doğdu. İyi ki doğdun!\")  "
      ],
      "metadata": {
        "colab": {
          "base_uri": "https://localhost:8080/"
        },
        "id": "W0vvgfjPXxkJ",
        "outputId": "d46282a1-b099-425e-a96a-2b742352174b"
      },
      "execution_count": null,
      "outputs": [
        {
          "output_type": "stream",
          "name": "stdout",
          "text": [
            "Eren Doğdu. İyi ki doğdun!\n"
          ]
        }
      ]
    },
    {
      "cell_type": "code",
      "source": [
        "yas = 21\n",
        "if yas>20:\n",
        "  print(\"Askere gidebilirsiniz.\")\n",
        "  print(3* \"Güle güle!\\n\")\n",
        "if yas<10:\n",
        "  print(\"Çocuklara merhaba!\")"
      ],
      "metadata": {
        "colab": {
          "base_uri": "https://localhost:8080/"
        },
        "id": "KnOvC13CMuh_",
        "outputId": "ad4bc56f-457d-4f47-f3cc-4ec0f15ae52f"
      },
      "execution_count": null,
      "outputs": [
        {
          "output_type": "stream",
          "name": "stdout",
          "text": [
            "Askere gidebilirsiniz.\n",
            "Güle güle!\n",
            "Güle güle!\n",
            "Güle güle!\n",
            "\n"
          ]
        }
      ]
    },
    {
      "cell_type": "code",
      "source": [
        "il = \"ANKARA\"\n",
        "  \n",
        "if il == \"MALATYA\":\n",
        "  print(\"Kayısı ile ünlüdür.\")\n",
        "  print(\"Trafik plaka kodu 44'tür.\")\n",
        "if il == \"ANKARA\":\n",
        "  print(\"ANKARA başkentimizdir.\")\n",
        "  print(\"Seymenleri ile ünlüdür.\")\n",
        "  print(\"Trafik plaka kodu 06'dır.\")"
      ],
      "metadata": {
        "colab": {
          "base_uri": "https://localhost:8080/"
        },
        "id": "-378pEdfOtDI",
        "outputId": "8dbc4bd5-ac51-4db7-dbe7-a08d28871785"
      },
      "execution_count": null,
      "outputs": [
        {
          "output_type": "stream",
          "name": "stdout",
          "text": [
            "ANKARA başkentimizdir.\n",
            "Seymenleri ile ünlüdür.\n",
            "Trafik plaka kodu 06'dır.\n"
          ]
        }
      ]
    },
    {
      "cell_type": "code",
      "source": [
        "#Şifreli kapıyı açalım.if kullanımı\n",
        "gir = 5966\n",
        "if gir == 159:\n",
        "  print(\"Şifre doğru.\")\n",
        "  print(\"Kapı açıldı. İyi günler.\")\n",
        "if gir != 159:\n",
        "  print(4* \"Şifre yanlış\\n\")\n",
        "  print(\"Polis karakoluna ve işyeri sahibine mesaj gönderildi.\")\n",
        "  print(\"Alarm devreye girdi.\")"
      ],
      "metadata": {
        "colab": {
          "base_uri": "https://localhost:8080/"
        },
        "id": "yKNrOF8jG4ca",
        "outputId": "31a1f9b9-708d-4164-8510-ae46e032a0f0"
      },
      "execution_count": null,
      "outputs": [
        {
          "output_type": "stream",
          "name": "stdout",
          "text": [
            "Şifre yanlış\n",
            "Şifre yanlış\n",
            "Şifre yanlış\n",
            "Şifre yanlış\n",
            "\n",
            "Polis karakoluna ve işyeri sahibine mesaj gönderildi.\n",
            "Alarm devreye girdi.\n"
          ]
        }
      ]
    },
    {
      "cell_type": "markdown",
      "source": [
        "## if - else kullanımı"
      ],
      "metadata": {
        "id": "0sjybv_XvRmR"
      }
    },
    {
      "cell_type": "code",
      "source": [
        "#Şifre. if-else\n",
        "gir = 1591\n",
        "if gir == 159:\n",
        "  print(\"Şifre doğru\")\n",
        "else:\n",
        "  print(\"Şifre hatalı.. alarm!!!\")\n",
        "  print(10* \"Alarm \")"
      ],
      "metadata": {
        "colab": {
          "base_uri": "https://localhost:8080/"
        },
        "id": "p6keaAx2f9RT",
        "outputId": "cb459a04-324a-45cd-bc4d-e236c09c410d"
      },
      "execution_count": null,
      "outputs": [
        {
          "output_type": "stream",
          "name": "stdout",
          "text": [
            "Şifre hatalı.. alarm!!!\n",
            "Alarm Alarm Alarm Alarm Alarm Alarm Alarm Alarm Alarm Alarm \n"
          ]
        }
      ]
    },
    {
      "cell_type": "code",
      "source": [
        "#Mini yarışma\n",
        "#Sayısal cevaplı soru örneği.\n",
        "\n",
        "print(\"Soru-1: 2x2=?\")\n",
        "c = int(input(\"Cevabınızı yazın.\"))\n",
        "if c==4:\n",
        "  print(\"Doğru\")\n",
        "else:\n",
        "  print(\"Yanlış.\")\n",
        "\n",
        "print(\"Soru-2: 5x8=?\")\n",
        "c= int(input(\"Cevap nedir?\"))\n",
        "if c==40:\n",
        "  print(\"Cevap doğru\")\n",
        "  print(\"10 puan kazandınız.\")\n",
        "else:\n",
        "  print(\"Yanlış\")\n",
        "  print(\"Puanınız azaldı.\")"
      ],
      "metadata": {
        "colab": {
          "base_uri": "https://localhost:8080/"
        },
        "id": "ltFoZUPQt62D",
        "outputId": "8d611ce1-4fe3-4384-f42a-29c4c43fe7e0"
      },
      "execution_count": null,
      "outputs": [
        {
          "output_type": "stream",
          "name": "stdout",
          "text": [
            "Soru-1: 2x2=?\n",
            "Cevabınızı yazın.4\n",
            "Doğru\n",
            "Soru-2: 5x8=?\n",
            "Cevap nedir?56\n",
            "Yanlış\n",
            "Puanınız azaldı.\n"
          ]
        }
      ]
    },
    {
      "cell_type": "code",
      "source": [
        "#Metinsel veri türü (str) cevaplı soru örneği.\n",
        "print(\"Hücreye enerji sağlayan organelin adı nedir?\")\n",
        "c = input(\"Cevabınızı yazın.\")\n",
        "if c==\"mitokondri\":\n",
        "  print(\"Doğru\")\n",
        "else:\n",
        "  print(\"Yanlış\")"
      ],
      "metadata": {
        "colab": {
          "base_uri": "https://localhost:8080/"
        },
        "id": "fHb6h77d0vKD",
        "outputId": "beabffe7-a001-42fc-8a65-ed019b816581"
      },
      "execution_count": null,
      "outputs": [
        {
          "output_type": "stream",
          "name": "stdout",
          "text": [
            "Hücreye enerji sağlayan organelin adı nedir?\n",
            "Cevabınızı yazın.mitokondri\n",
            "Doğru\n"
          ]
        }
      ]
    },
    {
      "cell_type": "markdown",
      "source": [
        "## and, or operatörlerinin kullanımı"
      ],
      "metadata": {
        "id": "a2XcCfkQvMbz"
      }
    },
    {
      "cell_type": "code",
      "source": [
        "#İki şifreli kapı (or)\n",
        "sif = int(input(\"Şifreyi giriniz: \"))\n",
        "if sif==123 or sif==321:\n",
        "  print(\"Şifre doğru\")\n",
        "else:\n",
        "  print(\"Hatalı şifre girişi...\")"
      ],
      "metadata": {
        "id": "tM3WGBRDvImB",
        "colab": {
          "base_uri": "https://localhost:8080/"
        },
        "outputId": "11321a73-0ff5-4d66-d4be-f84a92cbc39b"
      },
      "execution_count": null,
      "outputs": [
        {
          "output_type": "stream",
          "name": "stdout",
          "text": [
            "Şifreyi giriniz: 123\n",
            "Şifre doğru\n"
          ]
        }
      ]
    },
    {
      "cell_type": "code",
      "source": [
        "#Basketbol takımı seçmeleri (and)\n",
        "#Boy 160 cm den uzun ve 53 kg dan yukarı olanlar takıma alınacak\n",
        "boy = int(input(\"boy: \"))\n",
        "kilo = int(input(\"kilonuz: \"))\n",
        "if boy>=160 and kilo>=53:\n",
        "  print(\"Takıma seçildiniz.\")\n",
        "else:\n",
        "  print(\"Şartlarınız uygun değil.\")"
      ],
      "metadata": {
        "id": "S3fuNllnvJqx",
        "colab": {
          "base_uri": "https://localhost:8080/"
        },
        "outputId": "2095e2b6-2aed-4560-b4eb-8b5703d68308"
      },
      "execution_count": null,
      "outputs": [
        {
          "output_type": "stream",
          "name": "stdout",
          "text": [
            "boy: 161\n",
            "kilonuz: 32\n",
            "Şartlarınız uygun değil.\n"
          ]
        }
      ]
    },
    {
      "cell_type": "markdown",
      "source": [
        "ÖDEV: Askere alınma programı. Şartlar:\n",
        "1-Yaşı 20 den büyük olmalı.\n",
        "2-Kilosu 130 kg dan az olmalı.\n",
        "3-Erkek olmalı."
      ],
      "metadata": {
        "id": "RtwhAfcnKXI4"
      }
    },
    {
      "cell_type": "markdown",
      "source": [
        "## if-elif yapısı"
      ],
      "metadata": {
        "id": "lK7iQ-H8vtJc"
      }
    },
    {
      "cell_type": "code",
      "source": [
        "'''\n",
        "Sinema bileti\n",
        "10 yaşından küçükler için 10 TL\n",
        "10-50 yaş arası 30 TL\n",
        "50 yaşından büyükler için 15 TL\n",
        "'''\n",
        "yas = int(input(\"Yaşınızı giriniz: \"))\n",
        "if yas>=50:\n",
        "  print(\"15 TL\")\n",
        "elif yas>10:\n",
        "  print(\"30 TL\")\n",
        "else:\n",
        "  print(\"10 TL\")"
      ],
      "metadata": {
        "colab": {
          "base_uri": "https://localhost:8080/"
        },
        "id": "RLQmOw5vv0C7",
        "outputId": "7488692d-5b96-4208-fc42-74241497b499"
      },
      "execution_count": null,
      "outputs": [
        {
          "output_type": "stream",
          "name": "stdout",
          "text": [
            "Yaşınızı giriniz: 3\n",
            "10 TL\n"
          ]
        }
      ]
    },
    {
      "cell_type": "markdown",
      "source": [
        "ÖDEV: Öğrencinin puanı verilecek. Puanı nota çevirecek. Örnek: 95 girince 5, 80 girince 4 yazacak.\n",
        "\n",
        "`85-100 arası 5,\n",
        "84-70 arası 4,\n",
        "55-69 arası 3,\n",
        "45-54 arası 2,\n",
        "0-45 arası 1\n",
        "`\n"
      ],
      "metadata": {
        "id": "E_zqzWNM09u1"
      }
    },
    {
      "cell_type": "markdown",
      "source": [
        "Harçlığının bir kısmı ile tost alan Emirhan'ın kaç TL si kalmıştır?"
      ],
      "metadata": {
        "id": "NpZVBF1CkA_2"
      }
    },
    {
      "cell_type": "code",
      "source": [
        "#Harçlığının bir kısmı ile tost alan Emirhan'ın kaç TL si kalmıştır?\n",
        "h = int(input(\"Harçlık miktarını girin: \"))\n",
        "t = int(input(\"Tost fiyatını girin: \"))\n",
        "kalan = h - t\n",
        "print(\"Kalan harçlığı\",kalan, \"TL.\")"
      ],
      "metadata": {
        "colab": {
          "base_uri": "https://localhost:8080/"
        },
        "id": "gyhDNliwq2U2",
        "outputId": "fcc9276e-f4fc-44a9-ec5e-1dc183460c53"
      },
      "execution_count": null,
      "outputs": [
        {
          "output_type": "stream",
          "name": "stdout",
          "text": [
            "Harçlık miktarını girin: 40\n",
            "Tost fiyatını girin: 12\n",
            "Kalan harçlığı 28 TL.\n"
          ]
        }
      ]
    },
    {
      "cell_type": "code",
      "source": [
        "#Yazılı öncesi. Başarılar.\n",
        "a= 90\n",
        "b= a * 10\n",
        "print(\"Sayının 10 katı:\",b)\n",
        "print(6* \"Merhaba\\n\")\n",
        "c = int(input(\"Sayınız: \"))\n",
        "if c>100:\n",
        "   print(\"sayınız 100 den büyük\")\n",
        "isim = input(\"Adınız nedir?\")\n",
        "print(\"Merhaba\", isim)\n",
        "harclik = 20\n",
        "tost = 25\n",
        "if harclik>=tost:\n",
        "  print(\"Afiyet olsun\")\n",
        "else:\n",
        "  print(\"Paranız yetmiyor tost almaya.\")"
      ],
      "metadata": {
        "colab": {
          "base_uri": "https://localhost:8080/"
        },
        "id": "bwXeb_AD70eF",
        "outputId": "c6c4b1a3-a268-4312-9ff0-e05a158b4d19"
      },
      "execution_count": null,
      "outputs": [
        {
          "output_type": "stream",
          "name": "stdout",
          "text": [
            "Sayının 10 katı: 900\n",
            "Merhaba\n",
            "Merhaba\n",
            "Merhaba\n",
            "Merhaba\n",
            "Merhaba\n",
            "Merhaba\n",
            "\n",
            "Sayınız: 120\n",
            "sayınız 100 den büyük\n",
            "Adınız nedir?ARDA\n",
            "Merhaba ARDA\n",
            "Paranız yetmiyor tost almaya.\n"
          ]
        }
      ]
    },
    {
      "cell_type": "markdown",
      "source": [
        "## Çoklu Atama Nedir?"
      ],
      "metadata": {
        "id": "MkxnDtqqSmkK"
      }
    },
    {
      "cell_type": "code",
      "source": [
        "d, yer, boy, kilo, parola = 18, \"ANKARA\", 185 , 72.6, \"yAzılı@23!\"\n"
      ],
      "metadata": {
        "id": "qaHH9I78UPZU"
      },
      "execution_count": null,
      "outputs": []
    },
    {
      "cell_type": "markdown",
      "source": [
        "## len()  fonksiyonu"
      ],
      "metadata": {
        "id": "FyRjUchHT7qp"
      }
    },
    {
      "cell_type": "code",
      "source": [
        "#len fonkiyon.. kelimenin uzunluğunu verir\n",
        "a = \"Python Öğreniyorum.!\"\n",
        "print(len(a))\n",
        "liste = [\"Çay\",\"Yumurta\",\"Zeytin\", \"Simit\", \"Süt\"]\n",
        "print(\"Kahvaltılık sayısı: \",len(liste),\"tane besin var.\")"
      ],
      "metadata": {
        "colab": {
          "base_uri": "https://localhost:8080/"
        },
        "id": "anFruInWwhLX",
        "outputId": "a05652fc-3239-4e02-f0cf-4f3c57d4c666"
      },
      "execution_count": null,
      "outputs": [
        {
          "output_type": "stream",
          "name": "stdout",
          "text": [
            "20\n",
            "Kahvaltılık sayısı:  5 tane besin var.\n"
          ]
        }
      ]
    },
    {
      "cell_type": "markdown",
      "source": [
        "## For Döngüsü"
      ],
      "metadata": {
        "id": "5GVF363QX-qB"
      }
    },
    {
      "cell_type": "code",
      "source": [
        "#24 kere mesaj\n",
        "for b in range(24):\n",
        "  print(\"Öğretmenler Gününüz Kutlu Olsun.\")\n",
        "  print(\"--------------------7A Sınıfı--.\")"
      ],
      "metadata": {
        "colab": {
          "base_uri": "https://localhost:8080/"
        },
        "id": "K2KkiKSwYtfJ",
        "outputId": "f7af0390-7ecc-46fe-b2e1-139e226dd9f0"
      },
      "execution_count": null,
      "outputs": [
        {
          "output_type": "stream",
          "name": "stdout",
          "text": [
            "Öğretmenler Gününüz Kutlu Olsun.\n",
            "--------------------7A Sınıfı--.\n",
            "Öğretmenler Gününüz Kutlu Olsun.\n",
            "--------------------7A Sınıfı--.\n",
            "Öğretmenler Gününüz Kutlu Olsun.\n",
            "--------------------7A Sınıfı--.\n",
            "Öğretmenler Gününüz Kutlu Olsun.\n",
            "--------------------7A Sınıfı--.\n",
            "Öğretmenler Gününüz Kutlu Olsun.\n",
            "--------------------7A Sınıfı--.\n",
            "Öğretmenler Gününüz Kutlu Olsun.\n",
            "--------------------7A Sınıfı--.\n",
            "Öğretmenler Gününüz Kutlu Olsun.\n",
            "--------------------7A Sınıfı--.\n",
            "Öğretmenler Gününüz Kutlu Olsun.\n",
            "--------------------7A Sınıfı--.\n",
            "Öğretmenler Gününüz Kutlu Olsun.\n",
            "--------------------7A Sınıfı--.\n",
            "Öğretmenler Gününüz Kutlu Olsun.\n",
            "--------------------7A Sınıfı--.\n",
            "Öğretmenler Gününüz Kutlu Olsun.\n",
            "--------------------7A Sınıfı--.\n",
            "Öğretmenler Gününüz Kutlu Olsun.\n",
            "--------------------7A Sınıfı--.\n",
            "Öğretmenler Gününüz Kutlu Olsun.\n",
            "--------------------7A Sınıfı--.\n",
            "Öğretmenler Gününüz Kutlu Olsun.\n",
            "--------------------7A Sınıfı--.\n",
            "Öğretmenler Gününüz Kutlu Olsun.\n",
            "--------------------7A Sınıfı--.\n",
            "Öğretmenler Gününüz Kutlu Olsun.\n",
            "--------------------7A Sınıfı--.\n",
            "Öğretmenler Gününüz Kutlu Olsun.\n",
            "--------------------7A Sınıfı--.\n",
            "Öğretmenler Gününüz Kutlu Olsun.\n",
            "--------------------7A Sınıfı--.\n",
            "Öğretmenler Gününüz Kutlu Olsun.\n",
            "--------------------7A Sınıfı--.\n",
            "Öğretmenler Gününüz Kutlu Olsun.\n",
            "--------------------7A Sınıfı--.\n",
            "Öğretmenler Gününüz Kutlu Olsun.\n",
            "--------------------7A Sınıfı--.\n",
            "Öğretmenler Gününüz Kutlu Olsun.\n",
            "--------------------7A Sınıfı--.\n",
            "Öğretmenler Gününüz Kutlu Olsun.\n",
            "--------------------7A Sınıfı--.\n",
            "Öğretmenler Gününüz Kutlu Olsun.\n",
            "--------------------7A Sınıfı--.\n"
          ]
        }
      ]
    },
    {
      "cell_type": "code",
      "source": [
        "#for 1-20 tek sayılar\n",
        "for a in range(1,20,2):\n",
        "  print(a)"
      ],
      "metadata": {
        "colab": {
          "base_uri": "https://localhost:8080/"
        },
        "id": "kWXtdJf-YKHj",
        "outputId": "bd1a87ea-7b90-483c-f017-134f8896c0a8"
      },
      "execution_count": null,
      "outputs": [
        {
          "output_type": "stream",
          "name": "stdout",
          "text": [
            "1\n",
            "3\n",
            "5\n",
            "7\n",
            "9\n",
            "11\n",
            "13\n",
            "15\n",
            "17\n",
            "19\n"
          ]
        }
      ]
    },
    {
      "cell_type": "code",
      "source": [
        "#for 1-20 çift sayılar\n",
        "for a in range(2,20,2):\n",
        "  print(a)"
      ],
      "metadata": {
        "colab": {
          "base_uri": "https://localhost:8080/"
        },
        "id": "EdOJzPrsY95q",
        "outputId": "e54ddd3f-247e-4cd7-b753-09ac304c873d"
      },
      "execution_count": null,
      "outputs": [
        {
          "output_type": "stream",
          "name": "stdout",
          "text": [
            "2\n",
            "4\n",
            "6\n",
            "8\n",
            "10\n",
            "12\n",
            "14\n",
            "16\n",
            "18\n"
          ]
        }
      ]
    },
    {
      "cell_type": "code",
      "source": [
        "#for 1-100 5 erli sayma\n",
        "for a in range(5,100,5):\n",
        "  print(a)"
      ],
      "metadata": {
        "colab": {
          "base_uri": "https://localhost:8080/"
        },
        "id": "_wCykKA5ZDLC",
        "outputId": "1c16f24f-0cc6-4a50-e76f-e9966f52f3b1"
      },
      "execution_count": null,
      "outputs": [
        {
          "output_type": "stream",
          "name": "stdout",
          "text": [
            "5\n",
            "10\n",
            "15\n",
            "20\n",
            "25\n",
            "30\n",
            "35\n",
            "40\n",
            "45\n",
            "50\n",
            "55\n",
            "60\n",
            "65\n",
            "70\n",
            "75\n",
            "80\n",
            "85\n",
            "90\n",
            "95\n",
            "100\n"
          ]
        }
      ]
    },
    {
      "cell_type": "code",
      "source": [
        "#for 100-5 5li geri sayma\n",
        "for a in range(100,0,-5):\n",
        "  print(a)"
      ],
      "metadata": {
        "colab": {
          "base_uri": "https://localhost:8080/"
        },
        "id": "FysomsWiZYMK",
        "outputId": "ecf3e60a-e152-4c3a-e279-70db7eb8d4dd"
      },
      "execution_count": null,
      "outputs": [
        {
          "output_type": "stream",
          "name": "stdout",
          "text": [
            "100\n",
            "95\n",
            "90\n",
            "85\n",
            "80\n",
            "75\n",
            "70\n",
            "65\n",
            "60\n",
            "55\n",
            "50\n",
            "45\n",
            "40\n",
            "35\n",
            "30\n",
            "25\n",
            "20\n",
            "15\n",
            "10\n",
            "5\n"
          ]
        }
      ]
    },
    {
      "cell_type": "code",
      "source": [
        "#for ... dökülen harfler\n",
        "for a in \"ANKARA\" :\n",
        "  print(a)"
      ],
      "metadata": {
        "colab": {
          "base_uri": "https://localhost:8080/"
        },
        "id": "RuRvOtCmbv0a",
        "outputId": "7b73469f-0b90-4d80-e978-722356144a7b"
      },
      "execution_count": null,
      "outputs": [
        {
          "output_type": "stream",
          "name": "stdout",
          "text": [
            "A\n",
            "N\n",
            "K\n",
            "A\n",
            "R\n",
            "A\n"
          ]
        }
      ]
    },
    {
      "cell_type": "code",
      "source": [],
      "metadata": {
        "id": "fSFAH--L1_Dm"
      },
      "execution_count": null,
      "outputs": []
    },
    {
      "cell_type": "code",
      "source": [
        "#for ... dökülen harfler\n",
        "kelime = \"GİZEMLİ ÖĞRETMEN GİZEM\"\n",
        "for a in kelime:\n",
        "  print(a)"
      ],
      "metadata": {
        "colab": {
          "base_uri": "https://localhost:8080/"
        },
        "id": "Psdb71S-cGyy",
        "outputId": "2a00ea5e-dc90-47f7-cb13-d3dca47b51fc"
      },
      "execution_count": null,
      "outputs": [
        {
          "output_type": "stream",
          "name": "stdout",
          "text": [
            "G\n",
            "İ\n",
            "Z\n",
            "E\n",
            "M\n",
            "L\n",
            "İ\n",
            " \n",
            "Ö\n",
            "Ğ\n",
            "R\n",
            "E\n",
            "T\n",
            "M\n",
            "E\n",
            "N\n",
            " \n",
            "G\n",
            "İ\n",
            "Z\n",
            "E\n",
            "M\n"
          ]
        }
      ]
    },
    {
      "cell_type": "code",
      "source": [
        "#len()\n",
        "isim = \"abdurrahman uzunkavaklaraltındayataruyumazoğlugiller\"\n",
        "liste = [\"ANKARA\", \"İZMİR\", 35, 4, 55]\n",
        "print(len(isim))\n",
        "print(len(liste))"
      ],
      "metadata": {
        "colab": {
          "base_uri": "https://localhost:8080/"
        },
        "id": "yV4iuZvLayhk",
        "outputId": "8df1cc4b-b379-46b4-c10e-9c2c3a7e5589"
      },
      "execution_count": null,
      "outputs": [
        {
          "output_type": "stream",
          "name": "stdout",
          "text": [
            "52\n",
            "5\n"
          ]
        }
      ]
    },
    {
      "cell_type": "code",
      "source": [
        "a = \"bugün derse başladık\"\n",
        "uzunluk = len(a)\n",
        "for x in range(uzunluk-1, -1, -1):\n",
        "  print(a[x])"
      ],
      "metadata": {
        "colab": {
          "base_uri": "https://localhost:8080/"
        },
        "id": "42a-a3_dw39w",
        "outputId": "8576cc20-2bf2-4484-921d-fa90654bcb70"
      },
      "execution_count": null,
      "outputs": [
        {
          "output_type": "stream",
          "name": "stdout",
          "text": [
            "k\n",
            "ı\n",
            "d\n",
            "a\n",
            "l\n",
            "ş\n",
            "a\n",
            "b\n",
            " \n",
            "e\n",
            "s\n",
            "r\n",
            "e\n",
            "d\n",
            " \n",
            "n\n",
            "ü\n",
            "g\n",
            "u\n",
            "b\n"
          ]
        }
      ]
    },
    {
      "cell_type": "code",
      "source": [
        "#Kimin ismi daha uzun? Adın \"Ali\" olsun.\n",
        "a = \"Ali\"\n",
        "b = \"Zeynep\"\n",
        "if len(a) > len(b):\n",
        "  print(\"Senin adın daha uzun\")\n",
        "if len(b) > len(a):\n",
        "  print(\"Arkadaşının adı daha uzun\")\n",
        "if len(a) == len(b):\n",
        "  print(\"Eşit\")"
      ],
      "metadata": {
        "colab": {
          "base_uri": "https://localhost:8080/"
        },
        "id": "8JTdV5sz01yf",
        "outputId": "46706652-f1f7-49ea-dcc9-9a39296579c1"
      },
      "execution_count": null,
      "outputs": [
        {
          "output_type": "stream",
          "name": "stdout",
          "text": [
            "Arkadaşının adı daha uzun\n"
          ]
        }
      ]
    },
    {
      "cell_type": "code",
      "source": [
        "#ters yazdırma\n",
        "a = \"PYTHON\"\n",
        "for x in range(5,-1, -1):   #5, 4, 3, 2, 1\n",
        "  print(a[x])"
      ],
      "metadata": {
        "colab": {
          "base_uri": "https://localhost:8080/"
        },
        "id": "C1FS24NxTYU0",
        "outputId": "df6d8118-2b41-4381-d506-f79c1efba153"
      },
      "execution_count": null,
      "outputs": [
        {
          "output_type": "stream",
          "name": "stdout",
          "text": [
            "N\n",
            "O\n",
            "H\n",
            "T\n",
            "Y\n",
            "P\n"
          ]
        }
      ]
    },
    {
      "cell_type": "code",
      "source": [
        "#ters yazdırma\n",
        "a = \"python\"\n",
        "uz = len(a)\n",
        "print(\"Kelimenin uzunluğu: \", uz, \"karakter\")\n",
        "for x in range(uz-1,-1, -1):  \n",
        " print(a[x])"
      ],
      "metadata": {
        "colab": {
          "base_uri": "https://localhost:8080/"
        },
        "id": "heoPrfLhVnrg",
        "outputId": "e24075a4-8512-49a2-bb48-79d80f6f244c"
      },
      "execution_count": null,
      "outputs": [
        {
          "output_type": "stream",
          "name": "stdout",
          "text": [
            "Kelimenin uzunluğu:  6 karakter\n",
            "n\n",
            "o\n",
            "h\n",
            "t\n",
            "y\n",
            "p\n"
          ]
        }
      ]
    },
    {
      "cell_type": "markdown",
      "source": [
        "## While"
      ],
      "metadata": {
        "id": "dH1nhl0X_hdJ"
      }
    },
    {
      "cell_type": "code",
      "source": [
        "#while kullanımı\n",
        "sayi = 10\n",
        "while sayi>0:\n",
        "  sayi = int(input(\"Sayıyı giriniz:\"))\n",
        "  print(\"Klavyeden\", sayi, \"değerini girdiniz.\")\n",
        "print(3* \"\\nProgram bitti.\")"
      ],
      "metadata": {
        "id": "AQYW0Nho_mIh"
      },
      "execution_count": null,
      "outputs": []
    },
    {
      "cell_type": "code",
      "source": [
        "#while kullanımı, ilk harfi a olanları kabul et.\n",
        "kelime = \"Ankara\"\n",
        "while kelime[0]==\"a\" or kelime[0]==\"A\":\n",
        "  kelime = input(\"Kelimeyi girin:\")\n",
        "print(\"Program bitti.\")"
      ],
      "metadata": {
        "id": "XG7GhyiPBJJh"
      },
      "execution_count": null,
      "outputs": []
    },
    {
      "cell_type": "code",
      "source": [
        "#sayı tahmin oyunu\n",
        "import random\n",
        "sayi = random.randint(1,20)\n",
        "#print(sayi)\n",
        "tahmin = 0\n",
        "while sayi != tahmin:\n",
        " tahmin = int(input(\"sayınızı giriniz\"))\n",
        " if tahmin<sayi:\n",
        "   print(\"Sayınız küçük.. daha büyük değer giriniz.\")\n",
        " if tahmin>sayi:\n",
        "   print(\"Sayınız büyük.. daha küçük değer giriniz.\")\n",
        " if tahmin==sayi:\n",
        "   print(\"Bildiniz..\")\n"
      ],
      "metadata": {
        "id": "VAKiH0rty3_k"
      },
      "execution_count": null,
      "outputs": []
    },
    {
      "cell_type": "code",
      "source": [
        "#Sayı tahmin oyunu\n",
        "import random\n",
        "sayi = random.randint(1,20)\n",
        "print(sayi)\n",
        "tahmin = 0\n",
        "while tahmin != sayi:\n",
        "  tahmin= int(input(\"Tahmininizi giriniz(1-20):\"))\n",
        "  if tahmin>sayi:\n",
        "    print(\"Sayınız büyük.. daha küçük değer giriniz.\")\n",
        "  if tahmin<sayi:\n",
        "    print(\"Sayınız küçük.. daha büyük değer giriniz.\")\n",
        "  if tahmin==sayi:\n",
        "    print(\"Sayıyı bildiniz. \")"
      ],
      "metadata": {
        "id": "nRmvr49UWqzF"
      },
      "execution_count": null,
      "outputs": []
    },
    {
      "cell_type": "code",
      "source": [
        "#sayı tahmin oyunu\n",
        "import random\n",
        "sayi = random.randint(1,20)\n",
        "sayac = 0\n",
        "tahmin = 10\n",
        "isim = input(\"Adınız: \")\n",
        "\n",
        "while tahmin != sayi:\n",
        "  tahmin = int(input(\"Değer:\"))\n",
        "  sayac = sayac + 1     #sayaç 1 arttı.\n",
        "  if tahmin == sayi:\n",
        "    print(isim, sayac, \" defada bildiniz.\")\n",
        "  if tahmin>sayi:\n",
        "    print(isim, \"Sayınız büyük, daha küçük değer girin.\")\n",
        "  if tahmin<sayi:\n",
        "    print(isim, \"Sayınız küçük, lutfen daha büyük değer girmenizi rica ediyorum Efendim.\")"
      ],
      "metadata": {
        "id": "0J71LniEb9od"
      },
      "execution_count": null,
      "outputs": []
    },
    {
      "cell_type": "code",
      "source": [
        "#Matematik Alıştırmaları Yaptıran program\n",
        "import random\n",
        "a = random.randint(1,10)\n",
        "b = random.randint(1,10)\n",
        "print(\"Soru: \",a,\"+\",b,\"=?\")\n",
        "c = int(input(\"Cevabınız: \"))\n",
        "if c == a+b:\n",
        "  print(\"Harikasın!\")\n",
        "else:\n",
        "  print(\"Maalesef!\")"
      ],
      "metadata": {
        "id": "s0-7hn_zWHmA"
      },
      "execution_count": null,
      "outputs": []
    },
    {
      "cell_type": "code",
      "source": [
        "#Hediye çekilişi yapan program\n",
        "import random\n",
        "isim = [\"Efe\", \"Naz\", \"Eren\"]\n",
        "hediye = [\"PS4\", \"KALEM\", \"Kitap\", \"Laptop\"]\n",
        "a = random.randint(0,2)\n",
        "b = random.randint(0,3)\n",
        "print(isim[a], hediye[b])"
      ],
      "metadata": {
        "id": "W6o_uROSGbwJ"
      },
      "execution_count": null,
      "outputs": []
    },
    {
      "cell_type": "code",
      "source": [
        "#Rasgele soru soran program\n",
        "import random\n",
        "isim = [\"Efe\", \"Naz\", \"Eren\"]\n",
        "\n",
        "soru = [\"2x2=?\", \"9/3=?\", \"İtalyanın başkenti neresidir?\",\"7x7=?\"]\n",
        "cevap = [\"4\", \"3\", \"Roma\", \"49\"]   \n",
        "\n",
        "a = random.randint(0,2)\n",
        "b = random.randint(0,3)  #hangi soruyu soracağını belli oldu. b değişkeni ile\n",
        "print(isim[a],\"senin sorun:\")\n",
        "print(soru[b])\n",
        "c = input(\"Cevabınızı girin: \") \n",
        "if c == cevap[b] :\n",
        "  print(\"Doğru\")\n",
        "else:\n",
        "  print(\"Yanlış\")"
      ],
      "metadata": {
        "id": "sdrwQkinG_5I"
      },
      "execution_count": null,
      "outputs": []
    },
    {
      "cell_type": "code",
      "source": [
        "#Çekiliş programı\n",
        "import random\n",
        "hediye = [\"Cep Tel\",\"Kalem\",\"Saat\",\"Silgi\",\"Tost fişi\"]\n",
        "isim = [\"Toprak\", \"Zeynep\", \"Talha\", \"Emre\"]\n",
        "h = random.randint(0,4)\n",
        "i = random.randint(0,3)\n",
        "print(isim[i])\n",
        "print(hediye[h],\"kazandı.\")"
      ],
      "metadata": {
        "id": "VPa-1nOUdN0F"
      },
      "execution_count": null,
      "outputs": []
    },
    {
      "cell_type": "markdown",
      "source": [
        "⏰"
      ],
      "metadata": {
        "id": "9e6P3VV5oypW"
      }
    },
    {
      "cell_type": "code",
      "source": [
        "#dikdörtgen alanını hesaplayan program\n",
        "print(\"👽-------------👽\")\n",
        "print(\"👽-    UWU    -👽\")\n",
        "print(\"👽-------------👽\")\n",
        "print(10*\"UWU👽 \")\n",
        "print(\"UWU grubu bu programı yazdı.⏰\")\n",
        "print(\"UWU grubu sizi selamlıyor.\")\n",
        "for i in \"UWU\":\n",
        "  print(i)\n",
        "a = 2\n",
        "b = 10\n",
        "alan = a*b\n",
        "print(alan, \"metre karedir.\")\n",
        "if alan>100:\n",
        "  print(\"ooooo alan büyükmüş\")\n",
        "if alan<50:\n",
        "  print(\"Alan çok küçük, sanırım bu bir bahçe\")"
      ],
      "metadata": {
        "colab": {
          "base_uri": "https://localhost:8080/"
        },
        "id": "8V0koU2wZ1cb",
        "outputId": "00bddeba-b5f5-4ef3-a324-5f0c84255ee3"
      },
      "execution_count": null,
      "outputs": [
        {
          "output_type": "stream",
          "name": "stdout",
          "text": [
            "👽-------------👽\n",
            "👽-    UWU    -👽\n",
            "👽-------------👽\n",
            "UWU👽 UWU👽 UWU👽 UWU👽 UWU👽 UWU👽 UWU👽 UWU👽 UWU👽 UWU👽 \n",
            "UWU grubu bu programı yazdı.⏰\n",
            "UWU grubu sizi selamlıyor.\n",
            "U\n",
            "W\n",
            "U\n",
            "20 metre karedir.\n",
            "Alan çok küçük, sanırım bu bir bahçe\n"
          ]
        }
      ]
    },
    {
      "cell_type": "code",
      "source": [
        "import time\n",
        "print(\"merhaba\")\n",
        "time.sleep(10)\n",
        "print(\"merhaba\")"
      ],
      "metadata": {
        "colab": {
          "base_uri": "https://localhost:8080/"
        },
        "id": "unDb04WpdXxx",
        "outputId": "3b64335d-15aa-47d7-8f0b-ade56f3c7d4f"
      },
      "execution_count": null,
      "outputs": [
        {
          "output_type": "stream",
          "name": "stdout",
          "text": [
            "merhaba\n",
            "merhaba\n"
          ]
        }
      ]
    },
    {
      "cell_type": "markdown",
      "source": [
        "## Fonksiyon Tanımlama"
      ],
      "metadata": {
        "id": "nF0WLeE5km7f"
      }
    },
    {
      "cell_type": "code",
      "source": [
        "#Fonksiyon tanımlama\n",
        "def ahmet():\n",
        "  print(\"Ben Ahmet\")\n",
        "  print(\"Yüzücüyüm\")\n",
        "  print(10*\"-\")\n",
        "  print(\"21.12.2022\")\n",
        "  for i in range(5):\n",
        "    print(\"Merhaba!\")\n",
        "\n",
        "#Fonksiyonu çağırıyoruz, çalıştırıyoruz.\n",
        "ahmet()\n",
        "ahmet()\n",
        "ahmet()"
      ],
      "metadata": {
        "id": "g04XhvQpoCT9"
      },
      "execution_count": null,
      "outputs": []
    },
    {
      "cell_type": "code",
      "source": [
        "#Fonksiyon tanımlama\n",
        "def sinif7b():\n",
        "  print(\"Python öğreniyorlar..\")\n",
        "  print(\"Bazen derse eşofmanla geliyorlar.\")\n",
        "  print(\"3.katta sınıfları var.\")\n",
        "  print(\"Çok zeki ve akıllılar.\")\n",
        "  print(40*\"-\")\n",
        "\n",
        "sinif7b()\n",
        "sinif7b()"
      ],
      "metadata": {
        "colab": {
          "base_uri": "https://localhost:8080/"
        },
        "id": "e6BeAjyLh27J",
        "outputId": "44f722f4-bffc-4696-deba-2d91fa968732"
      },
      "execution_count": null,
      "outputs": [
        {
          "output_type": "stream",
          "name": "stdout",
          "text": [
            "Python öğreniyorlar..\n",
            "Bazen derse eşofmanla geliyorlar.\n",
            "3.katta sınıfları var.\n",
            "Çok zeki ve akıllılar.\n",
            "----------------------------------------\n",
            "Python öğreniyorlar..\n",
            "Bazen derse eşofmanla geliyorlar.\n",
            "3.katta sınıfları var.\n",
            "Çok zeki ve akıllılar.\n",
            "----------------------------------------\n"
          ]
        }
      ]
    },
    {
      "cell_type": "code",
      "source": [
        "#Fonksiyon tanımladık\n",
        "def ortaokul7a():\n",
        "  print(\"Merhaba biz 7A yız\")\n",
        "  print(\"Blog oluşturmuştuk\")\n",
        "  print(\"Sınıfımız 20 kişdir.\")\n",
        "  print(\"Colab ta python kodlamak bizim işimizdir..\")\n",
        "\n",
        "def cizgi():\n",
        "  print(10*\"-\")\n",
        "\n",
        "ortaokul7a() \n",
        "cizgi()\n",
        "ortaokul7a()\n",
        "ortaokul7a()"
      ],
      "metadata": {
        "colab": {
          "base_uri": "https://localhost:8080/"
        },
        "id": "YYrg-kme6saX",
        "outputId": "7102fe25-6616-4117-d36e-7cbd4023ba64"
      },
      "execution_count": null,
      "outputs": [
        {
          "output_type": "stream",
          "name": "stdout",
          "text": [
            "Merhaba biz 7A yız\n",
            "Blog oluşturmuştuk\n",
            "Sınıfımız 20 kişdir.\n",
            "Colab ta python kodlamak bizim işimizdir..\n",
            "----------\n",
            "Merhaba biz 7A yız\n",
            "Blog oluşturmuştuk\n",
            "Sınıfımız 20 kişdir.\n",
            "Colab ta python kodlamak bizim işimizdir..\n",
            "Merhaba biz 7A yız\n",
            "Blog oluşturmuştuk\n",
            "Sınıfımız 20 kişdir.\n",
            "Colab ta python kodlamak bizim işimizdir..\n"
          ]
        }
      ]
    },
    {
      "cell_type": "code",
      "source": [
        "#fonksiyon çalışması\n",
        "def bartunc():\n",
        "  print(\"Bartunç ile online eğitimdeyiz.\")\n",
        "  print(\"colab kullanıyoruz.\")\n",
        "\n",
        "def cizim():\n",
        "  print(\"-------------\")\n",
        "  print(\"-           -\")\n",
        "  print(\"-           -\")\n",
        "  print(\"-------------\")\n",
        "\n",
        "bartunc()  #fonksiyonu çalıştırdık, çağırdık.\n",
        "cizim()\n",
        "bartunc()"
      ],
      "metadata": {
        "colab": {
          "base_uri": "https://localhost:8080/"
        },
        "id": "Dv53Do0SdLNh",
        "outputId": "6750c9a2-51ad-401b-c683-7181883a708c"
      },
      "execution_count": null,
      "outputs": [
        {
          "output_type": "stream",
          "name": "stdout",
          "text": [
            "Bartunç ile online eğitimdeyiz.\n",
            "colab kullanıyoruz.\n",
            "-------------\n",
            "-           -\n",
            "-           -\n",
            "-------------\n",
            "Bartunç ile online eğitimdeyiz.\n",
            "colab kullanıyoruz.\n"
          ]
        }
      ]
    },
    {
      "cell_type": "code",
      "source": [
        "def cati():\n",
        "  print(\"       -     \")\n",
        "  print(\"  /       \\  \")\n",
        "  print(\" /         \\ \")\n",
        "  print(\"-------------\")\n",
        "def kat():\n",
        "  print(\"-           -\")\n",
        "  print(\"-           -\")\n",
        "  print(\"-------------\")\n",
        "\n",
        "cati()\n",
        "kat()\n"
      ],
      "metadata": {
        "colab": {
          "base_uri": "https://localhost:8080/"
        },
        "id": "0QcFWWhkesDr",
        "outputId": "9ea745a8-8a7e-4965-d0d9-de45735e8c43"
      },
      "execution_count": null,
      "outputs": [
        {
          "output_type": "stream",
          "name": "stdout",
          "text": [
            "       -     \n",
            "  /       \\  \n",
            " /         \\ \n",
            "-------------\n",
            "-           -\n",
            "-           -\n",
            "-------------\n"
          ]
        }
      ]
    },
    {
      "cell_type": "code",
      "source": [
        "# ************\n",
        "# ************\n",
        "# ************\n",
        "# ************\n",
        "\n",
        "kr = input(\"Ne ile çizmek istersin?\")\n",
        "genislik = int(input(\"Boyut (genislik)?\"))\n",
        "yukseklik = int(input(\"Boyut (Yükseklik)?\"))\n",
        "for a in range(yukseklik):\n",
        " print(genislik * kr)"
      ],
      "metadata": {
        "colab": {
          "base_uri": "https://localhost:8080/"
        },
        "id": "Ic9EtOanym2W",
        "outputId": "c111b89d-d205-4b26-c3bd-75b64b5a3fd8"
      },
      "execution_count": null,
      "outputs": [
        {
          "output_type": "stream",
          "name": "stdout",
          "text": [
            "Ne ile çizmek istersin?+\n",
            "Boyut (genislik)?5\n",
            "Boyut (Yükseklik)?6\n",
            "+++++\n",
            "+++++\n",
            "+++++\n",
            "+++++\n",
            "+++++\n",
            "+++++\n"
          ]
        }
      ]
    },
    {
      "cell_type": "code",
      "source": [
        "def toplabakalim():\n",
        "  a = 100\n",
        "  b = 95\n",
        "  c = 90\n",
        "  print(a+b+c)\n",
        "  \n",
        "toplabakalim()"
      ],
      "metadata": {
        "colab": {
          "base_uri": "https://localhost:8080/"
        },
        "id": "8jA_S1I10oV_",
        "outputId": "077f97c4-300b-40e7-b07c-afa7ebc98ed1"
      },
      "execution_count": null,
      "outputs": [
        {
          "output_type": "stream",
          "name": "stdout",
          "text": [
            "285\n"
          ]
        }
      ]
    },
    {
      "cell_type": "markdown",
      "source": [
        "## Pythonda Çizim - Turtle Kütüphanesi"
      ],
      "metadata": {
        "id": "nUlv2pgBkqOk"
      }
    },
    {
      "cell_type": "code",
      "source": [
        "import turtle\n",
        "\n",
        "turtle.penup()         #çizimi durdur!\n",
        "turtle.color(\"blue\")   #turtle rengini ayarla!\n",
        "turtle.fillcolor(\"green\")  #çizim rengi sarı olsun\n",
        "turtle.goto(10,0)          #10,0 konumuna git\n",
        "\n",
        "turtle.pendown()        #çizimi başlat!\n",
        "turtle.begin_fill()     #çizim alanını doldur/boya! başlangıcı\n",
        "turtle.circle(50)       #daire çiz, daire çapını ver\n",
        "turtle.end_fill()       #çizim alanını doldur/boya! bitişi\n",
        "\n",
        "turtle.goto(100,0)      #farklı konumlar vererek 3.yü çizdirin.\n",
        "turtle.color(\"red\")\n",
        "turtle.fillcolor(\"yellow\")\n",
        "turtle.begin_fill() \n",
        "turtle.circle(100)\n",
        "turtle.end_fill()\n"
      ],
      "metadata": {
        "id": "Q80B0LYZlRzj"
      },
      "execution_count": null,
      "outputs": []
    },
    {
      "cell_type": "code",
      "source": [
        "#Kare, dikdörtgen, üçgen, daire çizen program.\n",
        "import turtle\n",
        "\n",
        "def kare():\n",
        "    turtle.forward(100)\n",
        "    turtle.left(90)\n",
        "    turtle.forward(100)\n",
        "    turtle.left(90)\n",
        "    turtle.forward(100)\n",
        "    turtle.left(90)\n",
        "    turtle.forward(100)\n",
        "    turtle.left(90)\n",
        "\n",
        "sekil = input(\"Hangi şekli çizmek istersiniz (kare, üçgen, dikdörtgen, daire):\")\n",
        "if sekil==\"kare\":\n",
        "    kare()\n",
        "if sekil==\"üçgen\":\n",
        "    print(\"Üçgen çizmeyi bilmiyorum\")\n",
        "    print(\"Bana üçgen çizme kodunu yükle.\")\n",
        "if sekil==\"dikdörtgen\":\n",
        "    print(\"Dikdörtgen çizemiyorum\")\n",
        "    print(\"Lütfen, bana dikdörtgen çizme kodunu yükle.\")\n",
        "if sekil==\"daire\":\n",
        "    print(\"Daire çizmeyi bilmiyorum\")\n",
        "    print(\"Bana daire çizme kodunu yaz.\")"
      ],
      "metadata": {
        "id": "abm8mbEElqLx"
      },
      "execution_count": null,
      "outputs": []
    }
  ]
}