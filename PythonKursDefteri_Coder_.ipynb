{
  "nbformat": 4,
  "nbformat_minor": 0,
  "metadata": {
    "colab": {
      "provenance": [],
      "collapsed_sections": [
        "0SF4_sitz-4h",
        "jcAXaapZ4SQp",
        "wqnYM-Q1_lhS",
        "_KeXeIQDsI1P"
      ],
      "toc_visible": true
    },
    "kernelspec": {
      "name": "python3",
      "display_name": "Python 3"
    },
    "language_info": {
      "name": "python"
    }
  },
  "cells": [
    {
      "cell_type": "markdown",
      "source": [
        "# Python Kursu"
      ],
      "metadata": {
        "id": "l7e20QL6mo5z"
      }
    },
    {
      "cell_type": "markdown",
      "source": [
        "https://colab.research.google.com/#scrollTo=UdRyKR44dcNI\n",
        "<br><h1>colab nedir?</h1>\n",
        "python IDLE\n",
        "\n",
        "python.org"
      ],
      "metadata": {
        "id": "JvkRMHfwp7gs"
      }
    },
    {
      "cell_type": "markdown",
      "source": [
        "# Ekrana Yazdırmak"
      ],
      "metadata": {
        "id": "lAf1MDr1zpwX"
      }
    },
    {
      "cell_type": "code",
      "execution_count": null,
      "metadata": {
        "colab": {
          "base_uri": "https://localhost:8080/"
        },
        "id": "w3oxdjYtmVLT",
        "outputId": "b0821479-2507-4709-8b4d-bfe2d49ee8b6"
      },
      "outputs": [
        {
          "output_type": "stream",
          "name": "stdout",
          "text": [
            "Hello World!Hello World!Hello World!\n",
            "Python Dersleri\n",
            "Python Dersleri\n",
            "Python Dersleri\n",
            "Python Dersleri\n",
            "\n",
            "Yaşım 19\n"
          ]
        }
      ],
      "source": [
        "print(3* \"Hello World!\")\n",
        "print(4* \"Python Dersleri\\n\")\n",
        "print(\"Yaşım\", 19)"
      ]
    },
    {
      "cell_type": "markdown",
      "source": [
        "# Veri Türleri\n"
      ],
      "metadata": {
        "id": "sYRTv1Rgq-Nc"
      }
    },
    {
      "cell_type": "code",
      "source": [
        "type(4)"
      ],
      "metadata": {
        "colab": {
          "base_uri": "https://localhost:8080/"
        },
        "id": "zVbGuhV2ru1U",
        "outputId": "d3825a7d-ce3d-4bb8-d0cf-6da2ac5fea57"
      },
      "execution_count": null,
      "outputs": [
        {
          "output_type": "execute_result",
          "data": {
            "text/plain": [
              "int"
            ]
          },
          "metadata": {},
          "execution_count": 3
        }
      ]
    },
    {
      "cell_type": "code",
      "source": [
        "type(\"4\")"
      ],
      "metadata": {
        "colab": {
          "base_uri": "https://localhost:8080/"
        },
        "id": "J2cFarp7r2G0",
        "outputId": "85d4e543-4635-4171-8a4c-bfbcb427f76a"
      },
      "execution_count": null,
      "outputs": [
        {
          "output_type": "execute_result",
          "data": {
            "text/plain": [
              "str"
            ]
          },
          "metadata": {},
          "execution_count": 4
        }
      ]
    },
    {
      "cell_type": "code",
      "source": [
        "a=10\n",
        "type(a)"
      ],
      "metadata": {
        "colab": {
          "base_uri": "https://localhost:8080/"
        },
        "id": "m8x0Mandr200",
        "outputId": "0b6ff978-a3a5-4466-e4be-587dfe9e8df8"
      },
      "execution_count": null,
      "outputs": [
        {
          "output_type": "execute_result",
          "data": {
            "text/plain": [
              "int"
            ]
          },
          "metadata": {},
          "execution_count": 6
        }
      ]
    },
    {
      "cell_type": "code",
      "source": [
        "a = True\n",
        "b = False\n",
        "print(type(a))\n",
        "print(type(b))"
      ],
      "metadata": {
        "colab": {
          "base_uri": "https://localhost:8080/"
        },
        "id": "MhIrAVHYzpfa",
        "outputId": "5d97e225-d246-460b-b7fd-b62fa2dac4d7"
      },
      "execution_count": null,
      "outputs": [
        {
          "output_type": "stream",
          "name": "stdout",
          "text": [
            "<class 'bool'>\n",
            "<class 'bool'>\n"
          ]
        }
      ]
    },
    {
      "cell_type": "code",
      "source": [
        "liste1 = [\"kalem\", \"silgi\", 20, 2008, \"Ekim\", 18.4568]  #tuple\n",
        "liste2 = {\"kalem\", \"silgi\", 20, 2008, \"Ekim\", 18.4568}  #list\n",
        "liste3 = (\"kalem\", \"silgi\", 20, 2008, \"Ekim\", 18.4568)  #dictionary\n",
        "print(liste1)\n",
        "print(liste1[0], liste1[3])\n",
        "yas = 2022- liste1[3]\n",
        "print(yas)\n",
        "para_tl = 400 * liste3[5]\n",
        "print(\"400$\", para_tl, \"TL eder.\")"
      ],
      "metadata": {
        "colab": {
          "base_uri": "https://localhost:8080/"
        },
        "id": "zR5ukiissHLE",
        "outputId": "9512ea6e-1b37-4f66-eaf8-14e18465492d"
      },
      "execution_count": null,
      "outputs": [
        {
          "output_type": "stream",
          "name": "stdout",
          "text": [
            "['kalem', 'silgi', 20, 2008, 'Ekim', 18.4568]\n",
            "kalem 2008\n",
            "14\n",
            "400$ 7382.72 TL eder.\n"
          ]
        }
      ]
    },
    {
      "cell_type": "markdown",
      "source": [
        "# Atama, Çoklu Atama\n",
        "\n",
        "Ders uygulması ve Ödevi yapın.\n"
      ],
      "metadata": {
        "id": "fQ4bT48Rw7Cd"
      }
    },
    {
      "cell_type": "markdown",
      "source": [
        "# Klavyeden değer girme\n",
        "\n",
        "input()\n",
        "\n",
        "okuduğu değer str"
      ],
      "metadata": {
        "id": "CK_SUYmWxD8u"
      }
    },
    {
      "cell_type": "code",
      "source": [
        "a = input(\"Sayısal bir değer yazınız: \")\n",
        "a = int(a)\n",
        "print(type(a))\n",
        "b = a+10"
      ],
      "metadata": {
        "colab": {
          "base_uri": "https://localhost:8080/"
        },
        "id": "xPHyVNJaxP8Y",
        "outputId": "d056d2d0-7e9b-4189-c012-989f0bb305a9"
      },
      "execution_count": null,
      "outputs": [
        {
          "output_type": "stream",
          "name": "stdout",
          "text": [
            "Sayısal bir değer yazınız: 25\n",
            "<class 'int'>\n"
          ]
        }
      ]
    },
    {
      "cell_type": "code",
      "source": [
        "a = '25'\n",
        "a = int(a)\n",
        "print(type(a))\n",
        "b = a+10"
      ],
      "metadata": {
        "colab": {
          "base_uri": "https://localhost:8080/"
        },
        "id": "9knPOyBVyvjW",
        "outputId": "f3b791b7-699d-4f83-f3d3-e39ce5031bcb"
      },
      "execution_count": null,
      "outputs": [
        {
          "output_type": "stream",
          "name": "stdout",
          "text": [
            "<class 'int'>\n"
          ]
        }
      ]
    },
    {
      "cell_type": "markdown",
      "source": [
        "06 nolu sunudaki örnekleri yazınız."
      ],
      "metadata": {
        "id": "JvSR5e9NzI72"
      }
    },
    {
      "cell_type": "markdown",
      "source": [
        "# if - if/else - if/elif"
      ],
      "metadata": {
        "id": "0SF4_sitz-4h"
      }
    },
    {
      "cell_type": "code",
      "source": [
        "# tek durum kontrol ediliyor\n",
        "a = 10\n",
        "b = 19\n",
        "if a>50 or b<20:\n",
        "  print(\"a nın değeri 50 den büyük\")\n",
        "  print(\"İşlem yapıldı.\\n\")\n",
        "\n",
        "if True:\n",
        "  print(\"Bu satır her zaman işler.\")\n",
        "\n",
        "if False:\n",
        "  print(\"Bu satır hiç bir zaman yazılmayacak.\")"
      ],
      "metadata": {
        "colab": {
          "base_uri": "https://localhost:8080/"
        },
        "id": "KfgCf6Kuz-m0",
        "outputId": "304870b6-be1e-46e9-81b6-e83f06e9f89d"
      },
      "execution_count": null,
      "outputs": [
        {
          "output_type": "stream",
          "name": "stdout",
          "text": [
            "a nın değeri 50 den büyük\n",
            "İşlem yapıldı.\n",
            "\n",
            "Bu satır her zaman işler.\n"
          ]
        }
      ]
    },
    {
      "cell_type": "code",
      "source": [
        "# iki durum varsa,\n",
        "# pozitif mantık\n",
        "tost = 10\n",
        "para = 10\n",
        "if para>=tost:\n",
        "  print(para>=tost)\n",
        "  print(\"Afiyet olsun!\")\n",
        "else:\n",
        "  print(\"Tost alamazsın.\")"
      ],
      "metadata": {
        "colab": {
          "base_uri": "https://localhost:8080/"
        },
        "id": "j0LC7rPX1I27",
        "outputId": "67433210-64fd-4792-8f01-15d405d5db4e"
      },
      "execution_count": null,
      "outputs": [
        {
          "output_type": "stream",
          "name": "stdout",
          "text": [
            "True\n",
            "Afiyet olsun!\n"
          ]
        }
      ]
    },
    {
      "cell_type": "code",
      "source": [
        "# iki durum varsa,\n",
        "# negatif mantık\n",
        "tost = 10\n",
        "para = 9\n",
        "if para<tost:\n",
        "  print(\"Tost alamazsın\")\n",
        "  print(para<tost)\n",
        "else:\n",
        "  print(\"Afiyet olsun!\")"
      ],
      "metadata": {
        "colab": {
          "base_uri": "https://localhost:8080/"
        },
        "id": "MMgJd3gc5PLH",
        "outputId": "c7dd4b57-22cb-4373-f5fe-a2fcb694d67f"
      },
      "execution_count": null,
      "outputs": [
        {
          "output_type": "stream",
          "name": "stdout",
          "text": [
            "Tost alamazsın\n",
            "True\n"
          ]
        }
      ]
    },
    {
      "cell_type": "code",
      "source": [
        "# üç ve daha fazla durum varsa\n",
        "# puan 95 ... 5 4 3 2 1 \n",
        "p = 75\n",
        "if p>=85 and p<=100:   # 85-100 arası\n",
        "  print(\"5 - beş\")\n",
        "if p>=70 and p<85:   # 70- 84 arası\n",
        "  print(\"4 - dört\")\n",
        "if p>=55 and p<70:   # 55-69 arası\n",
        "  print(\"3 - üç\")\n",
        "if p>=45 and p<55:   # 45-54 arası\n",
        "  print(\"2 - iki\")\n",
        "if p>0 and p<45:   # 0-44 arası\n",
        "  print(\"1 - bir\")"
      ],
      "metadata": {
        "colab": {
          "base_uri": "https://localhost:8080/"
        },
        "id": "l0DnEp3l18yu",
        "outputId": "ca062fbb-6d00-4b24-f52a-9ec5a5b7e9c4"
      },
      "execution_count": null,
      "outputs": [
        {
          "output_type": "stream",
          "name": "stdout",
          "text": [
            "4 - dört\n"
          ]
        }
      ]
    },
    {
      "cell_type": "code",
      "source": [
        "# üç ve daha fazla durum varsa\n",
        "# puan 95 ... 5 4 3 2 1 \n",
        "p = int(input(\"Puan: \"))\n",
        "if p>=85:\n",
        "  print(\"5 - beş\")\n",
        "elif p>=70:\n",
        "  print(\"4 - dört\")\n",
        "elif p>=55:\n",
        "  print(\"3 - üç\")\n",
        "elif p>=45:\n",
        "  print(\"2 -iki\")\n",
        "else:\n",
        "  print(\"1 - bir\")"
      ],
      "metadata": {
        "colab": {
          "base_uri": "https://localhost:8080/"
        },
        "id": "M1c2xVkn30A8",
        "outputId": "2d4b9a50-4ac6-4358-f849-a1dbd859e7c3"
      },
      "execution_count": null,
      "outputs": [
        {
          "output_type": "stream",
          "name": "stdout",
          "text": [
            "Puan: 23\n",
            "1 - bir\n"
          ]
        }
      ]
    },
    {
      "cell_type": "markdown",
      "source": [],
      "metadata": {
        "id": "Dm7oQ63L59sl"
      }
    },
    {
      "cell_type": "markdown",
      "source": [
        "ödev 1: Puanı nota çeviren programı negatif mantık ile (if-elif) yazın."
      ],
      "metadata": {
        "id": "R0z-6dEw6DJM"
      }
    },
    {
      "cell_type": "markdown",
      "source": [
        "ödev 2: 2 şer tane program yazın.\n",
        "\n",
        "```\n",
        "-if  2 tane, (1 poz, 1 neg.)\n",
        "-if/else   2 tane (1 poz, 1 neg.)\n",
        "-if/elif  2 tane (1 poz, 1 neg.) \n",
        "```\n",
        "\n"
      ],
      "metadata": {
        "id": "3CSYwmf76K5s"
      }
    },
    {
      "cell_type": "markdown",
      "source": [
        "# DÖNGÜLER (LOOP) - FOR"
      ],
      "metadata": {
        "id": "jcAXaapZ4SQp"
      }
    },
    {
      "cell_type": "code",
      "source": [
        "for a in range(3):\n",
        "  print(\"Merhaba\")"
      ],
      "metadata": {
        "colab": {
          "base_uri": "https://localhost:8080/"
        },
        "id": "khVRqNf-4c2J",
        "outputId": "2e42fa2e-5ecd-4b12-bd0b-84818d8c5c2d"
      },
      "execution_count": null,
      "outputs": [
        {
          "output_type": "stream",
          "name": "stdout",
          "text": [
            "Merhaba\n",
            "Merhaba\n",
            "Merhaba\n"
          ]
        }
      ]
    },
    {
      "cell_type": "code",
      "source": [
        "for a in range(3):\n",
        "  print(a,\"Merhaba\")"
      ],
      "metadata": {
        "colab": {
          "base_uri": "https://localhost:8080/"
        },
        "id": "gy3dy2kp4oo6",
        "outputId": "f3dc7e9b-d177-47ec-ed84-9b093a2d9306"
      },
      "execution_count": null,
      "outputs": [
        {
          "output_type": "stream",
          "name": "stdout",
          "text": [
            "0 Merhaba\n",
            "1 Merhaba\n",
            "2 Merhaba\n"
          ]
        }
      ]
    },
    {
      "cell_type": "code",
      "source": [
        "isim = input(\"Adınız: \")\n",
        "tekrar = int(input(\"Kaç defa: \"))\n",
        "for i in range(tekrar):\n",
        "  print(isim)"
      ],
      "metadata": {
        "colab": {
          "base_uri": "https://localhost:8080/"
        },
        "id": "fEOwR8I94vHB",
        "outputId": "2b4e0fb3-4b2c-40d3-c07c-03bd5f8ccff4"
      },
      "execution_count": null,
      "outputs": [
        {
          "output_type": "stream",
          "name": "stdout",
          "text": [
            "Adınız: EGE\n",
            "Kaç defa: 3\n",
            "EGE\n",
            "EGE\n",
            "EGE\n"
          ]
        }
      ]
    },
    {
      "cell_type": "code",
      "source": [
        "#dökülen harfler\n",
        "isim = input(\"Adınız: \")\n",
        "for i in isim:\n",
        "  print(i)"
      ],
      "metadata": {
        "colab": {
          "base_uri": "https://localhost:8080/"
        },
        "id": "KDoNdBIc6IHq",
        "outputId": "dd8362ec-311e-40c4-82a8-20e02b9b20ed"
      },
      "execution_count": null,
      "outputs": [
        {
          "output_type": "stream",
          "name": "stdout",
          "text": [
            "Adınız: YİĞİT\n",
            "Y\n",
            "İ\n",
            "Ğ\n",
            "İ\n",
            "T\n"
          ]
        }
      ]
    },
    {
      "cell_type": "code",
      "source": [
        "#yarım baklava\n",
        "'''\n",
        "   *\n",
        "  **\n",
        " ***\n",
        "****\n",
        "'''\n",
        "for i in range(4):\n",
        "  print((3-i)*\" \", (i+1)*\"*\")\n",
        "  "
      ],
      "metadata": {
        "colab": {
          "base_uri": "https://localhost:8080/"
        },
        "id": "2MU5TJXx6y5E",
        "outputId": "0eb5d9ed-f8b1-47fe-ac45-837e6153756c"
      },
      "execution_count": null,
      "outputs": [
        {
          "output_type": "stream",
          "name": "stdout",
          "text": [
            "    *\n",
            "   **\n",
            "  ***\n",
            " ****\n"
          ]
        }
      ]
    },
    {
      "cell_type": "code",
      "source": [
        "#yarım baklava 2\n",
        "'''\n",
        "   *\n",
        "  ***\n",
        " *****\n",
        "*******\n",
        "'''\n",
        "for i in range(4):\n",
        "  print((3-i)*\" \", (i+1)*\"*\", i*\"*\" )"
      ],
      "metadata": {
        "colab": {
          "base_uri": "https://localhost:8080/"
        },
        "id": "p24svDy-9RlT",
        "outputId": "02a96682-f67e-4163-e4d3-61e113593123"
      },
      "execution_count": null,
      "outputs": [
        {
          "output_type": "stream",
          "name": "stdout",
          "text": [
            "    * \n",
            "   ** *\n",
            "  *** **\n",
            " **** ***\n"
          ]
        }
      ]
    },
    {
      "cell_type": "code",
      "source": [
        "#yarım baklava 2\n",
        "'''\n",
        "   *\n",
        "  ***\n",
        " *****\n",
        "*******\n",
        "'''\n",
        "for i in range(4):\n",
        "  satir =(3-i)*\" \"+ (i+1)*\"*\"+ i*\"*\"\n",
        "  print(satir)"
      ],
      "metadata": {
        "colab": {
          "base_uri": "https://localhost:8080/"
        },
        "id": "VmAywWNl923i",
        "outputId": "e5ddac54-60ff-4c88-e795-ef90da90ff96"
      },
      "execution_count": null,
      "outputs": [
        {
          "output_type": "stream",
          "name": "stdout",
          "text": [
            "   *\n",
            "  ***\n",
            " *****\n",
            "*******\n"
          ]
        }
      ]
    },
    {
      "cell_type": "code",
      "source": [
        "for i in range(1,11):\n",
        "  print(\"\\n{} ler \\n-----------\".format(i))\n",
        "  for j in range(1,11):\n",
        "    print(i, \"x\", j, \"=\",i*j)"
      ],
      "metadata": {
        "id": "fZGQyUq6-JLr"
      },
      "execution_count": null,
      "outputs": []
    },
    {
      "cell_type": "markdown",
      "source": [
        "# ÖDEV: Sunudaki örnekleri geliştirerek yazın. Farklı şekiller oluşturun. \n",
        "Dinamik karakterler ile şekil oluşturun. Şekli oluşturan karaktere kullanıcı karar versin/girsin."
      ],
      "metadata": {
        "id": "wqnYM-Q1_lhS"
      }
    },
    {
      "cell_type": "markdown",
      "source": [
        "# While Döngüleri (loop)"
      ],
      "metadata": {
        "id": "Rc1RquMzqDEC"
      }
    },
    {
      "cell_type": "code",
      "source": [
        "a = 0\n",
        "while a<10:\n",
        "  print(\"Değer\", a)\n",
        "  a = a + 1\n",
        "print(\"Döngü sona erdi.\")"
      ],
      "metadata": {
        "colab": {
          "base_uri": "https://localhost:8080/"
        },
        "id": "M_jrlNEXqN9y",
        "outputId": "24b94fd7-5325-42ee-91d6-969ca10f2c89"
      },
      "execution_count": null,
      "outputs": [
        {
          "output_type": "stream",
          "name": "stdout",
          "text": [
            "Değer 0\n",
            "Değer 1\n",
            "Değer 2\n",
            "Değer 3\n",
            "Değer 4\n",
            "Değer 5\n",
            "Değer 6\n",
            "Değer 7\n",
            "Değer 8\n",
            "Değer 9\n",
            "Döngü sona erdi.\n"
          ]
        }
      ]
    },
    {
      "cell_type": "code",
      "source": [
        "#sayaç\n",
        "sayac = 0\n",
        "print(\"Soru: 2 x 2 = ?\")\n",
        "\n",
        "while sayac < 3:\n",
        "  sayac = sayac + 1\n",
        "  print(sayac,\".hakkınız\")\n",
        "  cev = int(input(\"Cevabınız: \"))\n",
        "  if cev==4:\n",
        "     print(\"Bildiniz!\")\n",
        "     break\n",
        "  else:\n",
        "    print(\"Yanlış!\\n\")\n",
        "  \n",
        "if cev!=4:\n",
        "     print(\"3 Hakkınızı kullandınız ama bilemediniz!\")"
      ],
      "metadata": {
        "colab": {
          "base_uri": "https://localhost:8080/"
        },
        "id": "NDdqc4CwSrzF",
        "outputId": "52ad6fb5-233a-43b9-ce0a-ef56ab078d1f"
      },
      "execution_count": null,
      "outputs": [
        {
          "output_type": "stream",
          "name": "stdout",
          "text": [
            "Soru: 2 x 2 = ?\n",
            "1 .hakkınız\n",
            "Cevabınız: 5\n",
            "Yanlış!\n",
            "\n",
            "2 .hakkınız\n",
            "Cevabınız: 7\n",
            "Yanlış!\n",
            "\n",
            "3 .hakkınız\n",
            "Cevabınız: 9\n",
            "Yanlış!\n",
            "\n",
            "3 Hakkınızı kullandınız ama bilemediniz!\n"
          ]
        }
      ]
    },
    {
      "cell_type": "code",
      "source": [
        "#Çift sayıları\n",
        "# % mod, kalanı verir\n",
        "a = 11 % 2\n",
        "print(a)"
      ],
      "metadata": {
        "colab": {
          "base_uri": "https://localhost:8080/"
        },
        "id": "01wugbLOstXr",
        "outputId": "0498291e-882e-400b-e805-e23367ae707a"
      },
      "execution_count": null,
      "outputs": [
        {
          "output_type": "stream",
          "name": "stdout",
          "text": [
            "1\n"
          ]
        }
      ]
    },
    {
      "cell_type": "code",
      "source": [
        "# 20 ye kadar olan tek sayılar\n",
        "x = int(input(\"Sayı aralığı (1-100): \"))\n",
        "while x>0 and x<=100:   #Geçerli sayı aralığı kontrol ediliyor.\n",
        "  a = 0\n",
        "  while a<x:\n",
        "    if a%2 == 1:\n",
        "      print(a)\n",
        "    a = a + 1\n",
        "  x=101   #Geçersiz sayı aralığından bir değer verdik döngüden çıkması için\n"
      ],
      "metadata": {
        "colab": {
          "base_uri": "https://localhost:8080/"
        },
        "id": "YhpBvMlttFni",
        "outputId": "3abf547e-9119-44e9-d1e9-1d63002c4937"
      },
      "execution_count": null,
      "outputs": [
        {
          "output_type": "stream",
          "name": "stdout",
          "text": [
            "Sayı aralığı (1-100): 25\n",
            "1\n",
            "3\n",
            "5\n",
            "7\n",
            "9\n",
            "11\n",
            "13\n",
            "15\n",
            "17\n",
            "19\n",
            "21\n",
            "23\n"
          ]
        }
      ]
    },
    {
      "cell_type": "code",
      "source": [
        "#Açıklama: Örnek program\n",
        "#Alış-veriş \n",
        "isim = input(\"Adınız nedir?\")\n",
        "print(\"Pazar alış verişine hoş geldin \", isim, \"\\n\")  #kaçış karakteri\n",
        "e = 3    #int\n",
        "ef = 9.5   #float\n",
        "elmaparasi = e * ef\n",
        "print(isim, \"Elma için\", elmaparasi, \"TL ödeyiniz.\\n\")\n",
        "dolar = 70\n",
        "dkuru = 18.5698\n",
        "tl = dolar * dkuru\n",
        "print(isim, \"Doların TL karşılığı: \",tl, \"TL dir.\\n\")\n",
        "#ekranf = 1500\n",
        "ekranf = int(input(\"Ekran fiyatı nedir? TL\"))\n",
        "if tl>=ekranf :\n",
        "  print(\"Ekranı alabilirsiniz.\\n\")\n",
        "else:\n",
        "  print(isim, \"Paranız yetmedi.\\n\")\n",
        "for i in range(5):\n",
        "  print(\"Para bitti.\")\n",
        "  print(\"Bankamatiğe uğra.\\n\")"
      ],
      "metadata": {
        "colab": {
          "base_uri": "https://localhost:8080/"
        },
        "id": "3qJ-0ibg36FW",
        "outputId": "d55bc6cd-4963-4d1c-dd5d-4e263b9e939e"
      },
      "execution_count": null,
      "outputs": [
        {
          "output_type": "stream",
          "name": "stdout",
          "text": [
            "Adınız nedir?EMRE\n",
            "Pazar alış verişine hoş geldin  EMRE \n",
            "\n",
            "EMRE Elma için 28.5 TL ödeyiniz.\n",
            "\n",
            "EMRE Doların TL karşılığı:  1299.886 TL dir.\n",
            "\n",
            "Ekran fiyatı nedir? TL1200\n",
            "Ekranı alabilirsiniz.\n",
            "\n",
            "Para bitti.\n",
            "Bankamatiğe uğra.\n",
            "\n",
            "Para bitti.\n",
            "Bankamatiğe uğra.\n",
            "\n",
            "Para bitti.\n",
            "Bankamatiğe uğra.\n",
            "\n",
            "Para bitti.\n",
            "Bankamatiğe uğra.\n",
            "\n",
            "Para bitti.\n",
            "Bankamatiğe uğra.\n",
            "\n"
          ]
        }
      ]
    },
    {
      "cell_type": "markdown",
      "source": [
        "# FONKSİYONLAR\n",
        "\n",
        "\n",
        "1.   Hazır fonksiyonlar - (built in)\n",
        "2.   Kullanıcı Tanımlı fonksiyonlar\n",
        "\n"
      ],
      "metadata": {
        "id": "G6T7xdP59Kw3"
      }
    },
    {
      "cell_type": "code",
      "source": [
        "# https://docs.python.org/3/library/functions.html\n",
        "a = \"pYThoN\"\n",
        "print(a.upper())\n",
        "print(\"merHABA çocukLAR ÖMER AĞladı.\".lower())\n",
        "print(\"merHABA çocukLAR ÖMER Ağladı.\".upper())\n",
        "isim = \"ABDURRAHMAN UZUNKAVAKLARATINDAYATARUYUMAZOĞLU\"\n",
        "isim2 = \"ALİ KOÇ\"\n",
        "print(len(isim) + len(isim2))\n",
        "print(isim+isim2)\n",
        "print(pow(2,3))\n",
        "sayi = [23,656,656,565,65,65,6,56,56,5,6,56,56,165656]\n",
        "print(\"Dizinin en küçük elemanı: \",min(sayi))\n",
        "print(\"Dizinin en küçük elemanı: \",max(sayi))"
      ],
      "metadata": {
        "colab": {
          "base_uri": "https://localhost:8080/"
        },
        "id": "Mo1slA_Y9er_",
        "outputId": "a90e757e-8e8f-477a-beb5-2ab1b00566ab"
      },
      "execution_count": null,
      "outputs": [
        {
          "output_type": "stream",
          "name": "stdout",
          "text": [
            "PYTHON\n",
            "merhaba çocuklar ömer ağladı.\n",
            "MERHABA ÇOCUKLAR ÖMER AĞLADI.\n",
            "52\n",
            "ABDURRAHMAN UZUNKAVAKLARATINDAYATARUYUMAZOĞLUALİ KOÇ\n",
            "8\n",
            "Dizinin en küçük elemanı:  5\n",
            "Dizinin en küçük elemanı:  165656\n"
          ]
        }
      ]
    },
    {
      "cell_type": "markdown",
      "source": [
        "# Kullanıcı Tanımlı Fonksiyonlar"
      ],
      "metadata": {
        "id": "oLnd-L82nWbE"
      }
    },
    {
      "cell_type": "code",
      "source": [
        "#Fonksiyon kullanımı 1\n",
        "def melih():\n",
        "  print(3* \"Selam!\")\n",
        "def yigit():\n",
        "  print(2* \"Afiyet olsun!\")\n",
        "def umutEge():\n",
        "  print(\"Çaylaaar!!\")\n",
        "\n",
        "melih()    #fonksiyonu çağırmak\n",
        "yigit()\n",
        "umutEge()"
      ],
      "metadata": {
        "colab": {
          "base_uri": "https://localhost:8080/"
        },
        "id": "IfjXOd9mne7r",
        "outputId": "c511b58f-a51a-405a-8aa5-e81a7c101481"
      },
      "execution_count": null,
      "outputs": [
        {
          "output_type": "stream",
          "name": "stdout",
          "text": [
            "Selam!Selam!Selam!\n",
            "Afiyet olsun!Afiyet olsun!\n",
            "Çaylaaar!!\n"
          ]
        }
      ]
    },
    {
      "cell_type": "code",
      "source": [
        "#Fonksiyon kullanımı 1\n",
        "def soru1():\n",
        "  print(\"SORU: 1 + 1 = ?\")\n",
        "  print(\"----------------\")\n",
        "def soru2():\n",
        "  print(\"SORU: 2 + 2 = ?\")\n",
        "  print(\"----------------\")\n",
        "  \n",
        "soru1()\n",
        "soru2()"
      ],
      "metadata": {
        "colab": {
          "base_uri": "https://localhost:8080/"
        },
        "id": "1UtnvWQBonmd",
        "outputId": "f897f531-18c6-4a9f-a91b-31e96e33c8d3"
      },
      "execution_count": null,
      "outputs": [
        {
          "output_type": "stream",
          "name": "stdout",
          "text": [
            "SORU: 1 + 1 = ?\n",
            "----------------\n",
            "SORU: 2 + 2 = ?\n",
            "----------------\n"
          ]
        }
      ]
    },
    {
      "cell_type": "code",
      "source": [
        "#Fonksiyon kullanımı 2 - parametre göndermek\n",
        "def selam(x,y):\n",
        "  print(\"Merhaba\", x)\n",
        "  print(x, \"sen\", y, \"yaşındasın.\")\n",
        "\n",
        "ad = \"YİĞİT EGE METE İREM\"\n",
        "yas = 14\n",
        "selam(ad, yas)"
      ],
      "metadata": {
        "colab": {
          "base_uri": "https://localhost:8080/"
        },
        "id": "RgyL0673pZeP",
        "outputId": "becaff7e-c0fc-4974-891a-b831c4087a75"
      },
      "execution_count": null,
      "outputs": [
        {
          "output_type": "stream",
          "name": "stdout",
          "text": [
            "Merhaba YİĞİT EGE METE İREM\n",
            "YİĞİT EGE METE İREM sen 14 yaşındasın.\n"
          ]
        }
      ]
    },
    {
      "cell_type": "code",
      "source": [
        "#Fonksiyon kullanımı 2 - parametre göndermek 2.örnek\n",
        "#Mesaj yazdırma\n",
        "import time\n",
        "def mesajYaz(mTuru, mesaj, kac, cizgi, kim, kime, tarih):\n",
        "  print(mTuru, \"Mesajı\\n\", kac*mesaj)\n",
        "  print(len(mesaj) * cizgi)\n",
        "  print(kim, \"tarafından\", tarih,\"tarihinde\", kime, \"gönderilmiştir.\" )\n",
        "\n",
        "mTuru = \"KRİTİK HATA\"\n",
        "mesaj = \"\\nRAM hatası\"\n",
        "kac = 3\n",
        "cizgi = \"=\"\n",
        "kim = \"İdare\"\n",
        "kime = \"Kullanıcı\"\n",
        "tarih = \"12-12-2022\"\n",
        "\n",
        "mesajYaz(mTuru, mesaj,kac,cizgi,kim, kime, tarih)"
      ],
      "metadata": {
        "colab": {
          "base_uri": "https://localhost:8080/"
        },
        "id": "BX-usZOEFVI_",
        "outputId": "23d8ec9b-79c6-48b9-b273-91c6c0f1309c"
      },
      "execution_count": null,
      "outputs": [
        {
          "output_type": "stream",
          "name": "stdout",
          "text": [
            "KRİTİK HATA Mesajı\n",
            " \n",
            "RAM hatası\n",
            "RAM hatası\n",
            "RAM hatası\n",
            "===========\n",
            "İdare tarafından 12-12-2022 tarihinde Kullanıcı gönderilmiştir.\n"
          ]
        }
      ]
    },
    {
      "cell_type": "markdown",
      "source": [
        "ÖDEV: 2 Sayının toplamı, çarpımı, bölümü ve fark işlemini fonksiyon kullanarak yapın. "
      ],
      "metadata": {
        "id": "oXz7nk8fqplM"
      }
    },
    {
      "cell_type": "code",
      "source": [
        "#Fonksiyon kullanımı 3 - geri sonuç döndüren\n",
        "def topla(x,y):   # 2 sayının toplamını alsın\n",
        "  x = x + 10\n",
        "  y = y + 20\n",
        "  sonuc = x+y\n",
        "  return sonuc\n",
        "\n",
        "a=2\n",
        "b=3\n",
        "print(topla(a,b)/2)  #bizim tanımladığımız\n",
        "print(pow(a,b))      # python yorumlayısındaki"
      ],
      "metadata": {
        "colab": {
          "base_uri": "https://localhost:8080/"
        },
        "id": "Et_VZ4y__zpH",
        "outputId": "6a4a17e1-1870-4254-ee38-2e01b45263c2"
      },
      "execution_count": null,
      "outputs": [
        {
          "output_type": "stream",
          "name": "stdout",
          "text": [
            "17.5\n",
            "8\n"
          ]
        }
      ]
    },
    {
      "cell_type": "code",
      "source": [
        "#Fonksiyon kullanımı 3 - geri sonuç döndüren\n",
        "#Verdiğimiz kelimeyi kullanarak parola oluşturur.\n",
        "def parola(x):\n",
        "  p = x[0]+\"@\"+x[2]+\"*\"+\"dfkgd\"\n",
        "  return p\n",
        "\n",
        "a = \"fasulye\"  \n",
        "gelenparola  = parola(a)\n",
        "print(\"Parola oluşturuldu===> \",gelenparola)"
      ],
      "metadata": {
        "colab": {
          "base_uri": "https://localhost:8080/"
        },
        "id": "BlJVNc2nDWmm",
        "outputId": "71b15003-b249-42dd-d20e-83134daf6298"
      },
      "execution_count": null,
      "outputs": [
        {
          "output_type": "stream",
          "name": "stdout",
          "text": [
            "Parola oluşturuldu===>  f@s*dfkgd\n"
          ]
        }
      ]
    },
    {
      "cell_type": "markdown",
      "source": [
        "# DİZİLER"
      ],
      "metadata": {
        "id": "_KeXeIQDsI1P"
      }
    },
    {
      "cell_type": "code",
      "source": [
        "#Diziler, dizi oluşturma\n",
        "a = [22,12,0,0,0,0,0,0, \"Yiğit\", \"Umut\", \"Melih\", \"Emre\"]\n",
        "print(\"Dizin eleman sayısı:\",len(a))\n",
        "a[0] = int(input(\"Değer\"))\n",
        "a[1] = 20\n",
        "a[2] = 55\n",
        "print(a)\n",
        "print(\"Dizinin ilk elemanı:\", a[0])\n",
        "print(\"Dizinin 1. ve 2. elamanı toplamı:\", a[0]+a[1])\n",
        "print(a[8][0]+a[9][0]+a[10][0]+a[11][0])"
      ],
      "metadata": {
        "colab": {
          "base_uri": "https://localhost:8080/"
        },
        "id": "HBiyyCP-sMnn",
        "outputId": "6bbbba53-ea69-43c6-d7d4-6ab07c2e608d"
      },
      "execution_count": null,
      "outputs": [
        {
          "output_type": "stream",
          "name": "stdout",
          "text": [
            "Dizin eleman sayısı: 12\n",
            "Değer10\n",
            "[10, 20, 55, 0, 0, 0, 0, 0, 'Yiğit', 'Umut', 'Melih', 'Emre']\n",
            "Dizinin ilk elemanı: 10\n",
            "Dizinin 1. ve 2. elamanı toplamı: 30\n",
            "YUME\n"
          ]
        }
      ]
    },
    {
      "cell_type": "code",
      "source": [
        "#Yılbaşı hediye çekilişi\n",
        "import random\n",
        "isim = [\"UMUT EGE\",\"EMRE\",\"YİĞİT\",\"MELİH\"]\n",
        "hediye = [\"GÖMLEK\", \"KALEM\", \"KİTAP\",\"LAPTOP\", \"CEP TELEFONU\", \"PLAYSTATION\"]\n",
        "k = random.randint(0,3)\n",
        "h = random.randint(0,len(hediye)-1)\n",
        "print(k,h)\n",
        "print(isim[k], \"kişisi\", hediye[h],\"kazandı.\")\n",
        "isim.pop(k)\n",
        "hediye.pop(h)\n",
        "print(isim)\n",
        "print(hediye)"
      ],
      "metadata": {
        "colab": {
          "base_uri": "https://localhost:8080/"
        },
        "id": "xRwnU_JNynPX",
        "outputId": "e8c46be7-4dbc-428b-ad23-6c4354cb40a4"
      },
      "execution_count": null,
      "outputs": [
        {
          "output_type": "stream",
          "name": "stdout",
          "text": [
            "2 1\n",
            "YİĞİT kişisi KALEM kazandı.\n",
            "['UMUT EGE', 'EMRE', 'MELİH']\n",
            "['GÖMLEK', 'KİTAP', 'LAPTOP', 'CEP TELEFONU', 'PLAYSTATION']\n"
          ]
        }
      ]
    },
    {
      "cell_type": "code",
      "source": [
        "#Yılbaşı hediye çekilişi\n",
        "import random\n",
        "isim = [\"UMUT EGE\",\"EMRE\",\"YİĞİT\",\"MELİH\"]\n",
        "hediye = [\"GÖMLEK\", \"KALEM\", \"KİTAP\",\"LAPTOP\", \"CEP TELEFONU\", \"PLAYSTATION\"]\n",
        "\n",
        "while len(isim)>0:\n",
        "  k = random.randint(0,len(isim)-1)\n",
        "  h = random.randint(0,len(hediye)-1)\n",
        "  print(k,h)\n",
        "  print(isim[k], \"kişisi\", hediye[h],\"kazandı.\")\n",
        "  isim.pop(k)\n",
        "  hediye.pop(h)\n",
        "  print(isim)\n",
        "  print(hediye)"
      ],
      "metadata": {
        "colab": {
          "base_uri": "https://localhost:8080/"
        },
        "id": "iJ5w9M072Qyx",
        "outputId": "179423bb-9eb1-4960-cba5-d453681ab642"
      },
      "execution_count": null,
      "outputs": [
        {
          "output_type": "stream",
          "name": "stdout",
          "text": [
            "1 2\n",
            "EMRE kişisi KİTAP kazandı.\n",
            "['UMUT EGE', 'YİĞİT', 'MELİH']\n",
            "['GÖMLEK', 'KALEM', 'LAPTOP', 'CEP TELEFONU', 'PLAYSTATION']\n",
            "2 4\n",
            "MELİH kişisi PLAYSTATION kazandı.\n",
            "['UMUT EGE', 'YİĞİT']\n",
            "['GÖMLEK', 'KALEM', 'LAPTOP', 'CEP TELEFONU']\n",
            "1 3\n",
            "YİĞİT kişisi CEP TELEFONU kazandı.\n",
            "['UMUT EGE']\n",
            "['GÖMLEK', 'KALEM', 'LAPTOP']\n",
            "0 0\n",
            "UMUT EGE kişisi GÖMLEK kazandı.\n",
            "[]\n",
            "['KALEM', 'LAPTOP']\n"
          ]
        }
      ]
    },
    {
      "cell_type": "markdown",
      "source": [
        "ÖDEV: Görev dağılımı yapan program."
      ],
      "metadata": {
        "id": "ihtRp_1M28kP"
      }
    },
    {
      "cell_type": "markdown",
      "source": [
        "ÖRNEK: Dizi elemanlarını for döngüsü ile yazdırmak/kullanmak"
      ],
      "metadata": {
        "id": "l1S9Bv6YBK5g"
      }
    },
    {
      "cell_type": "code",
      "source": [
        "hediye = [\"GÖMLEK\", \"KALEM\", \"KİTAP\",\"LAPTOP\", \"CEP TELEFONU\", \"PLAYSTATION\"]\n",
        "for i in range(len(hediye)):\n",
        "  print(hediye[i])"
      ],
      "metadata": {
        "colab": {
          "base_uri": "https://localhost:8080/"
        },
        "id": "9vaZpg_XBvzX",
        "outputId": "08955c96-ac28-4e66-a300-2faa6b0db72c"
      },
      "execution_count": null,
      "outputs": [
        {
          "output_type": "stream",
          "name": "stdout",
          "text": [
            "GÖMLEK\n",
            "KALEM\n",
            "KİTAP\n",
            "LAPTOP\n",
            "CEP TELEFONU\n",
            "PLAYSTATION\n"
          ]
        }
      ]
    },
    {
      "cell_type": "code",
      "source": [
        "hediye = [\"GÖMLEK\", \"KALEM\", \"KİTAP\",\"LAPTOP\", \"CEP TELEFONU\", \"PLAYSTATION\"]\n",
        "for i in range(len(hediye)-1,-1,-1):\n",
        "  print(i, hediye[i])"
      ],
      "metadata": {
        "colab": {
          "base_uri": "https://localhost:8080/"
        },
        "id": "bt8X9zurC7n_",
        "outputId": "2ee84979-c0f1-4f52-9d7e-5f326a5b9ba5"
      },
      "execution_count": null,
      "outputs": [
        {
          "output_type": "stream",
          "name": "stdout",
          "text": [
            "5 PLAYSTATION\n",
            "4 CEP TELEFONU\n",
            "3 LAPTOP\n",
            "2 KİTAP\n",
            "1 KALEM\n",
            "0 GÖMLEK\n"
          ]
        }
      ]
    },
    {
      "cell_type": "code",
      "source": [
        "hediye = [\"GÖMLEK\", \"KALEM\", \"KİTAP\",\"LAPTOP\", \"CEP TELEFONU\", \"PLAYSTATION\"]\n",
        "for i in range(len(hediye)):\n",
        "  if hediye[i][1]==\"A\":\n",
        "    print(hediye[i])"
      ],
      "metadata": {
        "colab": {
          "base_uri": "https://localhost:8080/"
        },
        "id": "qKPpxKfDD57p",
        "outputId": "26a7b072-9440-49c8-b903-2f117524ed68"
      },
      "execution_count": null,
      "outputs": [
        {
          "output_type": "stream",
          "name": "stdout",
          "text": [
            "KALEM\n",
            "LAPTOP\n"
          ]
        }
      ]
    },
    {
      "cell_type": "code",
      "source": [
        "k = \"kara kalem çalışması\"\n",
        "harf = \"a\"\n",
        "satir =\"\"\n",
        "for i in range(len(k)):\n",
        "  if k[i]==harf:\n",
        "    satir = satir + \"*\"\n",
        "  else:\n",
        "    satir = satir + \" \"\n",
        "\n",
        "print(k)\n",
        "print(satir)"
      ],
      "metadata": {
        "colab": {
          "base_uri": "https://localhost:8080/"
        },
        "id": "vOobUTIWE0s5",
        "outputId": "068a5ccf-06b0-4ccb-b9ae-07cd436c4f71"
      },
      "execution_count": null,
      "outputs": [
        {
          "output_type": "stream",
          "name": "stdout",
          "text": [
            "kara kalem çalışması\n",
            " * *  *     *    *  \n"
          ]
        }
      ]
    },
    {
      "cell_type": "code",
      "source": [
        "#Sesli harflerin altını çizmek\n",
        "k = \"kara kalem çalışması kara kedi\"\n",
        "sh = [\"a\",\"e\",\"ı\",\"i\",\"u\",\"ü\",\"o\",\"ö\"]\n",
        "satir =\"\"\n",
        "for i in range(len(k)):\n",
        "  if (k[i] in sh):\n",
        "    satir = satir + \"*\"\n",
        "  else:\n",
        "    satir = satir + \" \"\n",
        "\n",
        "print(k)\n",
        "print(satir)"
      ],
      "metadata": {
        "colab": {
          "base_uri": "https://localhost:8080/"
        },
        "id": "IbLAEj1aHJ6D",
        "outputId": "b90767b8-7ed8-4550-b7c0-eb4d4a83caa9"
      },
      "execution_count": null,
      "outputs": [
        {
          "output_type": "stream",
          "name": "stdout",
          "text": [
            "kara kalem çalışması kara kedi\n",
            " * *  * *   * *  * *  * *  * *\n"
          ]
        }
      ]
    },
    {
      "cell_type": "code",
      "source": [
        "#Sessiz harflerin altını çizmek\n",
        "k = \"kara kalem çalışması kara kedi\"\n",
        "sh = [\"a\",\"e\",\"ı\",\"i\",\"u\",\"ü\",\"o\",\"ö\",\" \"]\n",
        "satir =\"\"\n",
        "for i in range(len(k)):\n",
        "  if (k[i] in sh):\n",
        "    satir = satir + \" \"\n",
        "  else:\n",
        "    satir = satir + \"*\"\n",
        "\n",
        "print(k)\n",
        "print(satir)"
      ],
      "metadata": {
        "colab": {
          "base_uri": "https://localhost:8080/"
        },
        "id": "k4k1ZAoGH2pH",
        "outputId": "f27311d7-b553-4a3f-82d5-efbd8fe9c207"
      },
      "execution_count": null,
      "outputs": [
        {
          "output_type": "stream",
          "name": "stdout",
          "text": [
            "kara kalem çalışması kara kedi\n",
            "* *  * * * * * ** *  * *  * * \n"
          ]
        }
      ]
    },
    {
      "cell_type": "code",
      "source": [
        "#Sesli harfleri atarak metni şifreleme\n",
        "k = \"kara kalem çalışması kara kedi\"\n",
        "sh = [\"a\",\"e\",\"ı\",\"i\",\"u\",\"ü\",\"o\",\"ö\"]\n",
        "satir =\"\"\n",
        "for i in range(len(k)):\n",
        "  if (k[i] in sh):\n",
        "    satir = satir + \"*\"\n",
        "  else:\n",
        "    satir = satir + k[i]\n",
        "\n",
        "print(\"Metin  :\",k)\n",
        "print(\"Şifreli:\",satir)"
      ],
      "metadata": {
        "colab": {
          "base_uri": "https://localhost:8080/"
        },
        "id": "-TYqJHFqIqOv",
        "outputId": "64046fb4-7b76-45b8-a739-d2a87cd1c31c"
      },
      "execution_count": null,
      "outputs": [
        {
          "output_type": "stream",
          "name": "stdout",
          "text": [
            "Metin  : kara kalem çalışması kara kedi\n",
            "Şifreli: k*r* k*l*m ç*l*şm*s* k*r* k*d*\n"
          ]
        }
      ]
    },
    {
      "cell_type": "markdown",
      "source": [
        "**Ödev**: \"Seslilere, yumuşak sessizlere, sert sessizlere ayrı karakter atayıp\" metni şifreleyin. **☹**"
      ],
      "metadata": {
        "id": "xy6Dd2M1JZYQ"
      }
    },
    {
      "cell_type": "markdown",
      "source": [
        "Google'ın arama algoritması PAGERANK. Videoyu izleyiniz.\n",
        "https://youtu.be/5iJDgvbT7vg "
      ],
      "metadata": {
        "id": "yC3hHWsDKjbY"
      }
    },
    {
      "cell_type": "markdown",
      "source": [
        "\n",
        "```\n",
        "**Method\tDescription**\n",
        "append()\tListenin sonuna bir eleman ekler.\n",
        "clear()\tListenin tüm elemanlarını siler.\n",
        "copy()\tListenin kopyasını oluşturur.\n",
        "count()\tBelirtilen elemanın dizideki sayısını bulur.\n",
        "extend()\tBir listenin elemanlarını, mevcut listenin sonuna ekler.\n",
        "index()\tBelirtilen elemanın dizideki ilk konumu(yerini, indeksini) bulur.\n",
        "insert()\tVerilen değeri listede belirtilen konuma ekler.\n",
        "--\n",
        "pop()\tRemoves the element at the specified position\n",
        "remove()\tRemoves the first item with the specified value\n",
        "reverse()\tReverses the order of the list\n",
        "sort()\tSorts the list\n",
        "```"
      ],
      "metadata": {
        "id": "PbqOtyugwDeb"
      }
    },
    {
      "cell_type": "code",
      "source": [
        "#append(), clear(), copy() kullanımı\n",
        "araba = [\"Ford\", \"Volvo\", \"BMW\"]\n",
        "yedek = araba.copy()\n",
        "print(araba)\n",
        "\n",
        "araba.append(\"Honda\")\n",
        "araba.append(\"TOGG\")\n",
        "\n",
        "print(araba)\n",
        "\n",
        "araba.clear()\n",
        "print(\"Listenin son durumu:\",araba)\n",
        "print(\"Listenin ilk durumu (yedeği):\",yedek)"
      ],
      "metadata": {
        "colab": {
          "base_uri": "https://localhost:8080/"
        },
        "id": "sldt3_jIvzCb",
        "outputId": "46eb4373-3014-4b45-af13-db054cec6500"
      },
      "execution_count": null,
      "outputs": [
        {
          "output_type": "stream",
          "name": "stdout",
          "text": [
            "['Ford', 'Volvo', 'BMW']\n",
            "['Ford', 'Volvo', 'BMW', 'Honda', 'TOGG']\n",
            "Listenin son durumu: []\n",
            "Listenin ilk durumu (yedeği): ['Ford', 'Volvo', 'BMW']\n"
          ]
        }
      ]
    },
    {
      "cell_type": "code",
      "source": [
        "#count() metodunun kullanımı\n",
        "sinav = [100, 90,95, 100, 100,90, 100]\n",
        "p = 90\n",
        "sayac = sinav.count(p)\n",
        "print(sayac, \"öğrenci \",p,\"aldı.\")"
      ],
      "metadata": {
        "colab": {
          "base_uri": "https://localhost:8080/"
        },
        "id": "Hzg5W25mw3ob",
        "outputId": "91ec0227-26b1-4d15-98e3-83b17e1880ee"
      },
      "execution_count": null,
      "outputs": [
        {
          "output_type": "stream",
          "name": "stdout",
          "text": [
            "2 öğrenci  90 aldı.\n"
          ]
        }
      ]
    },
    {
      "cell_type": "code",
      "source": [
        "#extend() kullanımı\n",
        "araba = [\"Ford\", \"Volvo\", \"BMW\"]\n",
        "tir = [\"Mercedes\", \"Fiat\"]\n",
        "araba.extend(tir)\n",
        "print(araba)"
      ],
      "metadata": {
        "colab": {
          "base_uri": "https://localhost:8080/"
        },
        "id": "cm7GqfDiy-50",
        "outputId": "798a30ba-cf25-4053-f54a-2821cf9c0fd8"
      },
      "execution_count": null,
      "outputs": [
        {
          "output_type": "stream",
          "name": "stdout",
          "text": [
            "['Ford', 'Volvo', 'BMW', 'Mercedes', 'Fiat']\n"
          ]
        }
      ]
    },
    {
      "cell_type": "code",
      "source": [
        "#index() kullanımı\n",
        "sinav = [100, 90,95, 100, 100,90, 100]\n",
        "x = sinav.index(90)\n",
        "print(x)"
      ],
      "metadata": {
        "colab": {
          "base_uri": "https://localhost:8080/"
        },
        "id": "nMaYWo4b0taz",
        "outputId": "85a8d926-84ff-4525-e28e-6783111da546"
      },
      "execution_count": null,
      "outputs": [
        {
          "output_type": "stream",
          "name": "stdout",
          "text": [
            "1\n"
          ]
        }
      ]
    },
    {
      "cell_type": "code",
      "source": [
        "#insert() kullanımı\n",
        "araba = [\"Ford\", \"Volvo\", \"BMW\"]\n",
        "araba.insert(2,\"TOGG\")\n",
        "print(araba)"
      ],
      "metadata": {
        "colab": {
          "base_uri": "https://localhost:8080/"
        },
        "id": "wj13g6Ju1jU7",
        "outputId": "4bf35dc9-e5a7-42d3-a291-9ebfd9bc725f"
      },
      "execution_count": null,
      "outputs": [
        {
          "output_type": "stream",
          "name": "stdout",
          "text": [
            "['Ford', 'Volvo', 'TOGG', 'BMW']\n"
          ]
        }
      ]
    },
    {
      "cell_type": "code",
      "source": [
        "#Matematik Alıştırma Programı\n",
        "import random\n",
        "a = random.randint(-1000,1000)\n",
        "b = random.randint(0,50)\n",
        "# Soru: 12 + 10 = ?\n",
        "#soru = \"Soru:\"+str(a)+\"+\"+str(b)+\"=?\"\n",
        "print(\"Soru:\",a,\"+\",b,\"=?\")\n",
        "cevap = int(input(\"Cevabınız?\"))\n",
        "if a+b == cevap:\n",
        "  print(\"Bildiniz.\")\n",
        "else:\n",
        "  print(\"Yanlış cevap.\")"
      ],
      "metadata": {
        "id": "IcCU5TV0DVcr"
      },
      "execution_count": null,
      "outputs": []
    },
    {
      "cell_type": "code",
      "source": [
        "#Matematik Alıştırma Programı\n",
        "import random\n",
        "while True:\n",
        "  a = random.randint(0,50)\n",
        "  b = random.randint(0,50)\n",
        "  print(\"Soru:\",a,\"+\",b,\"=?\")\n",
        "  cevap = int(input(\"Cevabınız?\"))\n",
        "  if a+b == cevap:\n",
        "    print(\"Bildiniz.\")\n",
        "    break\n",
        "  else:\n",
        "    print(\"Yanlış cevap.\")"
      ],
      "metadata": {
        "colab": {
          "base_uri": "https://localhost:8080/"
        },
        "id": "2wqnkvKtIMQk",
        "outputId": "cbc12861-f91e-4044-e90c-e1fdca835ef2"
      },
      "execution_count": null,
      "outputs": [
        {
          "output_type": "stream",
          "name": "stdout",
          "text": [
            "Soru: 14 + 1 =?\n",
            "Cevabınız?55\n",
            "Yanlış cevap.\n",
            "Soru: 33 + 46 =?\n",
            "Cevabınız?9\n",
            "Yanlış cevap.\n",
            "Soru: 18 + 28 =?\n",
            "Cevabınız?46\n",
            "Bildiniz.\n"
          ]
        }
      ]
    },
    {
      "cell_type": "code",
      "source": [
        "#Matematik Alıştırma Programı\n",
        "import random\n",
        "a, b, cevap = 0, 0, 1\n",
        "ust = 50\n",
        "while (a+b != cevap):\n",
        "  if ust<10:\n",
        "    ust = 5\n",
        "  a = random.randint(0,ust)\n",
        "  b = random.randint(0,ust)\n",
        "  print(\"Soru:\",a,\"+\",b,\"=?\")\n",
        "  cevap = int(input(\"Cevabınız?\"))\n",
        "  if a+b == cevap:\n",
        "    print(\"Bildiniz.\")\n",
        "  else:\n",
        "    print(\"Yanlış cevap.\")\n",
        "    ust = ust - 10"
      ],
      "metadata": {
        "colab": {
          "base_uri": "https://localhost:8080/"
        },
        "id": "bL5CmeM5Fw0D",
        "outputId": "bf1da59d-575c-4ed9-fcaa-23f62cfda513"
      },
      "execution_count": null,
      "outputs": [
        {
          "output_type": "stream",
          "name": "stdout",
          "text": [
            "Soru: 27 + 30 =?\n",
            "Cevabınız?9\n",
            "Yanlış cevap.\n",
            "Soru: 29 + 3 =?\n",
            "Cevabınız?45\n",
            "Yanlış cevap.\n",
            "Soru: 27 + 11 =?\n",
            "Cevabınız?2\n",
            "Yanlış cevap.\n",
            "Soru: 20 + 9 =?\n",
            "Cevabınız?8\n",
            "Yanlış cevap.\n",
            "Soru: 9 + 10 =?\n",
            "Cevabınız?5\n",
            "Yanlış cevap.\n",
            "Soru: 2 + 3 =?\n",
            "Cevabınız?5\n",
            "Bildiniz.\n"
          ]
        }
      ]
    },
    {
      "cell_type": "markdown",
      "source": [
        "# DOSYA İŞLEMLERİ"
      ],
      "metadata": {
        "id": "6rz5T73K0bCG"
      }
    },
    {
      "cell_type": "code",
      "source": [
        "# Dosya oluşturma\n",
        "a = open(\"atasozu.txt\", \"a\")\n",
        "mesaj = \"SAKLA SAMANI GELİR ZAMANI***\"\n",
        "mesaj2 = \"DAMLAYA DAMLAYA GÖL OLUR----\"\n",
        "a.write(mesaj+\"\\n\")\n",
        "a.write(mesaj2+\"\\n\")\n",
        "a.close()"
      ],
      "metadata": {
        "id": "VJRpnPVI0iFM"
      },
      "execution_count": null,
      "outputs": []
    },
    {
      "cell_type": "code",
      "source": [
        "#kurs bilgileri\n",
        "d = open(\"kurs.txt\", \"w\")   #dosyayı write(yazma) modunda açtık/tanımladık.\n",
        "d.write(\"Kursta Python öğreniyoruz.\")\n",
        "d.write(\"Çarşamba ve Cuma günleri\\nders çıkışında çalışıyoruz.\")\n",
        "d.write(\"\\nKatılanlar:\\nUmut\\nYiğit\\nEmre\\nMelih\\n\")\n",
        "d.write(10*\"-\")\n",
        "print(\"Dosyaya kurs bilgileri yazıldı.\")\n",
        "d.close()"
      ],
      "metadata": {
        "colab": {
          "base_uri": "https://localhost:8080/"
        },
        "id": "qLHs7DAhGR2X",
        "outputId": "3bc225c4-1bd1-4ab0-9ab8-e18447b5f52b"
      },
      "execution_count": null,
      "outputs": [
        {
          "output_type": "stream",
          "name": "stdout",
          "text": [
            "Dosyaya kurs bilgileri yazıldı.\n"
          ]
        }
      ]
    },
    {
      "cell_type": "code",
      "source": [
        "#Yarışma programı\n",
        "d = open(\"sorular.txt\",\"r\")\n",
        "soru = d.readline().strip()\n",
        "dc = d.readline().strip()\n",
        "print(soru)\n",
        "c = input(\"Cevaplayın:\")\n",
        "if c==dc:\n",
        "  print(\"Doğru\")\n",
        "else:\n",
        "  print(\"Yanlış\")"
      ],
      "metadata": {
        "id": "l3UmETjiLaFw"
      },
      "execution_count": null,
      "outputs": []
    },
    {
      "cell_type": "code",
      "source": [
        "d = open(\"optik.txt\", \"r\")\n",
        "\n",
        "ca = []   #cevap anahtarı listesi boş hali\n",
        "isim = d.read(10)\n",
        "for i in range(10):\n",
        "    siradaki = d.read(1)\n",
        "    ca.append(siradaki)\n",
        "#Cevap ahahtarını yükledik\n",
        "\n",
        "for k in range(5):\n",
        "  isim=d.read(11)\n",
        "  dsay=0\n",
        "  ysay=0\n",
        "  for i in range(10):\n",
        "    okunan = d.read(1)\n",
        "    if ca[i]==okunan:\n",
        "      dsay=dsay + 1\n",
        "    else:\n",
        "      ysay=ysay + 1\n",
        "  print(isim, dsay, ysay)"
      ],
      "metadata": {
        "colab": {
          "base_uri": "https://localhost:8080/"
        },
        "id": "j7vSP0Oa_Mp0",
        "outputId": "9fb749a9-cf00-497b-cb39-188297b20b1d"
      },
      "execution_count": null,
      "outputs": [
        {
          "output_type": "stream",
          "name": "stdout",
          "text": [
            "\n",
            "UMUT EGE   10 0\n",
            "\n",
            "YİĞİT      9 1\n",
            "\n",
            "YAĞMUR     0 10\n",
            "\n",
            "MELİH      6 4\n",
            "\n",
            "EMRE       2 8\n"
          ]
        }
      ]
    },
    {
      "cell_type": "code",
      "source": [
        "a = open(\"isim.txt\",\"r\")\n",
        "b = open(\"iller.txt\",\"r\")\n",
        "kisi = []\n",
        "yer = []\n",
        "\n",
        "print(kisi)\n",
        "okunan = a.readline().strip()\n",
        "kisi.append(okunan)\n",
        "print(kisi)\n",
        "\n",
        "a.close()\n",
        "b.close()"
      ],
      "metadata": {
        "colab": {
          "base_uri": "https://localhost:8080/"
        },
        "id": "jW2aVyOO-1Q7",
        "outputId": "217fae2b-bbf5-4917-befa-d6fadf4c6385"
      },
      "execution_count": null,
      "outputs": [
        {
          "output_type": "stream",
          "name": "stdout",
          "text": [
            "[]\n",
            "['UMUT EGE']\n"
          ]
        }
      ]
    },
    {
      "cell_type": "code",
      "source": [
        "b = 0\n",
        "while b<10:\n",
        "  print(b,\"Değeri 10 dan küçüktür.\")\n",
        "    b = b + 1\n",
        "else:\n",
        "  print(\"İşlem bitti\")"
      ],
      "metadata": {
        "colab": {
          "base_uri": "https://localhost:8080/"
        },
        "id": "ukIdmxkTaMRD",
        "outputId": "4efd21b5-5e87-44f0-bb8b-9494bee2943c"
      },
      "execution_count": null,
      "outputs": [
        {
          "output_type": "stream",
          "name": "stdout",
          "text": [
            "1 Değeri 10 dan küçüktür.\n",
            "2 Değeri 10 dan küçüktür.\n",
            "3 Değeri 10 dan küçüktür.\n",
            "4 Değeri 10 dan küçüktür.\n",
            "5 Değeri 10 dan küçüktür.\n",
            "6 Değeri 10 dan küçüktür.\n",
            "7 Değeri 10 dan küçüktür.\n",
            "8 Değeri 10 dan küçüktür.\n",
            "9 Değeri 10 dan küçüktür.\n",
            "10 Değeri 10 dan küçüktür.\n",
            "İşlem bitti\n"
          ]
        }
      ]
    },
    {
      "cell_type": "code",
      "source": [
        "# Negatif değer girinceye değer okusun.\n",
        "# Okuduğu değerleri grafikte göstersin.\n",
        "\"\"\"\n",
        "5 |||||\n",
        "10 ||||||||||\n",
        "\"\"\""
      ],
      "metadata": {
        "id": "k3_OOChc76bk"
      },
      "execution_count": null,
      "outputs": []
    },
    {
      "cell_type": "markdown",
      "source": [
        "# Dictionary (sözlük)"
      ],
      "metadata": {
        "id": "XYHCbAcGH_8L"
      }
    },
    {
      "cell_type": "code",
      "source": [
        "a=10\n",
        "isim = \"Kaan\"\n",
        "meyve = [\"kivi\",\"elma\"]  #liste\n",
        "\n",
        "otomobil =\t{\n",
        "  \"marka\": \"Ford\",\n",
        "  \"model\": \"Mustang\",\n",
        "  \"yil\"  : 1964\n",
        "}\n",
        "\n",
        "kaan = {\n",
        "\"ad\"   : \"Kaan Alp\",\n",
        "\"soyad\": \"Yılmaz\",\n",
        "\"goz\"  : \"Siyah\",\n",
        "\"dtar\" : 2011\n",
        "}\n",
        "\n",
        "kitap = {\n",
        "\"ad\"   : \"Nutuk\",\n",
        "\"yazar\": \"Mustafa Kemal\",\n",
        "\"sayfa\": 543,\n",
        "\"byil\" : 2011,\n",
        "\"yayin\": \"Kırmızı Kedi\"\n",
        "}\n",
        "\n",
        "print(otomobil)\n",
        "print(kaan)\n",
        "print(kitap)"
      ],
      "metadata": {
        "id": "2WZF88xdLPEU"
      },
      "execution_count": null,
      "outputs": []
    },
    {
      "cell_type": "code",
      "source": [
        "kitap = {\n",
        "\"ad\"   : \"Nutuk\",\n",
        "\"yazar\": \"Mustafa Kemal\",\n",
        "\"sayfa\": 543,\n",
        "\"byil\" : 2011,\n",
        "\"yayin\": \"Kırmızı Kedi\"\n",
        "}\n",
        "#print(kitap[\"ad\"], kitap[\"byil\"])\n",
        "kitap[\"yazar\"] = input(\"Kitabın yazarı: \")\n",
        "if kitap[\"byil\"]>=2011:\n",
        "  print(kitap[\"ad\"],kitap[\"yazar\"],kitap[\"yayin\"])\n",
        "else:\n",
        "  print(\"Kitap bulunamadı!\")"
      ],
      "metadata": {
        "colab": {
          "base_uri": "https://localhost:8080/"
        },
        "id": "4B5TjbxCILEU",
        "outputId": "a0cec65e-a3c6-4557-cf61-02e07a8b4f13"
      },
      "execution_count": null,
      "outputs": [
        {
          "output_type": "stream",
          "name": "stdout",
          "text": [
            "Kitabın yazarı: ATATÜRK\n",
            "Nutuk ATATÜRK Kırmızı Kedi\n"
          ]
        }
      ]
    },
    {
      "cell_type": "markdown",
      "source": [
        "## Chat GPT Çalışmaları"
      ],
      "metadata": {
        "id": "3dB_EoKIpZKa"
      }
    },
    {
      "cell_type": "code",
      "source": [
        "ogrenciler = [{\"isim\":\"Ahmet\",\"notlar\":[80,90,85,95]},{\"isim\":\"Mehmet\",\"notlar\":[70,65,75,82]},{\"isim\":\"Hasan\",\"notlar\":[90,95,87,92]}]\n",
        "toplam_not = 0\n",
        "ogrenci_sayisi = len(ogrenciler)\n",
        "for ogrenci in ogrenciler:\n",
        "    toplam_not += sum(ogrenci[\"notlar\"])\n",
        "sinif_ortalama = toplam_not / (ogrenci_sayisi * 4)\n",
        "print(\"Sınıf Ortalaması: \", sinif_ortalama)\n"
      ],
      "metadata": {
        "colab": {
          "base_uri": "https://localhost:8080/"
        },
        "id": "ppYJ8i6gpTky",
        "outputId": "368ade2f-e1d2-412d-9684-b3d60275603b"
      },
      "execution_count": null,
      "outputs": [
        {
          "output_type": "stream",
          "name": "stdout",
          "text": [
            "Sınıf Ortalaması:  83.83333333333333\n"
          ]
        }
      ]
    },
    {
      "cell_type": "code",
      "source": [
        "ogrenciler = [{\"isim\":\"Ahmet\",\"notlar\":[80,90,85,95]},{\"isim\":\"Mehmet\",\"notlar\":[70,65,75,82]},{\"isim\":\"Hasan\",\"notlar\":[90,95,87,92]}]\n",
        "\n",
        "toplam_not = sum([sum(ogrenci[\"notlar\"]) for ogrenci in ogrenciler])\n",
        "sinif_ortalama = toplam_not / (len(ogrenciler) * 4)\n",
        "print(\"Sınıf Ortalaması: \", sinif_ortalama)\n"
      ],
      "metadata": {
        "colab": {
          "base_uri": "https://localhost:8080/"
        },
        "id": "x3p3e-k7p2MR",
        "outputId": "4eb9e04a-b816-4643-ac47-040c8ddf7e4d"
      },
      "execution_count": null,
      "outputs": [
        {
          "output_type": "stream",
          "name": "stdout",
          "text": [
            "Sınıf Ortalaması:  83.83333333333333\n"
          ]
        }
      ]
    },
    {
      "cell_type": "code",
      "source": [
        "mesaj = input(\"Lütfen bir mesaj girin: \")\n",
        "tersten_mesaj = mesaj[::-1]\n",
        "print(\"Tersten Yazılmış Mesaj: \", tersten_mesaj)\n"
      ],
      "metadata": {
        "colab": {
          "base_uri": "https://localhost:8080/"
        },
        "id": "hixk8tcTqS6R",
        "outputId": "0e4e669c-adc3-4609-9100-941bea2361fb"
      },
      "execution_count": null,
      "outputs": [
        {
          "output_type": "stream",
          "name": "stdout",
          "text": [
            "Lütfen bir mesaj girin: ANKARA BAŞKENT\n",
            "Tersten Yazılmış Mesaj:  TNEKŞAB ARAKNA\n"
          ]
        }
      ]
    },
    {
      "cell_type": "code",
      "source": [
        "# Kişilerin isimlerini bir liste olarak tanımlayın\n",
        "kisiler = [\"Ahmet\", \"Mehmet\", \"Hasan\", \"Hüseyin\", \"Yasin\", \"Osman\", \"Cengiz\", \"Metin\", \"Oğuz\", \"Emre\"]\n",
        "\n",
        "# Görevleri bir liste olarak tanımlayın\n",
        "gorevler = [\"Görev 1\", \"Görev 2\", \"Görev 3\", \"Görev 4\"]\n",
        "\n",
        "# Görevleri kişilere dağıtmak için döngü kullanın\n",
        "for i, kisi in enumerate(kisiler):\n",
        "    print(\"{} için {} görevi verildi.\".format(kisi, gorevler[i% len(gorevler)]))\n"
      ],
      "metadata": {
        "colab": {
          "base_uri": "https://localhost:8080/"
        },
        "id": "Qm5FUTtktLTh",
        "outputId": "735ab85e-afc0-422b-ba32-9a585f5ceb46"
      },
      "execution_count": null,
      "outputs": [
        {
          "output_type": "stream",
          "name": "stdout",
          "text": [
            "Ahmet için Görev 1 görevi verildi.\n",
            "Mehmet için Görev 2 görevi verildi.\n",
            "Hasan için Görev 3 görevi verildi.\n",
            "Hüseyin için Görev 4 görevi verildi.\n",
            "Yasin için Görev 1 görevi verildi.\n",
            "Osman için Görev 2 görevi verildi.\n",
            "Cengiz için Görev 3 görevi verildi.\n",
            "Metin için Görev 4 görevi verildi.\n",
            "Oğuz için Görev 1 görevi verildi.\n",
            "Emre için Görev 2 görevi verildi.\n"
          ]
        }
      ]
    },
    {
      "cell_type": "code",
      "source": [
        "# Kişilerin isimlerini bir liste olarak tanımlayın\n",
        "kisiler = [\"Ahmet\", \"Mehmet\", \"Hasan\", \"Hüseyin\", \"Yasin\", \"Osman\", \"Cengiz\", \"Metin\", \"Oğuz\", \"Emre\"]\n",
        "\n",
        "# Görevleri bir liste olarak tanımlayın\n",
        "gorevler = [\"Görev 1\", \"Görev 2\", \"Görev 3\", \"Görev 4\"]\n",
        "\n",
        "# Görevleri kişilere dağıtmak için döngü kullanın\n",
        "gorev_atamalari = {}\n",
        "for i, kisi in enumerate(kisiler):\n",
        "    gorev = gorevler[i% len(gorevler)]\n",
        "    if gorev not in gorev_atamalari:\n",
        "        gorev_atamalari[gorev] = []\n",
        "    gorev_atamalari[gorev].append(kisi)\n",
        "\n",
        "for gorev, kisiler in gorev_atamalari.items():\n",
        "    print(\"{} Görevi:\".format(gorev))\n",
        "    for kisi in kisiler:\n",
        "        print(\"- {}\".format(kisi))\n",
        "    print(\"\\n\")\n"
      ],
      "metadata": {
        "colab": {
          "base_uri": "https://localhost:8080/"
        },
        "id": "oyRy3lmktxv6",
        "outputId": "0996c665-bab1-49f2-e440-22420f837143"
      },
      "execution_count": null,
      "outputs": [
        {
          "output_type": "stream",
          "name": "stdout",
          "text": [
            "Görev 1 Görevi:\n",
            "- Ahmet\n",
            "- Yasin\n",
            "- Oğuz\n",
            "\n",
            "\n",
            "Görev 2 Görevi:\n",
            "- Mehmet\n",
            "- Osman\n",
            "- Emre\n",
            "\n",
            "\n",
            "Görev 3 Görevi:\n",
            "- Hasan\n",
            "- Cengiz\n",
            "\n",
            "\n",
            "Görev 4 Görevi:\n",
            "- Hüseyin\n",
            "- Metin\n",
            "\n",
            "\n"
          ]
        }
      ]
    },
    {
      "cell_type": "code",
      "source": [
        "import random\n",
        "\n",
        "kelimeler = [\"elma\", \"güzeldir\", \"kalem\", \"yazar\"]\n",
        "cümleler = []\n",
        "\n",
        "for i in range(10):\n",
        "    cümle = random.choice(kelimeler) + \" \" + random.choice(kelimeler) + \" \" + random.choice(kelimeler)\n",
        "    cümleler.append(cümle)\n",
        "\n",
        "for cümle in cümleler:\n",
        "    print(cümle)\n"
      ],
      "metadata": {
        "colab": {
          "base_uri": "https://localhost:8080/"
        },
        "id": "d-h3l9U-ukEy",
        "outputId": "3ac13fdd-afaf-423e-dac1-20d2080c99c7"
      },
      "execution_count": null,
      "outputs": [
        {
          "output_type": "stream",
          "name": "stdout",
          "text": [
            "güzeldir elma kalem\n",
            "yazar yazar yazar\n",
            "kalem yazar kalem\n",
            "kalem güzeldir kalem\n",
            "yazar yazar güzeldir\n",
            "kalem elma elma\n",
            "yazar yazar yazar\n",
            "güzeldir yazar yazar\n",
            "güzeldir kalem güzeldir\n",
            "kalem yazar kalem\n"
          ]
        }
      ]
    },
    {
      "cell_type": "code",
      "source": [
        "sayilar = [\"bir\", \"iki\", \"üç\", \"dört\", \"beş\"]\n",
        "sıfatlar = [\"güzel\", \"uzun\", \"kısa\", \"eski\", \"yeni\"]\n",
        "özneler = [\"araba\", \"ev\", \"insan\", \"kitap\", \"masa\"]\n",
        "yüklemler = [\"koşuyor\", \"okuyor\", \"yazıyor\", \"yürüyor\", \"duruyor\"]\n",
        "\n",
        "for i in range(5):\n",
        "    cümle = random.choice(sayilar) + \" \" + random.choice(sıfatlar) + \" \" + random.choice(özneler) + \" \" + random.choice(yüklemler)\n",
        "    print(cümle)\n"
      ],
      "metadata": {
        "colab": {
          "base_uri": "https://localhost:8080/"
        },
        "id": "SW2aHscKvTrS",
        "outputId": "ff0796c9-4df5-44b0-84c8-0fa76b9d2220"
      },
      "execution_count": null,
      "outputs": [
        {
          "output_type": "stream",
          "name": "stdout",
          "text": [
            "iki kısa kitap yazıyor\n",
            "iki güzel masa yazıyor\n",
            "dört uzun masa okuyor\n",
            "beş eski kitap duruyor\n",
            "beş eski araba yazıyor\n"
          ]
        }
      ]
    },
    {
      "cell_type": "code",
      "source": [
        "import random\n",
        "\n",
        "erkek_ismleri = [\"Ahmet\", \"Mehmet\", \"Hasan\"]\n",
        "kadın_ismleri = [\"Ayşe\", \"Fatma\", \"Hacer\"]\n",
        "erkek_yüklem = \"koşuyor\"\n",
        "kadın_yüklem = \"yürüyor\"\n",
        "\n",
        "cümleler = []\n",
        "for i in range(3):\n",
        "    cümle = \"{} {} {}.\".format(random.choice(erkek_ismleri), erkek_yüklem, \".\")\n",
        "    cümleler.append(cümle)\n",
        "    \n",
        "for i in range(3):\n",
        "    cümle = \"{} {} {}.\".format(random.choice(kadın_ismleri), kadın_yüklem, \".\")\n",
        "    cümleler.append(cümle)\n",
        "\n",
        "random.shuffle(cümleler)\n",
        "for cümle in cümleler:\n",
        "    print(cümle)\n"
      ],
      "metadata": {
        "colab": {
          "base_uri": "https://localhost:8080/"
        },
        "id": "pzyyH_5twj8i",
        "outputId": "d67af83d-8ce7-458d-dd3b-f91a662e5d09"
      },
      "execution_count": null,
      "outputs": [
        {
          "output_type": "stream",
          "name": "stdout",
          "text": [
            "Hacer yürüyor ..\n",
            "Hasan koşuyor ..\n",
            "Mehmet koşuyor ..\n",
            "Ahmet koşuyor ..\n",
            "Ayşe yürüyor ..\n",
            "Hacer yürüyor ..\n"
          ]
        }
      ]
    },
    {
      "cell_type": "code",
      "source": [
        "import random\n",
        "import string\n",
        "\n",
        "# Öğrencinin bilgilerini alın\n",
        "isim = input(\"Öğrencinin adını girin: \")\n",
        "dogum_yeri = input(\"Öğrencinin doğum yerini girin: \")\n",
        "\n",
        "# Parola oluşturmak için rasgele karakterler ve öğrencinin bilgilerini kullanın\n",
        "parola = ''.join(random.choice(string.ascii_letters + string.digits) for i in range(5))\n",
        "parola = parola + isim[:2] + dogum_yeri[-3:]\n",
        "\n",
        "# Parolayı karıştırın\n",
        "random.shuffle(list(parola))\n",
        "parola = \"\".join(list(parola))\n",
        "\n",
        "print(\"Öğrencinin parolası:\", parola)\n"
      ],
      "metadata": {
        "colab": {
          "base_uri": "https://localhost:8080/"
        },
        "id": "8cOJRFqXxVj9",
        "outputId": "e26efd9d-ce5d-44b1-803e-4c093df1c603"
      },
      "execution_count": null,
      "outputs": [
        {
          "output_type": "stream",
          "name": "stdout",
          "text": [
            "Öğrencinin adını girin: HASAN\n",
            "Öğrencinin doğum yerini girin: BURSA\n",
            "Öğrencinin parolası: Bz8BtHARSA\n"
          ]
        }
      ]
    },
    {
      "cell_type": "code",
      "source": [
        "import random\n",
        "l = [2,3,4,5]\n",
        "a = random.choice(l)\n",
        "print(a)"
      ],
      "metadata": {
        "colab": {
          "base_uri": "https://localhost:8080/"
        },
        "id": "N8Eiwa90x46c",
        "outputId": "34bb81c9-6376-4600-bcbc-4ff4f614f5d2"
      },
      "execution_count": null,
      "outputs": [
        {
          "output_type": "stream",
          "name": "stdout",
          "text": [
            "2\n"
          ]
        }
      ]
    },
    {
      "cell_type": "code",
      "source": [
        "print(l,\"\\n\",20*\"-\")\n",
        "for i in range(5):\n",
        "  random.shuffle(l)\n",
        "  print(l)"
      ],
      "metadata": {
        "colab": {
          "base_uri": "https://localhost:8080/"
        },
        "id": "0r80vO66zPxz",
        "outputId": "6452339f-6653-4644-96e5-2739b144e909"
      },
      "execution_count": null,
      "outputs": [
        {
          "output_type": "stream",
          "name": "stdout",
          "text": [
            "[5, 3, 4, 2] \n",
            " --------------------\n",
            "[3, 5, 4, 2]\n",
            "[4, 5, 2, 3]\n",
            "[5, 4, 2, 3]\n",
            "[2, 5, 4, 3]\n",
            "[2, 5, 3, 4]\n"
          ]
        }
      ]
    },
    {
      "cell_type": "code",
      "source": [
        "text = input(\"Enter a word or phrase: \")\n",
        "print(\"\\033[1;31;47m\" + text + \"\\033[m\")\n"
      ],
      "metadata": {
        "id": "VoPb3osZ1lCL",
        "outputId": "f9e1107e-0627-47ca-e25d-a00044a3a112",
        "colab": {
          "base_uri": "https://localhost:8080/"
        }
      },
      "execution_count": null,
      "outputs": [
        {
          "output_type": "stream",
          "name": "stdout",
          "text": [
            "Enter a word or phrase: ALİ\n",
            "\u001b[1;31;47mALİ\u001b[m\n"
          ]
        }
      ]
    },
    {
      "cell_type": "code",
      "source": [
        "from random import randint\n",
        "\n",
        "x = randint(1, 10)\n",
        "y = randint(1, 10)\n",
        "islem = randint(1,3)\n",
        "\n",
        "if islem == 1:\n",
        "    print(\"{} + {} = ?\".format(x, y))\n",
        "    cevap = x + y\n",
        "elif islem == 2:\n",
        "    print(\"{} - {} = ?\".format(x, y))\n",
        "    cevap = x - y\n",
        "else:\n",
        "    print(\"{} * {} = ?\".format(x, y))\n",
        "    cevap = x * y\n",
        "\n",
        "girilen_cevap = int(input(\"Cevabı giriniz: \"))\n",
        "if girilen_cevap == cevap:\n",
        "    print(\"Doğru cevap!\")\n",
        "else:\n",
        "    print(\"Yanlış cevap. Doğru cevap: {}\".format(cevap))"
      ],
      "metadata": {
        "colab": {
          "base_uri": "https://localhost:8080/"
        },
        "id": "bpOG3YbxnN-Z",
        "outputId": "51e796e1-56c0-44b2-9fd6-d33aee3ae62c"
      },
      "execution_count": null,
      "outputs": [
        {
          "output_type": "stream",
          "name": "stdout",
          "text": [
            "5 + 4 = ?\n",
            "Cevabı giriniz: 9\n",
            "Doğru cevap!\n"
          ]
        }
      ]
    },
    {
      "cell_type": "markdown",
      "source": [
        "Bu kod \"random\" kütüphanesini kullanarak, x ve y değişkenlerine 1 ile 10 arasında rastgele bir sayı atar ve islem değişkenine 1, 2 veya 3 rastgele bir sayı atar. Program sonra islem değişkenine göre x ve y değişkenleri arasında toplama, çıkarma veya çarpma işlemi yapar ve kullanıcıya sorar. Kullanıcının girdiği cevap ile gerçek cevabı karşılaştırır ve doğru veya yanlış olarak yazdırır."
      ],
      "metadata": {
        "id": "ulgnuCLioyEQ"
      }
    },
    {
      "cell_type": "code",
      "source": [
        "from datetime import date\n",
        "\n",
        "dogum_tarihi = date(1995, 7, 20)\n",
        "bugun = date.today()\n",
        "\n",
        "ahmet_yas = bugun.year - dogum_tarihi.year - ((bugun.month, bugun.day) < (dogum_tarihi.month, dogum_tarihi.day))\n",
        "\n",
        "print(\"Ahmet'in yaşı:\", ahmet_yas)"
      ],
      "metadata": {
        "colab": {
          "base_uri": "https://localhost:8080/"
        },
        "id": "FqjNc2I_oudx",
        "outputId": "5ceea7a5-2cfd-4af6-b63e-eae37e8a5fb5"
      },
      "execution_count": null,
      "outputs": [
        {
          "output_type": "stream",
          "name": "stdout",
          "text": [
            "Ahmet'in yaşı: 27\n"
          ]
        }
      ]
    },
    {
      "cell_type": "code",
      "source": [
        "from datetime import date, timedelta\n",
        "\n",
        "dogum_tarihi = date(1995, 7, 20)\n",
        "bugun = date.today()\n",
        "\n",
        "yas = bugun - dogum_tarihi\n",
        "\n",
        "print(\"Ahmet'in yaşı: {} yıl {} ay {} gün.\".format(yas.days//365, (yas.days%365)//30, yas.days%30))"
      ],
      "metadata": {
        "colab": {
          "base_uri": "https://localhost:8080/"
        },
        "id": "5dLj5v17qGf3",
        "outputId": "8b1c275e-74bf-409b-cad4-c4a989283b12"
      },
      "execution_count": null,
      "outputs": [
        {
          "output_type": "stream",
          "name": "stdout",
          "text": [
            "Ahmet'in yaşı: 27 yıl 6 ay 27 gün.\n"
          ]
        }
      ]
    },
    {
      "cell_type": "code",
      "source": [
        "sicaklik_degerleri = [2, -5, 1, 3, -2, 6, 0, 14, 11, -1]\n",
        "\n",
        "max_sicaklik = max(sicaklik_degerleri)\n",
        "min_sicaklik = min(sicaklik_degerleri)\n",
        "ort_sicaklik = sum(sicaklik_degerleri) / len(sicaklik_degerleri)\n",
        "\n",
        "print(\"Ocak ayı sıcaklıkları:\")\n",
        "print(\"Maksimum sıcaklık:\", max_sicaklik)\n",
        "print(\"Minimum sıcaklık :\", min_sicaklik)\n",
        "print(\"Ortalama sıcaklık: {:.2f}\".format(ort_sicaklik))\n"
      ],
      "metadata": {
        "colab": {
          "base_uri": "https://localhost:8080/"
        },
        "id": "sASWcwF3s7Wl",
        "outputId": "78bd88bd-6db1-4d0d-a0eb-0da920b861d7"
      },
      "execution_count": null,
      "outputs": [
        {
          "output_type": "stream",
          "name": "stdout",
          "text": [
            "Ocak ayı sıcaklıkları:\n",
            "Maksimum sıcaklık: 14\n",
            "Minimum sıcaklık : -5\n",
            "Ortalama sıcaklık: 2.90\n"
          ]
        }
      ]
    },
    {
      "cell_type": "code",
      "source": [
        "def ev_ascii_art():\n",
        "    ev = \"\"\"\n",
        "    /\\      /\\\n",
        "   //\\\\    //\\\\\n",
        "  //  \\\\  //  \\\\\n",
        " //    \\\\//    \\\\\n",
        "//______\\\\______\\\\\n",
        "|  _    ||    _  |\n",
        "| | |   ||   | | |\n",
        "| | |   ||   | | |\n",
        "| | |___||___| | |\n",
        "| | |---||---| | |\n",
        "| | |   ||   | | |\n",
        "| | |   ||   | | |\n",
        "| |_____||_____| |\n",
        "|_|     ||     |_|\n",
        "    \"\"\"\n",
        "    print(ev)\n",
        "\n",
        "ev_ascii_art()\n"
      ],
      "metadata": {
        "colab": {
          "base_uri": "https://localhost:8080/"
        },
        "id": "ZrnZzX01vizm",
        "outputId": "52e06dc5-f8e7-43cc-9d94-7061a1c696b7"
      },
      "execution_count": null,
      "outputs": [
        {
          "output_type": "stream",
          "name": "stdout",
          "text": [
            "\n",
            "    /\\      /   //\\    //\\\n",
            "  //  \\  //  \\\n",
            " //    \\//    \\\n",
            "//______\\______\\\n",
            "|  _    ||    _  |\n",
            "| | |   ||   | | |\n",
            "| | |   ||   | | |\n",
            "| | |___||___| | |\n",
            "| | |---||---| | |\n",
            "| | |   ||   | | |\n",
            "| | |   ||   | | |\n",
            "| |_____||_____| |\n",
            "|_|     ||     |_|\n",
            "    \n"
          ]
        }
      ]
    },
    {
      "cell_type": "code",
      "source": [
        "def otomobil_ascii_art():\n",
        "    otomobil = \"\"\"\n",
        "          _____\n",
        "         /     \\\\\n",
        "        /_______\\\\\n",
        "        |       |\n",
        "        |_______|\n",
        "    \"\"\"\n",
        "    print(otomobil)\n",
        "\n",
        "otomobil_ascii_art()\n"
      ],
      "metadata": {
        "colab": {
          "base_uri": "https://localhost:8080/"
        },
        "id": "jHbj2OwkwzWl",
        "outputId": "37bbd34d-95b8-4d1c-8b80-118238098831"
      },
      "execution_count": null,
      "outputs": [
        {
          "output_type": "stream",
          "name": "stdout",
          "text": [
            "\n",
            "          _____\n",
            "         /     \\\n",
            "        /_______\\\n",
            "        |       |\n",
            "        |_______|\n",
            "    \n"
          ]
        }
      ]
    },
    {
      "cell_type": "code",
      "source": [
        "def portre_ascii_art():\n",
        "    portre = \"\"\"\n",
        "            .-======-.\n",
        "          .'          '.\n",
        "         /   O      O   \\\\\n",
        "        :                :\n",
        "        |                |\n",
        "        : ',          ,' :\n",
        "         \\\\  '-......-'  /\n",
        "          '.          .'\n",
        "            '-......-'\n",
        "    \"\"\"\n",
        "    print(portre)\n",
        "\n",
        "portre_ascii_art()\n"
      ],
      "metadata": {
        "colab": {
          "base_uri": "https://localhost:8080/"
        },
        "id": "2PlVKKqixVtH",
        "outputId": "d0cc6659-0f0b-4f07-90e8-7e1c874d3073"
      },
      "execution_count": null,
      "outputs": [
        {
          "output_type": "stream",
          "name": "stdout",
          "text": [
            "\n",
            "            .-======-.\n",
            "          .'          '.\n",
            "         /   O      O   \\\n",
            "        :                :\n",
            "        |                |\n",
            "        : ',          ,' :\n",
            "         \\  '-......-'  /\n",
            "          '.          .'\n",
            "            '-......-'\n",
            "    \n"
          ]
        }
      ]
    },
    {
      "cell_type": "code",
      "source": [
        "def kedi_ascii_art():\n",
        "    kedi = \"\"\"\n",
        "            /\\\\_/\\\\  \n",
        "           ( o.o ) \n",
        "            > ^ <\n",
        "    \"\"\"\n",
        "    print(kedi)\n",
        "\n",
        "kedi_ascii_art()\n"
      ],
      "metadata": {
        "colab": {
          "base_uri": "https://localhost:8080/"
        },
        "id": "phRRi-5gyS4l",
        "outputId": "7d5a2527-53ad-4402-8f66-2f9c7aa0cea6"
      },
      "execution_count": null,
      "outputs": [
        {
          "output_type": "stream",
          "name": "stdout",
          "text": [
            "\n",
            "            /\\_/\\  \n",
            "           ( o.o ) \n",
            "            > ^ <\n",
            "    \n"
          ]
        }
      ]
    }
  ]
}