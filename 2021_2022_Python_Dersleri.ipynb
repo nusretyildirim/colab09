{
  "nbformat": 4,
  "nbformat_minor": 0,
  "metadata": {
    "colab": {
      "provenance": [],
      "collapsed_sections": [
        "OYV9Ound24bX",
        "CGosynicuhVq",
        "2JC_xqlxupZa",
        "VUkYXRBfu1KJ",
        "0yjTwrXhu_3k",
        "atCMtXUdvb0S",
        "LBvfcv38vnnz",
        "nwdWRsutvwfo",
        "Qcx0mCKQ0dPB"
      ],
      "toc_visible": true
    },
    "kernelspec": {
      "name": "python3",
      "display_name": "Python 3"
    },
    "language_info": {
      "name": "python"
    }
  },
  "cells": [
    {
      "cell_type": "code",
      "source": [
        "a = 10\n",
        "b = 10\n",
        "print(a>b)\n",
        "print(a==b)\n",
        "print(a!=b)\n",
        "print(a<b)\n",
        "print(a==b and a<b) \n",
        "print(a==b or a<b) "
      ],
      "metadata": {
        "colab": {
          "base_uri": "https://localhost:8080/"
        },
        "id": "mQYXdyJTC9C5",
        "outputId": "6eef85bb-3645-4948-c5d7-3c79139ce371"
      },
      "execution_count": null,
      "outputs": [
        {
          "output_type": "stream",
          "name": "stdout",
          "text": [
            "False\n",
            "True\n",
            "False\n",
            "False\n",
            "False\n",
            "True\n"
          ]
        }
      ]
    },
    {
      "cell_type": "code",
      "source": [
        "#atama operatörü\n",
        "a = 10\n",
        "b = 20 * a - 10\n",
        "print(b)"
      ],
      "metadata": {
        "colab": {
          "base_uri": "https://localhost:8080/"
        },
        "id": "qTNuEyafFC15",
        "outputId": "d09215f1-3393-4f61-b145-63f37b6b2497"
      },
      "execution_count": null,
      "outputs": [
        {
          "output_type": "stream",
          "name": "stdout",
          "text": [
            "190\n"
          ]
        }
      ]
    },
    {
      "cell_type": "markdown",
      "source": [
        "#▶ **2021-2022 ÖĞRETİM YILI - Python Programlama Dersleri**"
      ],
      "metadata": {
        "id": "rRpEzUmoBqsl"
      }
    },
    {
      "cell_type": "markdown",
      "source": [
        "![Python_logo-1024x433d.png](data:image/png;base64,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)"
      ],
      "metadata": {
        "id": "ordpG_iA4jQU"
      }
    },
    {
      "cell_type": "markdown",
      "source": [
        "#✅ [**python.org**](https://www.python.org)\n",
        "\n",
        "🖱 ⏩✍\n",
        "\n",
        "1. python.org sitesi, python dilini geliştiren grubun resmi sitesidir.\n",
        "2. python dili bir yorumlayıcıdır. (interpreter) Yani her satır sırayla kontrol edilir ve çalıştırılır.\n",
        "3. Python, Guido Van Rossum adlı Hollandalı bir programcı tarafından yazılmış bir programlama dilidir.\n",
        "\n"
      ],
      "metadata": {
        "id": "lqoHlcNe2c-C"
      }
    },
    {
      "cell_type": "markdown",
      "source": [
        "#✅VERİLER VE VERİ TİPLERİ: int, float, str"
      ],
      "metadata": {
        "id": "lZWlRPxpCxzF"
      }
    },
    {
      "cell_type": "markdown",
      "source": [
        "⏩ Python da veri türleri: int, float, str"
      ],
      "metadata": {
        "id": "WCtJgwN1eYgh"
      }
    },
    {
      "cell_type": "markdown",
      "source": [
        "ödev: 20 satırlık kendinizi tanıtan program yazın."
      ],
      "metadata": {
        "id": "BD57_vyhlEt-"
      }
    },
    {
      "cell_type": "code",
      "source": [
        "print(100)\n",
        "print(100* \"merhaba kolej 9B\\n\")\n",
        "print(20* \"-\")"
      ],
      "metadata": {
        "colab": {
          "base_uri": "https://localhost:8080/"
        },
        "id": "3uZWMnuqkX4t",
        "outputId": "c90edd71-d721-408b-ee1a-d409b3693d93"
      },
      "execution_count": null,
      "outputs": [
        {
          "output_type": "stream",
          "name": "stdout",
          "text": [
            "100\n",
            "merhaba kolej 9B\n",
            "merhaba kolej 9B\n",
            "merhaba kolej 9B\n",
            "merhaba kolej 9B\n",
            "merhaba kolej 9B\n",
            "merhaba kolej 9B\n",
            "merhaba kolej 9B\n",
            "merhaba kolej 9B\n",
            "merhaba kolej 9B\n",
            "merhaba kolej 9B\n",
            "merhaba kolej 9B\n",
            "merhaba kolej 9B\n",
            "merhaba kolej 9B\n",
            "merhaba kolej 9B\n",
            "merhaba kolej 9B\n",
            "merhaba kolej 9B\n",
            "merhaba kolej 9B\n",
            "merhaba kolej 9B\n",
            "merhaba kolej 9B\n",
            "merhaba kolej 9B\n",
            "merhaba kolej 9B\n",
            "merhaba kolej 9B\n",
            "merhaba kolej 9B\n",
            "merhaba kolej 9B\n",
            "merhaba kolej 9B\n",
            "merhaba kolej 9B\n",
            "merhaba kolej 9B\n",
            "merhaba kolej 9B\n",
            "merhaba kolej 9B\n",
            "merhaba kolej 9B\n",
            "merhaba kolej 9B\n",
            "merhaba kolej 9B\n",
            "merhaba kolej 9B\n",
            "merhaba kolej 9B\n",
            "merhaba kolej 9B\n",
            "merhaba kolej 9B\n",
            "merhaba kolej 9B\n",
            "merhaba kolej 9B\n",
            "merhaba kolej 9B\n",
            "merhaba kolej 9B\n",
            "merhaba kolej 9B\n",
            "merhaba kolej 9B\n",
            "merhaba kolej 9B\n",
            "merhaba kolej 9B\n",
            "merhaba kolej 9B\n",
            "merhaba kolej 9B\n",
            "merhaba kolej 9B\n",
            "merhaba kolej 9B\n",
            "merhaba kolej 9B\n",
            "merhaba kolej 9B\n",
            "merhaba kolej 9B\n",
            "merhaba kolej 9B\n",
            "merhaba kolej 9B\n",
            "merhaba kolej 9B\n",
            "merhaba kolej 9B\n",
            "merhaba kolej 9B\n",
            "merhaba kolej 9B\n",
            "merhaba kolej 9B\n",
            "merhaba kolej 9B\n",
            "merhaba kolej 9B\n",
            "merhaba kolej 9B\n",
            "merhaba kolej 9B\n",
            "merhaba kolej 9B\n",
            "merhaba kolej 9B\n",
            "merhaba kolej 9B\n",
            "merhaba kolej 9B\n",
            "merhaba kolej 9B\n",
            "merhaba kolej 9B\n",
            "merhaba kolej 9B\n",
            "merhaba kolej 9B\n",
            "merhaba kolej 9B\n",
            "merhaba kolej 9B\n",
            "merhaba kolej 9B\n",
            "merhaba kolej 9B\n",
            "merhaba kolej 9B\n",
            "merhaba kolej 9B\n",
            "merhaba kolej 9B\n",
            "merhaba kolej 9B\n",
            "merhaba kolej 9B\n",
            "merhaba kolej 9B\n",
            "merhaba kolej 9B\n",
            "merhaba kolej 9B\n",
            "merhaba kolej 9B\n",
            "merhaba kolej 9B\n",
            "merhaba kolej 9B\n",
            "merhaba kolej 9B\n",
            "merhaba kolej 9B\n",
            "merhaba kolej 9B\n",
            "merhaba kolej 9B\n",
            "merhaba kolej 9B\n",
            "merhaba kolej 9B\n",
            "merhaba kolej 9B\n",
            "merhaba kolej 9B\n",
            "merhaba kolej 9B\n",
            "merhaba kolej 9B\n",
            "merhaba kolej 9B\n",
            "merhaba kolej 9B\n",
            "merhaba kolej 9B\n",
            "merhaba kolej 9B\n",
            "merhaba kolej 9B\n",
            "\n",
            "--------------------\n"
          ]
        }
      ]
    },
    {
      "cell_type": "code",
      "source": [
        "#Veri türleri\n",
        "#veri türü int: tamsayı\n",
        "a = 90\n",
        "print(\"a nın değeri   :\", a)\n",
        "print(\"a nın veri tipi:\", type(a))"
      ],
      "metadata": {
        "colab": {
          "base_uri": "https://localhost:8080/"
        },
        "id": "hcTjFwMdC0u1",
        "outputId": "708a3fb4-915e-4658-b326-bd9d9b722187"
      },
      "execution_count": null,
      "outputs": [
        {
          "output_type": "stream",
          "name": "stdout",
          "text": [
            "a nın değeri   : 90\n",
            "a nın veri tipi: <class 'int'>\n"
          ]
        }
      ]
    },
    {
      "cell_type": "code",
      "source": [
        "#veri türü float (ondalıklı sayı)\n",
        "a = 100\n",
        "b = a/3\n",
        "print(a)\n",
        "print(type(a))\n",
        "print(b)\n",
        "print(type(b))"
      ],
      "metadata": {
        "colab": {
          "base_uri": "https://localhost:8080/"
        },
        "id": "fxDj6qS1Ds39",
        "outputId": "be11ae6b-5511-45e9-ec08-a36a9cbb99d4"
      },
      "execution_count": null,
      "outputs": [
        {
          "output_type": "stream",
          "name": "stdout",
          "text": [
            "100\n",
            "<class 'int'>\n",
            "33.333333333333336\n",
            "<class 'float'>\n"
          ]
        }
      ]
    },
    {
      "cell_type": "code",
      "source": [
        "# veri türü: string (str), metinsel bilgi\n",
        "a = \"17\"\n",
        "b = \"ÇANAKKALE\"\n",
        "plaka = \"06 TRT 9876\"\n",
        "c = a+b\n",
        "print(plaka)\n",
        "print(type(plaka))"
      ],
      "metadata": {
        "id": "C3PyWJjxD_zE"
      },
      "execution_count": null,
      "outputs": []
    },
    {
      "cell_type": "code",
      "source": [
        "a = \"98\"\n",
        "b = \"50\"\n",
        "c = a+b\n",
        "print(c)\n",
        "print(type(c))"
      ],
      "metadata": {
        "colab": {
          "base_uri": "https://localhost:8080/"
        },
        "id": "tx8f8pVLEXJE",
        "outputId": "b7f22df4-a539-4e92-c8a2-1f251de7a1ca"
      },
      "execution_count": null,
      "outputs": [
        {
          "output_type": "stream",
          "name": "stdout",
          "text": [
            "9850\n",
            "<class 'str'>\n"
          ]
        }
      ]
    },
    {
      "cell_type": "code",
      "source": [
        "#Kur hesabı\n",
        "para=300  #cebimizdeki para TL\n",
        "dolar=13.4566\n",
        "d = para/dolar\n",
        "print(para,\" TL ile\",d,\" $ alabilirsin.\")"
      ],
      "metadata": {
        "colab": {
          "base_uri": "https://localhost:8080/"
        },
        "id": "eJOfJpunml8y",
        "outputId": "e11f7af0-b09e-49a5-cc92-f663ca1e0c5c"
      },
      "execution_count": null,
      "outputs": [
        {
          "output_type": "stream",
          "name": "stdout",
          "text": [
            "300  TL ile 22.293892959588604  $ alabilirsin.\n"
          ]
        }
      ]
    },
    {
      "cell_type": "markdown",
      "source": [
        "✍ String (yani metinsel) bilgilerde + sembolü birleştirir.\n",
        "\n",
        "```\n",
        "a = \"python \"\n",
        "b = \"öğreniyorum\"\n",
        "c = a + b\n",
        "print(c)\n",
        "```\n",
        "\n"
      ],
      "metadata": {
        "id": "E3bd4MBFE7Bs"
      }
    },
    {
      "cell_type": "code",
      "source": [
        "a = \"python \"\n",
        "b = \"öğreniyorum\"\n",
        "c = a + b\n",
        "print(c)"
      ],
      "metadata": {
        "colab": {
          "base_uri": "https://localhost:8080/"
        },
        "id": "OMbzUh3y3Yd-",
        "outputId": "60a84111-87af-45d1-bb06-0d5d42ba58e6"
      },
      "execution_count": null,
      "outputs": [
        {
          "output_type": "stream",
          "name": "stdout",
          "text": [
            "python öğreniyorum\n"
          ]
        }
      ]
    },
    {
      "cell_type": "markdown",
      "source": [
        "# ✅YAZDIRMA İŞLEMLERİ\n",
        "\n"
      ],
      "metadata": {
        "id": "B1jbAsxHpFt2"
      }
    },
    {
      "cell_type": "code",
      "source": [
        "print(\"Merhaba Dünya!\")\n",
        "print(\"Sarp\")\n",
        "print(5* \"Sarp \")"
      ],
      "metadata": {
        "colab": {
          "base_uri": "https://localhost:8080/"
        },
        "id": "tojtVrsHpERp",
        "outputId": "6fb9e2fe-fb61-49bd-9feb-5514d60221e4"
      },
      "execution_count": null,
      "outputs": [
        {
          "output_type": "stream",
          "name": "stdout",
          "text": [
            "Merhaba Dünya!\n",
            "Sarp\n",
            "Sarp Sarp Sarp Sarp Sarp \n"
          ]
        }
      ]
    },
    {
      "cell_type": "code",
      "source": [
        "#Tek satırlık komutla birden çok satırda yazdırmak\n",
        "print(\"Merhaba \\nSarp \\nNasılsın?\")"
      ],
      "metadata": {
        "colab": {
          "base_uri": "https://localhost:8080/"
        },
        "id": "wZ1ipMUe3vPd",
        "outputId": "00739026-f957-445b-9244-1bdf8bd51541"
      },
      "execution_count": null,
      "outputs": [
        {
          "output_type": "stream",
          "name": "stdout",
          "text": [
            "Merhaba \n",
            "Sarp \n",
            "Nasılsın?\n"
          ]
        }
      ]
    },
    {
      "cell_type": "code",
      "source": [
        "#tekrarlı yazdırma\n",
        "print(3*\"MERHABA-\")"
      ],
      "metadata": {
        "id": "_RE3CuL7rP-N",
        "colab": {
          "base_uri": "https://localhost:8080/"
        },
        "outputId": "f1f6ee9c-cfce-4dfb-a1f3-3a3e3bc181f5"
      },
      "execution_count": null,
      "outputs": [
        {
          "output_type": "stream",
          "name": "stdout",
          "text": [
            "MERHABA-MERHABA-MERHABA-\n"
          ]
        }
      ]
    },
    {
      "cell_type": "code",
      "source": [
        "# Örnek 4:Tekrarlı yazdırma.\n",
        "print(\"Bu program bilgiyi istediğiniz kadar yan yana yazdırır.\")\n",
        "print(4* \"-Python\")"
      ],
      "metadata": {
        "id": "QAicupyErOHY",
        "colab": {
          "base_uri": "https://localhost:8080/"
        },
        "outputId": "1244fdc2-ea41-4dca-fce2-22ffe7e3dcc2"
      },
      "execution_count": null,
      "outputs": [
        {
          "output_type": "stream",
          "name": "stdout",
          "text": [
            "Bu program bilgiyi istediğiniz kadar yan yana yazdırır.\n",
            "-Python-Python-Python-Python\n"
          ]
        }
      ]
    },
    {
      "cell_type": "code",
      "source": [
        "# Örnek 5:Tekrarlı yazdırma ile şekil oluşturma.\n",
        "print(\"Bu program üçgen şeklini oluşturur.\")\n",
        "print(1* \"@\")\n",
        "print(3* \"@\")\n",
        "print(5* \"@\")\n",
        "print(7* \"@\")\n",
        "print(9* \"@\")\n",
        "print(11* \"@\")\n",
        "print(4*\"-Üçgen şekli oluşturuldu.\\n\")"
      ],
      "metadata": {
        "id": "hX1rKDaerogk",
        "colab": {
          "base_uri": "https://localhost:8080/"
        },
        "outputId": "50dbb21a-bbf1-48f9-97cc-cc9ca4d4a64e"
      },
      "execution_count": null,
      "outputs": [
        {
          "output_type": "stream",
          "name": "stdout",
          "text": [
            "Bu program üçgen şeklini oluşturur.\n",
            "@\n",
            "@@@\n",
            "@@@@@\n",
            "@@@@@@@\n",
            "@@@@@@@@@\n",
            "@@@@@@@@@@@\n",
            "-Üçgen şekli oluşturuldu.\n",
            "-Üçgen şekli oluşturuldu.\n",
            "-Üçgen şekli oluşturuldu.\n",
            "-Üçgen şekli oluşturuldu.\n",
            "\n"
          ]
        }
      ]
    },
    {
      "cell_type": "code",
      "source": [
        "#Format kalıbında yazdırmak\n",
        "ad = \"DENİZ\"\n",
        "kardes = \"TOPRAK\"\n",
        "print(f\"{ad} merhaba nasılsın. Kardeşin {kardes} nasıl?\")"
      ],
      "metadata": {
        "id": "KWnNNB6lr6iw",
        "colab": {
          "base_uri": "https://localhost:8080/"
        },
        "outputId": "52b305c9-fc91-4371-eeda-02bb96c68835"
      },
      "execution_count": null,
      "outputs": [
        {
          "output_type": "stream",
          "name": "stdout",
          "text": [
            "DENİZ merhaba nasılsın. Kardeşin TOPRAK nasıl?\n"
          ]
        }
      ]
    },
    {
      "cell_type": "markdown",
      "source": [
        "##✅DEĞİŞKENLER VE DEĞİŞKEN KULLANIMI: Değerleri değişkenlere atama yaparak yazdıralım."
      ],
      "metadata": {
        "id": "wDada4ZvCYad"
      }
    },
    {
      "cell_type": "markdown",
      "source": [
        "![degisken-veri.png](data:image/png;base64,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)"
      ],
      "metadata": {
        "id": "9u9YO_XN0wCy"
      }
    },
    {
      "cell_type": "markdown",
      "source": [
        "* ✍ Değişkenleri (değişkenlerin değerini) yazdırmak\n",
        "```\n",
        "# Değişkenlerin değerleri yazdırılırken tırnak ' \" sembolü kullanılmaz.\n",
        "puan = 90\n",
        "print(\"puan\")  #yanlış kullanım. Ekrana puan kelimesi yazar.\n",
        "print(puan)    #doğru kullanımı. Ekrana 90 yazar.\n",
        "```"
      ],
      "metadata": {
        "id": "XnZfjFamxv0N"
      }
    },
    {
      "cell_type": "code",
      "execution_count": null,
      "metadata": {
        "colab": {
          "base_uri": "https://localhost:8080/"
        },
        "id": "cMIIu6FYBQFI",
        "outputId": "a6dfca93-42a2-4147-8470-ef540bb99ed5"
      },
      "outputs": [
        {
          "output_type": "stream",
          "name": "stdout",
          "text": [
            "İSMİNİZ = TOPRAK\n",
            "YAŞINIZ = 11\n"
          ]
        }
      ],
      "source": [
        "#Bu satır açıklama satırıdır.\n",
        "a = 2010\n",
        "b = 2021\n",
        "isim = \"TOPRAK\"\n",
        "yas = b-a\n",
        "print(\"İSMİNİZ =\", isim)\n",
        "print(\"YAŞINIZ =\", yas)"
      ]
    },
    {
      "cell_type": "code",
      "source": [
        "# Dikdörtgenin alan ve çevresi hesabı\n",
        "# Açıklama satırı\n",
        "ukenar = 20\n",
        "kkenar = 10\n",
        "alan = ukenar* kkenar\n",
        "c = 2* (ukenar + kkenar)\n",
        "print(\"Dikdörtgenin çevresi\", c ,\"birimdir.\")\n",
        "print(\"Dikdörtgenin alanı\", alan, \"birimdir.\")\n",
        "print(\"\\nProgram sona erdi\")"
      ],
      "metadata": {
        "colab": {
          "base_uri": "https://localhost:8080/"
        },
        "id": "vzJrsoUq-sNP",
        "outputId": "49a37ca7-f3ba-4a7c-a320-de2351ed7030"
      },
      "execution_count": null,
      "outputs": [
        {
          "output_type": "stream",
          "name": "stdout",
          "text": [
            "Dikdörtgenin çevresi 60 birimdir.\n",
            "Dikdörtgenin alanı 200 birimdir.\n",
            "\n",
            "Program sona erdi\n"
          ]
        }
      ]
    },
    {
      "cell_type": "markdown",
      "source": [
        "###✅KLAVYEDEN DEĞER GİRİŞİ: Değerleri klavyeden giriş yapalım.\n",
        "\n",
        "\n",
        "* ✍ input komutu kullanımı\n",
        "```\n",
        "değişken adı = input(\"Hatırlatıcı ifade\")\n",
        "Örnek: \n",
        "isim = input(\"Adınızı giriniz: \")\n",
        "```"
      ],
      "metadata": {
        "id": "H5_Rwe0JDNWy"
      }
    },
    {
      "cell_type": "code",
      "source": [
        "#Bu programda değerler klavyeden giriş yapılır.\n",
        "#input ile okunan değer tipi \"str\" dir. \n",
        "#Bu nedenle int fonksiyonu kullanılmalıdır.\n",
        "isim = input(\"Adınızı giriniz:\")\n",
        "a = int(input(\"Doğum yılınız nedir?\"))  \n",
        "b = 2021\n",
        "yas = b-a\n",
        "print(\"İSMİNİZ :\", isim)\n",
        "print(\"YAŞINIZ :\", yas)"
      ],
      "metadata": {
        "colab": {
          "base_uri": "https://localhost:8080/"
        },
        "id": "J5dzf1qFDTgd",
        "outputId": "dcec07ec-9907-4b3a-e613-15cfd2a57a03"
      },
      "execution_count": null,
      "outputs": [
        {
          "output_type": "stream",
          "name": "stdout",
          "text": [
            "Doğum yılınız nedir?2000\n",
            "Adınızı giriniz:TOPRAK\n",
            "İSMİNİZ = TOPRAK\n",
            "YAŞINIZ = 21\n"
          ]
        }
      ]
    },
    {
      "cell_type": "code",
      "source": [
        "ad = input(\"Adınız nedir?\")   #klavyeden değer girişi yapılıyor.\n",
        "a = int(input(\"1.notu girin:\"))   #klavyeden değer girişi yapılıyor.\n",
        "b = int(input(\"2.notu girin:\"))\n",
        "c = int(input(\"3.notu girin:\"))\n",
        "memleket = \"ESKİŞEHİR\"\n",
        "takim = \"ESKİŞEHİRSPOR\"\n",
        "ort = (a+b+c)/3\n",
        "print(takim, \" takımını tutan\", memleket, \"'li\", ad, \"'ın not ortalaması=\", ort)"
      ],
      "metadata": {
        "id": "HFVHrURnItME",
        "colab": {
          "base_uri": "https://localhost:8080/"
        },
        "outputId": "5c77a5cf-85aa-4119-cb66-667172733fd3"
      },
      "execution_count": null,
      "outputs": [
        {
          "output_type": "stream",
          "name": "stdout",
          "text": [
            "Adınız nedir?MURAT\n",
            "1.notu girin:100\n",
            "2.notu girin:96\n",
            "3.notu girin:50\n",
            "ESKİŞEHİRSPOR  takımını tutan ESKİŞEHİR 'li MURAT 'ın not ortalaması= 82.0\n"
          ]
        }
      ]
    },
    {
      "cell_type": "code",
      "source": [
        "# Dikdörtgenin alan ve çevresi hesabı\n",
        "# Değerleri klavyeden okutacağız.\n",
        "ukenar = int(input(\"Uzun kenar?\"))\n",
        "kkenar = int(input(\"Kısa kenar?\"))\n",
        "alan = ukenar* kkenar\n",
        "c = 2* (ukenar + kkenar)\n",
        "print(\"Dikdörtgenin çevresi\", c ,\"birimdir.\")\n",
        "print(\"Dikdörtgenin alanı\", alan, \"birimdir.\")\n",
        "print(\"\\nProgram sona erdi\")"
      ],
      "metadata": {
        "colab": {
          "base_uri": "https://localhost:8080/"
        },
        "id": "NMbs3Q8sAMVr",
        "outputId": "4087436f-c10a-4546-d8af-ef4874208d89"
      },
      "execution_count": null,
      "outputs": [
        {
          "output_type": "stream",
          "name": "stdout",
          "text": [
            "Uzun kenar?20\n",
            "Kısa kenar?8\n",
            "Dikdörtgenin çevresi 56 birimdir.\n",
            "Dikdörtgenin alanı 160 birimdir.\n",
            "\n",
            "Program sona erdi\n"
          ]
        }
      ]
    },
    {
      "cell_type": "markdown",
      "source": [
        "#✅KARAR İŞLEMLERİ  ☯"
      ],
      "metadata": {
        "id": "vzMt1frdF2w0"
      }
    },
    {
      "cell_type": "markdown",
      "source": [
        "* ✍ if komutu kullanılır. Koşul yazılır. \n",
        "```\n",
        "Koşul yazılırken mantıksal operatörler kullanılır. \n",
        "> (büyük mü) \n",
        "< (küçük mü)  \n",
        "<= (küçük veya eşit mi) \n",
        ">= (büyük veya eşit mi) \n",
        "== (eşit mi) \n",
        "!= (farklı mı)\n",
        "KOŞUL ÖRNEKLERİ (a değişkeninin değerine göre if komutunun çalışması)\n",
        "a=9\t\ta<10\t\tDoğru (True)\tişlem yapılır\t+\n",
        "a=50\ta>85\t\tYanlış(False)\tişlem yapılmaz\t-\n",
        "a=9\t  a==9\t\tDoğru (True)\tişlem yapılır\t+\n",
        "a=50\ta!=50\t\tYanlış(False)\tişlem yapılmaz\t-\n",
        "if komutunda;\n",
        ".koşulun sonuna : (iki nokta üst üste) eklenir.\n",
        ".işlemler en az bir boşluk bırakılarak yazılır. Komuta ait işlemler alt alta ve aynı hizada yazılır.\n",
        ".else sonuna : (iki nokta üst üste) eklenir. else ait işlemler alt alta ve aynı hizada yazılır.\n",
        ".if ve else aynı hizada yazılmalıdır.\n",
        "```"
      ],
      "metadata": {
        "id": "brLrM-QxJHTU"
      }
    },
    {
      "cell_type": "code",
      "source": [
        "a=100\n",
        "if a>100:\n",
        "  print(\"sayınız 100 den büyük.\")\n",
        "if a>100:\n",
        "  print(\"sayınız 100 den küçük.\")\n",
        "if a==100:\n",
        "  print(\"sayınız 100\")"
      ],
      "metadata": {
        "colab": {
          "base_uri": "https://localhost:8080/"
        },
        "id": "Zl0p35brMRdr",
        "outputId": "b427e894-db7d-4e7d-f148-54bf9020678c"
      },
      "execution_count": null,
      "outputs": [
        {
          "output_type": "stream",
          "name": "stdout",
          "text": [
            "sayınız 100\n"
          ]
        }
      ]
    },
    {
      "cell_type": "code",
      "source": [
        "#pozitif mi negatif mi\n",
        "#iki durum var\n",
        "print(\"Sıfır dışında bir değer girin.\")\n",
        "a=-6\n",
        "if a>0:\n",
        "  print(\"Sayınız pozitif.\")\n",
        "else:\n",
        "  print(\"Sayınız negatif.\")  "
      ],
      "metadata": {
        "colab": {
          "base_uri": "https://localhost:8080/"
        },
        "id": "abdD0C6vMaNM",
        "outputId": "1277b9da-1f1d-4f77-fcc3-bf9f5cc425e9"
      },
      "execution_count": null,
      "outputs": [
        {
          "output_type": "stream",
          "name": "stdout",
          "text": [
            "Sıfır dışında bir değer girin.\n",
            "Sayınız negatif.\n"
          ]
        }
      ]
    },
    {
      "cell_type": "code",
      "source": [
        "#Harçlığımız yeter mi?\n",
        "h = 100\n",
        "cikolata = 21\n",
        "if h>=cikolata:\n",
        "  print(\"Yeter!!\")\n",
        "else:\n",
        "  print(\"Yetmez\")"
      ],
      "metadata": {
        "id": "3dMVTRWiA66b"
      },
      "execution_count": null,
      "outputs": []
    },
    {
      "cell_type": "markdown",
      "source": [
        "✍ else-if : elif komutu kullanım"
      ],
      "metadata": {
        "id": "gqKZ0Eo8MNF8"
      }
    },
    {
      "cell_type": "code",
      "source": [
        "# 3 durumu kontrol ediyoruz.\n",
        "a=100\n",
        "if a>100:\n",
        "  print(\"sayınız 100 den büyük.\")\n",
        "elif a<100:\n",
        "  print(\"Sayınız 100 den küçük.\")\n",
        "else:\n",
        "  print(\"100 sayısını girmişsiniz.\")"
      ],
      "metadata": {
        "colab": {
          "base_uri": "https://localhost:8080/"
        },
        "id": "_vt6BT6oL_bI",
        "outputId": "efb39dc2-265a-475e-e7a1-fd4891fca47e"
      },
      "execution_count": null,
      "outputs": [
        {
          "output_type": "stream",
          "name": "stdout",
          "text": [
            "100 sayısını girmişsiniz.\n"
          ]
        }
      ]
    },
    {
      "cell_type": "code",
      "source": [
        "#harf not sistemi\n",
        "#Üniversitelerde kullanılan not sistemi\n",
        "p = 86\n",
        "if p>=90 and p<=100:\n",
        "  print(\"AA, 4.00 - MÜKEMMEL\")\n",
        "if p>=85 and p<=89:\n",
        "  print(\"BA, 3.5 - PEKİYİ\")"
      ],
      "metadata": {
        "colab": {
          "base_uri": "https://localhost:8080/"
        },
        "id": "UVjJ4MUZ_bQ1",
        "outputId": "c2416558-916b-4859-bbfc-d930d83b048d"
      },
      "execution_count": null,
      "outputs": [
        {
          "output_type": "stream",
          "name": "stdout",
          "text": [
            "AA, 4.00 - MÜKEMMEL\n"
          ]
        }
      ]
    },
    {
      "cell_type": "code",
      "source": [
        "#harf not sistemi - elif\n",
        "#Üniversitelerde kullanılan not sistemi\n",
        "p = 75\n",
        "if p>100:\n",
        "  print(\"GEÇERSİZ PUAN!\")\n",
        "elif p>=90:\n",
        "  print(\"AA, 4.00 - MÜKEMMEL\")\n",
        "elif p>=85:\n",
        "  print(\"BA, 3.5 - PEKİYİ\")\n",
        "elif p>=80:\n",
        "  print(\"BB, 3.0 - İYİ\")\n",
        "elif p>=75:\n",
        "  print(\"CB, 2.5 - YETERLİ\")\n",
        "elif p>=65:\n",
        "  print(\"CC, 2.0 - GEÇER\")\n",
        "elif p>=50:\n",
        "  print(\"FF, - BAŞARISIZ\")"
      ],
      "metadata": {
        "id": "5hUEdDMgoISQ"
      },
      "execution_count": null,
      "outputs": []
    },
    {
      "cell_type": "markdown",
      "source": [
        "#FOR DÖNGÜSÜ  ✈"
      ],
      "metadata": {
        "id": "xUlPUTio8R4h"
      }
    },
    {
      "cell_type": "code",
      "source": [
        "# for döngüsü\n",
        "# işlemleri tekrarlamak için kullanılır\n",
        "for a in range(5):\n",
        " print(\"Python Öğreniyorum\")\n",
        "\n",
        "print(\"\\nProgram sona erdi.\")"
      ],
      "metadata": {
        "colab": {
          "base_uri": "https://localhost:8080/"
        },
        "id": "veVBKY9lqo0r",
        "outputId": "7aa7edd3-a5a5-499e-af7d-c68d5dd5a30c"
      },
      "execution_count": null,
      "outputs": [
        {
          "output_type": "stream",
          "name": "stdout",
          "text": [
            "Python Öğreniyorum\n",
            "Python Öğreniyorum\n",
            "Python Öğreniyorum\n",
            "Python Öğreniyorum\n",
            "Python Öğreniyorum\n",
            "\n",
            "Program sona erdi.\n"
          ]
        }
      ]
    },
    {
      "cell_type": "code",
      "source": [
        "mesaj = input(\"Mesajı giriniz: \")\n",
        "a = int(input(\"Kaç kez yazayım? \"))\n",
        "for i in range(a):\n",
        "  print(mesaj)\n",
        "  \n",
        "print(\"\\nProgram sona erdi.\")"
      ],
      "metadata": {
        "colab": {
          "base_uri": "https://localhost:8080/"
        },
        "id": "kGuBylmsqtkr",
        "outputId": "aef7327e-4f2a-4394-91e0-39441b88c7f0"
      },
      "execution_count": null,
      "outputs": [
        {
          "output_type": "stream",
          "name": "stdout",
          "text": [
            "Mesajı giriniz: MERHABA\n",
            "Kaç kez yazayım? 3\n",
            "MERHABA\n",
            "MERHABA\n",
            "MERHABA\n",
            "\n",
            "Program sona erdi.\n"
          ]
        }
      ]
    },
    {
      "cell_type": "code",
      "source": [
        "# Bir str (metinsel) ifadenin karakterlerini alt alta yazdırmak\n",
        "for a in \"MUTLU YILLAR\":\n",
        " print(a)"
      ],
      "metadata": {
        "colab": {
          "base_uri": "https://localhost:8080/"
        },
        "id": "F97pubp2rFBV",
        "outputId": "ce51a9b1-c8c3-4270-a1c6-03c8326f0eed"
      },
      "execution_count": null,
      "outputs": [
        {
          "output_type": "stream",
          "name": "stdout",
          "text": [
            "M\n",
            "U\n",
            "T\n",
            "L\n",
            "U\n",
            " \n",
            "Y\n",
            "I\n",
            "L\n",
            "L\n",
            "A\n",
            "R\n"
          ]
        }
      ]
    },
    {
      "cell_type": "markdown",
      "source": [
        "# FONKSİYONLAR ⏰"
      ],
      "metadata": {
        "id": "ZbV9x0XOwSW7"
      }
    },
    {
      "cell_type": "markdown",
      "source": [
        "### MATEMATİKSEL FONKSİYONLAR (max, min, pow)"
      ],
      "metadata": {
        "id": "ZxMh82i086aS"
      }
    },
    {
      "cell_type": "code",
      "source": [
        "x = min(5, 10, 25)\n",
        "y = max(5, 10, 25)\n",
        "print(\"En küçük değer=\", x)\n",
        "print(\"En büyük değer=\", y)\n",
        "\n",
        "x = pow(4, 2)\n",
        "print(\"İşlem sonucu=\",x)\n",
        "print(\"İşlem sonucu=\",2**3)"
      ],
      "metadata": {
        "id": "Otj4GfMG9Tmf",
        "colab": {
          "base_uri": "https://localhost:8080/"
        },
        "outputId": "29303d0c-4abf-41fb-ffa1-623f6bcf3507"
      },
      "execution_count": null,
      "outputs": [
        {
          "output_type": "stream",
          "name": "stdout",
          "text": [
            "En küçük değer= 5\n",
            "En büyük değer= 25\n",
            "İşlem sonucu= 16\n",
            "İşlem sonucu= 8\n"
          ]
        }
      ]
    },
    {
      "cell_type": "code",
      "source": [
        "#matematik kütüphanesi kullanımı gerektirir. math\n",
        "import math\n",
        "x = math.sqrt(64)    #math kütüphanesi eklenmelidir. karekök\n",
        "print(\"Karekök işlemi sonucu=\", x)\n",
        "\n",
        "a = math.pi      #math kütüphanesi eklenmelidir.\n",
        "print(\"pi değeri=\", a)"
      ],
      "metadata": {
        "id": "rWtn244U_aaI"
      },
      "execution_count": null,
      "outputs": []
    },
    {
      "cell_type": "code",
      "source": [
        "#datetime kütüphanesi kullanımı gerektirir\n",
        "import datetime\n",
        "x = datetime.datetime.now()\n",
        "print(x)"
      ],
      "metadata": {
        "id": "jLBL0VsM_lfv",
        "colab": {
          "base_uri": "https://localhost:8080/"
        },
        "outputId": "90ece188-51e4-4a49-8a7e-befbba58be0e"
      },
      "execution_count": null,
      "outputs": [
        {
          "output_type": "stream",
          "name": "stdout",
          "text": [
            "2022-04-06 07:37:59.590592\n"
          ]
        }
      ]
    },
    {
      "cell_type": "code",
      "source": [
        "#random kütüphanesi kullanımı gerektirir\n",
        "import random\n",
        "random.randint(1, 20)"
      ],
      "metadata": {
        "id": "HYxFWQly_77u",
        "colab": {
          "base_uri": "https://localhost:8080/"
        },
        "outputId": "00ec15ea-1d85-4c2f-d6e6-89a1d918766a"
      },
      "execution_count": null,
      "outputs": [
        {
          "output_type": "execute_result",
          "data": {
            "text/plain": [
              "11"
            ]
          },
          "metadata": {},
          "execution_count": 6
        }
      ]
    },
    {
      "cell_type": "markdown",
      "source": [
        "### STRING FONKSİYONLARI"
      ],
      "metadata": {
        "id": "OYV9Ound24bX"
      }
    },
    {
      "cell_type": "code",
      "source": [
        "a = len(\"Şemsi Paşa Pasajı’nda sesi büzüşesiceler\")\n",
        "b= len(\"Şu tarlaya bir şinik tekere mekere ekilmiş\")\n",
        "print(\"Kelimenin karakter sayısı:\", a)\n",
        "print(\"Uzunluk:\", b)\n",
        "\n",
        "b = \"samsung\".upper()\n",
        "print(\"Kelime büyük harflere çevrildi:\", b)\n",
        "\n",
        "c = \"LENOVO\".lower()\n",
        "print(\"Kelime küçük harflere çevrildi:\", c)\n",
        "\n",
        "tekerleme = \"KIRK KIRIK KÜP KIRKININ DA KULPU KIRIK KARA KÜP\"\n",
        "d = tekerleme.count(\"KÜP\")\n",
        "print(\"Tekerlemedeki KÜP kelimesinin tekrar sayısı:\", d)"
      ],
      "metadata": {
        "colab": {
          "base_uri": "https://localhost:8080/"
        },
        "id": "9O0Hspxs3Zrn",
        "outputId": "98acb246-0f65-4c8b-9598-bc526ae1dcd6"
      },
      "execution_count": null,
      "outputs": [
        {
          "output_type": "stream",
          "name": "stdout",
          "text": [
            "Kelimenin karakter sayısı: 40\n",
            "Uzunluk: 42\n",
            "Kelime büyük harflere çevrildi: SAMSUNG\n",
            "Kelime küçük harflere çevrildi: lenovo\n",
            "Tekerlemedeki KÜP kelimesinin tekrar sayısı: 2\n"
          ]
        }
      ]
    },
    {
      "cell_type": "markdown",
      "source": [
        "### KULLANICI TANIMLI FONKSİYONLAR"
      ],
      "metadata": {
        "id": "8afZdQcQ3N3g"
      }
    },
    {
      "cell_type": "code",
      "source": [
        "#Fonksiyon tanımlıyoruz\n",
        "def yaz():\n",
        "  print(\"Merhaba\")\n",
        "def ciz():\n",
        "  print(10 * \"-\")\n",
        "\n",
        "yaz()  #fonksiyonu çağırıyoruz yani çalıştırıyoruz.\n",
        "ciz()\n",
        "ciz()\n",
        "yaz()"
      ],
      "metadata": {
        "colab": {
          "base_uri": "https://localhost:8080/"
        },
        "id": "hTfXgQqHyUcf",
        "outputId": "927f2d4d-866d-4b3c-9266-d17300c1679b"
      },
      "execution_count": null,
      "outputs": [
        {
          "output_type": "stream",
          "name": "stdout",
          "text": [
            "Merhaba\n",
            "----------\n",
            "----------\n",
            "Merhaba\n"
          ]
        }
      ]
    },
    {
      "cell_type": "code",
      "source": [
        "#Fonksiyona parametre göndermek\n",
        "def yaz(a):\n",
        "  print(a * \" Merhaba\")\n",
        "def ciz(b):\n",
        "  print(b * \"+\")\n",
        "\n",
        "yaz(2)  #fonksiyonu parametre ile çağırıyoruz.\n",
        "ciz(5)"
      ],
      "metadata": {
        "colab": {
          "base_uri": "https://localhost:8080/"
        },
        "id": "exDrxHL-zlJZ",
        "outputId": "20bda8c3-5975-4df9-a9a7-ba7a4a7ec605"
      },
      "execution_count": null,
      "outputs": [
        {
          "output_type": "stream",
          "name": "stdout",
          "text": [
            " Merhaba Merhaba\n",
            "+++++\n"
          ]
        }
      ]
    },
    {
      "cell_type": "code",
      "source": [
        "#Fonksiyona parametre gönderip, sonucu geri istiyoruz\n",
        "def kareHesapla(a):\n",
        "  kare=a*a\n",
        "  return kare\n",
        "\n",
        "#fonksiyonu parametre ile çağırıyoruz ve geri sonuç istiyoruz.\n",
        "print(\"Sayının karesi=\", kareHesapla(8) )"
      ],
      "metadata": {
        "colab": {
          "base_uri": "https://localhost:8080/"
        },
        "id": "FykSYpg60Os-",
        "outputId": "c711a7bf-a497-4386-b2fd-37177392b12d"
      },
      "execution_count": null,
      "outputs": [
        {
          "output_type": "stream",
          "name": "stdout",
          "text": [
            "Sayının karesi= 64\n"
          ]
        }
      ]
    },
    {
      "cell_type": "markdown",
      "source": [
        "# ▶ **EK-1: PYTHON PROGRAM ÖRNEKLERİ**"
      ],
      "metadata": {
        "id": "-2RwdQjsSPpg"
      }
    },
    {
      "cell_type": "markdown",
      "source": [
        "### ÖRNEK 1: atama✅"
      ],
      "metadata": {
        "id": "CGosynicuhVq"
      }
    },
    {
      "cell_type": "code",
      "source": [
        "# Örnek 1: İki notun ortalaması.\n",
        "print(\"Bu program isminizi okur, iki notun ortalamasını hesaplar.\")\n",
        "print(\"İsim ve notları değiştirip tekrar çalıştırın.\")\n",
        "isim=\"Tuana\"\n",
        "a=100\n",
        "b=90\n",
        "ortalama=(a+b)/2\n",
        "print(isim)\n",
        "print(ortalama)\n",
        "print(isim, \" not ortalaması: \", ortalama)"
      ],
      "metadata": {
        "id": "_ji_IvnzTnx8"
      },
      "execution_count": null,
      "outputs": []
    },
    {
      "cell_type": "markdown",
      "source": [
        "### ÖRNEK 2: yaş hesabı ✅"
      ],
      "metadata": {
        "id": "2JC_xqlxupZa"
      }
    },
    {
      "cell_type": "code",
      "source": [
        "# Örnek 2: Yaş hesabı.\n",
        "print(\"Bu program isminizi okur, yaşınızı hesaplar.\")\n",
        "print(\"İsim ve doğum yılını değiştirip tekrar çalıştırın.\")\n",
        "isim=\"Eda\"\n",
        "a=2021\n",
        "b=2006\n",
        "yas=a-b\n",
        "print(isim)\n",
        "print(yas)\n",
        "print(isim, \"nın yaşı :\", yas)"
      ],
      "metadata": {
        "colab": {
          "base_uri": "https://localhost:8080/"
        },
        "id": "H-UQ55hDUZY0",
        "outputId": "e00987c4-fb5f-4f0b-ae96-dda5bc4f7e79"
      },
      "execution_count": null,
      "outputs": [
        {
          "output_type": "stream",
          "name": "stdout",
          "text": [
            "Bu program isminizi okur, yaşınızı hesaplar.\n",
            "İsim ve doğum yılını değiştirip tekrar çalıştırın.\n",
            "Eda\n",
            "15\n",
            "Eda nın yaşı : 15\n"
          ]
        }
      ]
    },
    {
      "cell_type": "markdown",
      "source": [
        "### ÖRNEK 3: döviz ✅"
      ],
      "metadata": {
        "id": "VUkYXRBfu1KJ"
      }
    },
    {
      "cell_type": "code",
      "source": [
        "# Örnek 3:Döviz hesabı.\n",
        "print(\"Bu program TL para ile kaç DOLAR alacağınızı hesaplar.\") \n",
        "tl = 5000\n",
        "dolar = 13.5928\n",
        "x = tl/dolar\n",
        "print(\"Alacağınız dolar: \", x )"
      ],
      "metadata": {
        "id": "wm78y0F4Se78",
        "colab": {
          "base_uri": "https://localhost:8080/"
        },
        "outputId": "5e5114a9-d252-4820-bed0-81d0d73fcc3c"
      },
      "execution_count": null,
      "outputs": [
        {
          "output_type": "stream",
          "name": "stdout",
          "text": [
            "Bu program TL para ile kaç DOLAR alacağınızı hesaplar.\n",
            "Alacağınız dolar:  367.8417985992584\n"
          ]
        }
      ]
    },
    {
      "cell_type": "markdown",
      "source": [
        "### ÖRNEK 4: input ✅"
      ],
      "metadata": {
        "id": "0yjTwrXhu_3k"
      }
    },
    {
      "cell_type": "code",
      "source": [
        "# Örnek 4:Klavyeden girilen isim okur, selam verir.\n",
        "isim = input(\"Adınızı yazın: \")\n",
        "print(\"Merhaba \", isim)\n",
        "yer = input(\"Nerede doğdunuz? \")\n",
        "print(isim,\" Merhaba\", yer, \" çok güzel bir yerdir.\")"
      ],
      "metadata": {
        "colab": {
          "base_uri": "https://localhost:8080/"
        },
        "id": "NKz95KtQGUba",
        "outputId": "af04a070-84c8-4162-f59c-3be7c0676642"
      },
      "execution_count": null,
      "outputs": [
        {
          "output_type": "stream",
          "name": "stdout",
          "text": [
            "Adınızı yazın: TOPRAK\n",
            "Merhaba  TOPRAK\n",
            "Nereden doğdunuz? MUĞLA\n",
            "TOPRAK  Merhaba MUĞLA  çok güzel bir yerdir.\n"
          ]
        }
      ]
    },
    {
      "cell_type": "markdown",
      "source": [
        "### ÖRNEK 5: if - else ✅"
      ],
      "metadata": {
        "id": "atCMtXUdvb0S"
      }
    },
    {
      "cell_type": "code",
      "source": [
        "# Örnek 5: Dersten geçip geçmediğini kontrol eder.\n",
        "puan = 75\n",
        "if puan>=50:\n",
        "  print(\"Tebrikler. Geçtiniz..\")\n",
        "else:\n",
        "  print(\"Maalesef dersten kaldınız.\")"
      ],
      "metadata": {
        "colab": {
          "base_uri": "https://localhost:8080/"
        },
        "id": "mHPOFWY3aseT",
        "outputId": "d84f65c5-5309-428f-89a4-eac41aef151f"
      },
      "execution_count": null,
      "outputs": [
        {
          "output_type": "stream",
          "name": "stdout",
          "text": [
            "Tebrikler. Geçtiniz..\n"
          ]
        }
      ]
    },
    {
      "cell_type": "markdown",
      "source": [
        "### ÖRNEK 6-7: döviz hesabı ✅\n",
        "\n"
      ],
      "metadata": {
        "id": "LBvfcv38vnnz"
      }
    },
    {
      "cell_type": "code",
      "source": [
        "#Örnek 6: dolar hesabı\n",
        "para = int(input(\"Kaç TL niz var?\"))\n",
        "dolar = 13.0280\n",
        "euro = 14.7100\n",
        "sterlin = 17.4750\n",
        "kw = 43.1990\n",
        "dm = para / dolar\n",
        "em = para / euro\n",
        "sm = para / sterlin\n",
        "kd = para/kw\n",
        "print(\"Alacağınız dolar : \", dm)\n",
        "print(\"Alacağınız euro  : \", em)\n",
        "print(\"Alacağınız sterlin:\", sm)\n",
        "print(\"Kuweyt dinarı :\", kd)"
      ],
      "metadata": {
        "colab": {
          "base_uri": "https://localhost:8080/"
        },
        "id": "oVWyUfZ1fd0u",
        "outputId": "9d9f6e8c-6a9b-43f9-c171-579648c7ad2b"
      },
      "execution_count": null,
      "outputs": [
        {
          "output_type": "stream",
          "name": "stdout",
          "text": [
            "Kaç TL niz var?1000\n",
            "Alacağınız dolar :  76.75775253300583\n",
            "Alacağınız euro  :  67.98096532970767\n",
            "Alacağınız sterlin: 57.22460658082975\n",
            "Kuweyt dinarı : 23.148683997314755\n"
          ]
        }
      ]
    },
    {
      "cell_type": "code",
      "source": [
        "#Örnek 7: Dolar cinsinden uçak bileti alacağız\n",
        "# Cebimizdeki TL paramız var. Paramız bilete yeter mi?\n",
        "# Programı tamamlayın.\n",
        "\n",
        "\n"
      ],
      "metadata": {
        "id": "yae_ITfYi3ce"
      },
      "execution_count": null,
      "outputs": []
    },
    {
      "cell_type": "markdown",
      "source": [
        "### ÖRNEK 8: tekrarlı yazdırma"
      ],
      "metadata": {
        "id": "nwdWRsutvwfo"
      }
    },
    {
      "cell_type": "code",
      "source": [
        "#Örnek 8: Tekrarlı yazdırma\n",
        "print(9*\"*\", 3*\"-\", 2*\"*\")\n",
        "print(7*\"*\", 5*\"-\", 2*\"*\")\n",
        "print(5*\"*\", 7*\"-\", 2*\"*\")\n",
        "print(7*\"*\", 5*\"-\", 2*\"*\")\n",
        "print(9*\"*\", 3*\"-\", 2*\"*\")"
      ],
      "metadata": {
        "colab": {
          "base_uri": "https://localhost:8080/"
        },
        "id": "0FtJavi4XuvR",
        "outputId": "b8392783-d45a-4d4b-91b6-4851ae2fb90b"
      },
      "execution_count": null,
      "outputs": [
        {
          "output_type": "stream",
          "name": "stdout",
          "text": [
            "********* --- **\n",
            "******* ----- **\n",
            "***** ------- **\n",
            "******* ----- **\n",
            "********* --- **\n"
          ]
        }
      ]
    },
    {
      "cell_type": "markdown",
      "source": [
        "### ÖRNEK 9: yarışma programı"
      ],
      "metadata": {
        "id": "I7RNbC1bwDSn"
      }
    },
    {
      "cell_type": "markdown",
      "source": [
        "### ÖRNEK 10: "
      ],
      "metadata": {
        "id": "Qcx0mCKQ0dPB"
      }
    },
    {
      "cell_type": "code",
      "source": [
        "#Örnek 9:\n",
        "#Yarışma programı. Sorular sayısal ve string (metinsel) cevaplı olsun.\n",
        "#1.soru\n",
        "p=0\n",
        "print(\"Bu bir yarışma programıdır\")\n",
        "print(\"==========================\")\n",
        "print(\"Soru:1 12x12=?\")\n",
        "cevap = int(input(\"Cevabınız? \"))\n",
        "if cevap==144:\n",
        "  print(\"Tebrikler\")\n",
        "  print(\"Puan kazandınız\")\n",
        "  p = p + 10\n",
        "else:\n",
        "  print(\"Yanlış cevap\")\n",
        "  p = p - 10\n",
        "  \n",
        "#2.soru\n",
        "cevap = input(\"\\nAlmanya'nın başkenti neresidir? cevabı küçük harf ile yazın \")\n",
        "if cevap==\"berlin\":\n",
        "  print(\"Tebrikler\")\n",
        "  print('Puan kazandınız')\n",
        "  p = p +5\n",
        "else:\n",
        "  print(\"Yanlış cevap\")\n",
        "  p=p-5\n",
        "print(\"\\nYarışma sona erdi.\")\n",
        "print(\"Yarışmadan \", p, \" puan kazandınız.\")"
      ],
      "metadata": {
        "id": "gFODmUwtC1DP",
        "colab": {
          "base_uri": "https://localhost:8080/"
        },
        "outputId": "02532464-8371-4cb5-f35e-deb68a2880d9"
      },
      "execution_count": null,
      "outputs": [
        {
          "output_type": "stream",
          "name": "stdout",
          "text": [
            "Bu bir yarışma programıdır\n",
            "==========================\n",
            "Soru:1 12x12=?\n",
            "Cevabınız? 144\n",
            "Tebrikler\n",
            "Puan kazandınız\n",
            "\n",
            "Almanya'nın başkenti neresidir? cevabı küçük harf ile yazın ROMA\n",
            "Yanlış cevap\n",
            "\n",
            "Yarışma sona erdi.\n",
            "Yarışmadan  5  puan kazandınız.\n"
          ]
        }
      ]
    },
    {
      "cell_type": "markdown",
      "source": [
        "# ◀ ÖLÇME DEĞERLENDİRME"
      ],
      "metadata": {
        "id": "dnG9PJhrogSc"
      }
    },
    {
      "cell_type": "markdown",
      "source": [
        "## ⚫ HATALI PROGRAMLAR"
      ],
      "metadata": {
        "id": "M9TnWmjqwRTH"
      }
    },
    {
      "cell_type": "markdown",
      "source": [
        "01 **İki sayının toplamını yazan program.** Hatayı düzeltiniz.\n",
        "```\n",
        "a = 100\n",
        "b = \"98\"\n",
        "c = a+b\n",
        "print(c)\n",
        "```"
      ],
      "metadata": {
        "id": "Tp3Rje5Gpq9u"
      }
    },
    {
      "cell_type": "markdown",
      "source": [
        "02 **Klavyeden girilen sayının karesini hesaplayıp yazan program.** Hatayı düzeltiniz.\n",
        "```\n",
        "girilen sayı = input(\"Sayınızı giriniz:\")\n",
        "kare = girilen sayı*girilen sayı\n",
        "print(kare)\n",
        "```"
      ],
      "metadata": {
        "id": "B2Jk-jfvrMB8"
      }
    },
    {
      "cell_type": "markdown",
      "source": [
        "03 **Klavyeden girilen 2 kelimeyi birleştirip yazan program.** Hatayı düzeltiniz.\n",
        "```\n",
        "kelime1 = input(\"1.kelimeyi giriniz:\")\n",
        "kelime2 = input(\"2.kelimeyi giriniz:\")\n",
        "a = \"kelime1\" + \"kelime2\"\n",
        "print(a)\n",
        "```"
      ],
      "metadata": {
        "id": "QBX1ctBWq3bx"
      }
    },
    {
      "cell_type": "markdown",
      "source": [
        "04 **Doğru parolayı (parola python) girince MERHABA yazan program.** Hatayı düzeltiniz.\n",
        "```\n",
        "parola = input(\"Parolayı giriniz:\")\n",
        "if parola=python\n",
        "print(\"MERHABA\")\n",
        "else\n",
        "print(\"HATALI PAROLA GİRDİNİZ.\")\n",
        "```"
      ],
      "metadata": {
        "id": "awFLE0kes49r"
      }
    },
    {
      "cell_type": "markdown",
      "source": [
        "05 **Doğru parolayı (parola python) girince MERHABA yazan program. Parola tamamen büyük veya tamamen küçük harfle girilebilir.** Hatayı düzeltiniz.\n",
        "```\n",
        "parola = input(\"Parolayı giriniz:\")\n",
        "if parola=python:\n",
        " print(\"MERHABA\")\n",
        "else:\n",
        " print(\"HATALI PAROLA GİRDİNİZ.\")\n",
        "```"
      ],
      "metadata": {
        "id": "svJCity-uB8r"
      }
    },
    {
      "cell_type": "markdown",
      "source": [
        "## ⚪ KODLAMA SORULARI"
      ],
      "metadata": {
        "id": "9qC8wLq2wbWC"
      }
    },
    {
      "cell_type": "code",
      "source": [
        "#Rastgele 2 sayının toplamını soru haline getirip soran\n",
        "# ve cevabını bilmemizi isteyen program.\n"
      ],
      "metadata": {
        "id": "SgIsywqwA251"
      },
      "execution_count": null,
      "outputs": []
    },
    {
      "cell_type": "code",
      "source": [
        "#Kişiler arasından rastgele hediye çekilişi yapan program.\n",
        "kisi = [\"ÖZLEM\", \"ADA\",\"EGE\",\"TOPRAK\",\"DENİZ\", \"AYDIN\",\"ASYA\",\"TÜRKAN\",\"ARDA\"]\n",
        "import random\n",
        "a = random.randint(0,8)\n",
        "print(\"Kişi sayısı: \", len(kisi) )\n",
        "print(kisi[a])"
      ],
      "metadata": {
        "colab": {
          "base_uri": "https://localhost:8080/"
        },
        "id": "xua4jTS9BFpp",
        "outputId": "22737dd2-0e83-4d49-f36c-1606cf0751d7"
      },
      "execution_count": null,
      "outputs": [
        {
          "output_type": "stream",
          "name": "stdout",
          "text": [
            "Kişi sayısı:  9\n",
            "EGE\n"
          ]
        }
      ]
    }
  ]
}